{
 "cells": [
  {
   "cell_type": "markdown",
   "id": "variable-retirement",
   "metadata": {},
   "source": [
    "# Watch a temperature : scan temperature *v* time\n",
    "\n",
    "*APS Training for Bluesky Data Acquisition*.\n",
    "\n",
    "**Objective**\n",
    "\n",
    "Measure the temperature for a short period and compute basics measures of the collected readings.\n",
    "\n",
    "## Start the `instrument` package"
   ]
  },
  {
   "cell_type": "code",
   "execution_count": 1,
   "id": "acoustic-touch",
   "metadata": {},
   "outputs": [
    {
     "name": "stderr",
     "output_type": "stream",
     "text": [
      "I Tue-11:37:39 - /home/prjemian/Documents/projects/BCDA-APS/epics-bluesky-vm/instrument/iocs/check_iocs.py\n"
     ]
    },
    {
     "name": "stdout",
     "output_type": "stream",
     "text": [
      "Activating auto-logging. Current session state plus future input saved.\n",
      "Filename       : /home/prjemian/Documents/projects/BCDA-APS/epics-bluesky-vm/.logs/ipython_console.log\n",
      "Mode           : rotate\n",
      "Output logging : True\n",
      "Raw input log  : False\n",
      "Timestamping   : True\n",
      "State          : active\n"
     ]
    },
    {
     "name": "stderr",
     "output_type": "stream",
     "text": [
      "I Tue-11:37:39 - EPICS IOCs ready...\n",
      "I Tue-11:37:39 - #### Bluesky Framework ####\n",
      "I Tue-11:37:39 - /home/prjemian/Documents/projects/BCDA-APS/epics-bluesky-vm/instrument/framework/check_python.py\n",
      "I Tue-11:37:39 - /home/prjemian/Documents/projects/BCDA-APS/epics-bluesky-vm/instrument/framework/check_bluesky.py\n",
      "I Tue-11:37:40 - /home/prjemian/Documents/projects/BCDA-APS/epics-bluesky-vm/instrument/framework/initialize.py\n",
      "I Tue-11:37:40 - using databroker catalog 'training'\n",
      "I Tue-11:37:40 - /home/prjemian/Documents/projects/BCDA-APS/epics-bluesky-vm/instrument/framework/metadata.py\n",
      "I Tue-11:37:40 - #### Devices ####\n",
      "I Tue-11:37:40 - /home/prjemian/Documents/projects/BCDA-APS/epics-bluesky-vm/instrument/devices/area_detector.py\n",
      "I Tue-11:37:40 - /home/prjemian/Documents/projects/BCDA-APS/epics-bluesky-vm/instrument/devices/calculation_records.py\n",
      "I Tue-11:37:42 - /home/prjemian/Documents/projects/BCDA-APS/epics-bluesky-vm/instrument/devices/ioc_stats.py\n",
      "I Tue-11:37:42 - /home/prjemian/Documents/projects/BCDA-APS/epics-bluesky-vm/instrument/devices/motors.py\n",
      "I Tue-11:37:43 - /home/prjemian/Documents/projects/BCDA-APS/epics-bluesky-vm/instrument/devices/noisy_detector.py\n",
      "I Tue-11:37:43 - /home/prjemian/Documents/projects/BCDA-APS/epics-bluesky-vm/instrument/devices/scaler.py\n",
      "I Tue-11:37:45 - /home/prjemian/Documents/projects/BCDA-APS/epics-bluesky-vm/instrument/devices/shutter_simulator.py\n",
      "I Tue-11:37:45 - /home/prjemian/Documents/projects/BCDA-APS/epics-bluesky-vm/instrument/devices/temperature_signal.py\n",
      "I Tue-11:37:45 - #### Callbacks ####\n",
      "I Tue-11:37:45 - /home/prjemian/Documents/projects/BCDA-APS/epics-bluesky-vm/instrument/callbacks/spec_data_file_writer.py\n",
      "I Tue-11:37:45 - writing to SPEC file: /home/prjemian/Documents/projects/BCDA-APS/epics-bluesky-vm/20210413-113745.dat\n",
      "I Tue-11:37:45 -    >>>>   Using default SPEC file name   <<<<\n",
      "I Tue-11:37:45 -    file will be created when bluesky ends its next scan\n",
      "I Tue-11:37:45 -    to change SPEC file, use command:   newSpecFile('title')\n",
      "I Tue-11:37:45 - #### Plans ####\n",
      "I Tue-11:37:45 - /home/prjemian/Documents/projects/BCDA-APS/epics-bluesky-vm/instrument/plans/peak_finder_example.py\n",
      "I Tue-11:37:45 - #### Utilities ####\n",
      "I Tue-11:37:45 - /home/prjemian/Documents/projects/BCDA-APS/epics-bluesky-vm/instrument/utils/image_analysis.py\n",
      "I Tue-11:37:45 - #### Startup is complete. ####\n"
     ]
    }
   ],
   "source": [
    "from instrument.collection import *"
   ]
  },
  {
   "cell_type": "markdown",
   "id": "latin-intermediate",
   "metadata": {},
   "source": [
    "Add the name of this notebook as metadata to every run.  This is done by adding to the RunEngine's metadata dictionary (`RE.md`), content that will be added to the *start* document of every run.  The metadata is useful documentation about a run and can be used for several purposes, such as to record a general condition (such as the name of this notebook) or to identify these runs from a database search."
   ]
  },
  {
   "cell_type": "code",
   "execution_count": 2,
   "id": "express-craps",
   "metadata": {},
   "outputs": [],
   "source": [
    "RE.md[\"notebook\"] = \"watch_temperature\""
   ]
  },
  {
   "cell_type": "markdown",
   "id": "unknown-capability",
   "metadata": {},
   "source": [
    "## Describe\n",
    "\n",
    "Note the initial settings of the `temperature` (controller).  It's actually an EPICS *swait* record that simulates a temperature sensor and controller.  It has a setpoint, a readback, and a few other support attributes as shown.  A Random noise level is part of the simulation.  We'll compute that noise level from the standard deviation of the measurements."
   ]
  },
  {
   "cell_type": "code",
   "execution_count": 3,
   "id": "jewish-manchester",
   "metadata": {},
   "outputs": [
    {
     "name": "stdout",
     "output_type": "stream",
     "text": [
      "==================== ===== ==========================\n",
      "name                 value timestamp                 \n",
      "==================== ===== ==========================\n",
      "temperature_setpoint 25.0  2021-04-13 11:37:45.747165\n",
      "temperature          25.0  2021-04-13 11:37:45.748654\n",
      "==================== ===== ==========================\n",
      "\n"
     ]
    },
    {
     "data": {
      "text/plain": [
       "<pyRestTable.rest_table.Table at 0x7f66b6c934f0>"
      ]
     },
     "execution_count": 3,
     "metadata": {},
     "output_type": "execute_result"
    }
   ],
   "source": [
    "listdevice(temperature)"
   ]
  },
  {
   "cell_type": "markdown",
   "id": "happy-links",
   "metadata": {},
   "source": [
    "## Read\n",
    "\n",
    "The `temperature` setpoint can be used just as if it was a motor (it is based on the [`ophyd.PVPositioner`](https://blueskyproject.io/ophyd/positioners.html?highlight=pvpositioner#pvpositioner).  The simulator includes both noise and a limited ramp rate.  A move of more than a couple degrees will take a measureable time, simulating a physical system.\n",
    "\n",
    "Get the current temperature."
   ]
  },
  {
   "cell_type": "code",
   "execution_count": 4,
   "id": "unnecessary-organ",
   "metadata": {},
   "outputs": [
    {
     "name": "stdout",
     "output_type": "stream",
     "text": [
      "temperature.position = 25.0\n"
     ]
    }
   ],
   "source": [
    "print(f\"{temperature.position = }\")"
   ]
  },
  {
   "cell_type": "markdown",
   "id": "informed-affect",
   "metadata": {},
   "source": [
    "Use the `.read()` method to get the data"
   ]
  },
  {
   "cell_type": "code",
   "execution_count": 5,
   "id": "satellite-mouth",
   "metadata": {},
   "outputs": [
    {
     "data": {
      "text/plain": [
       "OrderedDict([('temperature_setpoint',\n",
       "              {'value': 25.0, 'timestamp': 1618331865.747165}),\n",
       "             ('temperature', {'value': 25.0, 'timestamp': 1618331865.748654})])"
      ]
     },
     "execution_count": 5,
     "metadata": {},
     "output_type": "execute_result"
    }
   ],
   "source": [
    "temperature.read()"
   ]
  },
  {
   "cell_type": "markdown",
   "id": "particular-score",
   "metadata": {},
   "source": [
    "## Move\n",
    "\n",
    "Change the temperature by 10 degrees (and measure how long this took).  Use the *relative* move magic command: `%movr`"
   ]
  },
  {
   "cell_type": "code",
   "execution_count": 6,
   "id": "several-guyana",
   "metadata": {},
   "outputs": [
    {
     "name": "stdout",
     "output_type": "stream",
     "text": [
      "\n",
      "temperature:  19%|████▋                    | 1.872/10.0 [00:01<00:05,  1.42C/s]\n",
      "temperature:  41%|██████████▏              | 4.059/10.0 [00:03<00:04,  1.22C/s]\n",
      "temperature:  60%|███████████████          | 6.033/10.0 [00:05<00:03,  1.13C/s]\n",
      "temperature:  80%|████████████████████     | 8.011/10.0 [00:07<00:01,  1.09C/s]\n",
      "temperature: 100%|██████████████████████████| 10.0/10.0 [00:09<00:00,  1.07C/s]\n",
      "temperature [In progress. No progress bar available.]                          \n",
      "                                                                               \n",
      "time.time()-t0 = 9.348 s\n",
      "temperature.position = 35.240901808194096\n"
     ]
    }
   ],
   "source": [
    "import time\n",
    "t0 = time.time()\n",
    "%movr temperature 10\n",
    "print(f\"{time.time()-t0 = :.3f} s\")\n",
    "print(f\"{temperature.position = }\")"
   ]
  },
  {
   "cell_type": "markdown",
   "id": "hydraulic-midnight",
   "metadata": {},
   "source": [
    "## Count\n",
    "Use the bluesky RunEngine, `RE`, and a standard plan, `bp.count()`, to count the temperature."
   ]
  },
  {
   "cell_type": "code",
   "execution_count": 7,
   "id": "celtic-therapy",
   "metadata": {},
   "outputs": [
    {
     "name": "stdout",
     "output_type": "stream",
     "text": [
      "\n",
      "\n",
      "Transient Scan ID: 46     Time: 2021-04-13 11:37:55\n",
      "Persistent Unique Scan ID: '1f7de125-d1a1-410d-8cef-cd7c6d2e7f60'\n",
      "New stream: 'baseline'\n",
      "New stream: 'primary'\n",
      "+-----------+------------+----------------------+-------------+\n",
      "|   seq_num |       time | temperature_setpoint | temperature |\n",
      "+-----------+------------+----------------------+-------------+\n",
      "|         1 | 11:37:55.4 |             35.00000 |    35.24090 |\n",
      "+-----------+------------+----------------------+-------------+\n",
      "generator count ['1f7de125'] (scan num: 46)\n"
     ]
    },
    {
     "data": {
      "text/plain": [
       "('1f7de125-d1a1-410d-8cef-cd7c6d2e7f60',)"
      ]
     },
     "execution_count": 7,
     "metadata": {},
     "output_type": "execute_result"
    }
   ],
   "source": [
    "RE(bp.count([temperature]))"
   ]
  },
  {
   "cell_type": "markdown",
   "id": "personalized-senate",
   "metadata": {},
   "source": [
    "Take ten readings by adding the `num=10` keyword argument (a.k.a. *kwarg*)."
   ]
  },
  {
   "cell_type": "code",
   "execution_count": 8,
   "id": "organic-compound",
   "metadata": {},
   "outputs": [
    {
     "name": "stdout",
     "output_type": "stream",
     "text": [
      "\n",
      "\n",
      "Transient Scan ID: 47     Time: 2021-04-13 11:37:55\n",
      "Persistent Unique Scan ID: '586a30d3-ae48-4ff3-bf72-4cc3d4f03675'\n",
      "New stream: 'baseline'\n",
      "New stream: 'primary'\n",
      "+-----------+------------+----------------------+-------------+\n",
      "|   seq_num |       time | temperature_setpoint | temperature |\n",
      "+-----------+------------+----------------------+-------------+\n",
      "|         1 | 11:37:55.9 |             35.00000 |    35.24090 |\n",
      "|         2 | 11:37:56.0 |             35.00000 |    35.24090 |\n",
      "|         3 | 11:37:56.1 |             35.00000 |    35.24090 |\n",
      "|         4 | 11:37:56.2 |             35.00000 |    35.24090 |\n",
      "|         5 | 11:37:56.2 |             35.00000 |    35.24090 |\n",
      "|         6 | 11:37:56.3 |             35.00000 |    35.24090 |\n",
      "|         7 | 11:37:56.4 |             35.00000 |    35.24090 |\n",
      "|         8 | 11:37:56.4 |             35.00000 |    35.24090 |\n",
      "|         9 | 11:37:56.5 |             35.00000 |    35.24090 |\n",
      "|        10 | 11:37:56.6 |             35.00000 |    35.24090 |\n",
      "+-----------+------------+----------------------+-------------+\n",
      "generator count ['586a30d3'] (scan num: 47)\n"
     ]
    },
    {
     "data": {
      "text/plain": [
       "('586a30d3-ae48-4ff3-bf72-4cc3d4f03675',)"
      ]
     },
     "execution_count": 8,
     "metadata": {},
     "output_type": "execute_result"
    },
    {
     "data": {
      "image/png": "[encoded data removed]",
      "text/plain": [
       "<Figure size 360x720 with 2 Axes>"
      ]
     },
     "metadata": {
      "needs_background": "light"
     },
     "output_type": "display_data"
    }
   ],
   "source": [
    "RE(bp.count([temperature], num=10))"
   ]
  },
  {
   "cell_type": "markdown",
   "id": "acquired-australian",
   "metadata": {},
   "source": [
    "Do all the readings look the same?  Perhaps there are only two different values (first one, then the other)?  That's because our measurements were only *reading* the temperature without waiting for it to update.  (If there are two different values, we caught the moment when EPICS updated the calculation.)  The table above showed `temperature_scanning_rate 5` which means EPICS is only updating every 2 seconds."
   ]
  },
  {
   "cell_type": "code",
   "execution_count": 9,
   "id": "synthetic-malpractice",
   "metadata": {},
   "outputs": [
    {
     "data": {
      "text/plain": [
       "'2 second'"
      ]
     },
     "execution_count": 9,
     "metadata": {},
     "output_type": "execute_result"
    }
   ],
   "source": [
    "temperature.scanning_rate.get(as_string=True)"
   ]
  },
  {
   "cell_type": "markdown",
   "id": "reliable-abuse",
   "metadata": {},
   "source": [
    "## Adjust the measurement interval\n",
    "We need to slow down the measurement to this interval by adding the `delay=2` kwarg, sampling every 2 seconds."
   ]
  },
  {
   "cell_type": "code",
   "execution_count": 10,
   "id": "devoted-northern",
   "metadata": {},
   "outputs": [
    {
     "name": "stdout",
     "output_type": "stream",
     "text": [
      "\n",
      "\n",
      "Transient Scan ID: 48     Time: 2021-04-13 11:37:57\n",
      "Persistent Unique Scan ID: 'd212b165-bcb6-4dd6-96eb-8e024f461220'\n",
      "New stream: 'baseline'\n",
      "New stream: 'primary'\n",
      "+-----------+------------+----------------------+-------------+\n",
      "|   seq_num |       time | temperature_setpoint | temperature |\n",
      "+-----------+------------+----------------------+-------------+\n",
      "|         1 | 11:37:57.3 |             35.00000 |    35.34834 |\n",
      "|         2 | 11:37:59.3 |             35.00000 |    34.73330 |\n",
      "|         3 | 11:38:01.3 |             35.00000 |    34.58548 |\n",
      "|         4 | 11:38:03.3 |             35.00000 |    34.68346 |\n",
      "|         5 | 11:38:05.3 |             35.00000 |    35.21107 |\n",
      "|         6 | 11:38:07.3 |             35.00000 |    35.37070 |\n",
      "|         7 | 11:38:09.3 |             35.00000 |    35.35594 |\n",
      "|         8 | 11:38:11.3 |             35.00000 |    34.99615 |\n",
      "|         9 | 11:38:13.3 |             35.00000 |    35.13532 |\n",
      "|        10 | 11:38:15.3 |             35.00000 |    34.55788 |\n",
      "+-----------+------------+----------------------+-------------+\n",
      "generator count ['d212b165'] (scan num: 48)\n"
     ]
    },
    {
     "data": {
      "text/plain": [
       "('d212b165-bcb6-4dd6-96eb-8e024f461220',)"
      ]
     },
     "execution_count": 10,
     "metadata": {},
     "output_type": "execute_result"
    },
    {
     "data": {
      "image/png": "[encoded data removed]",
      "text/plain": [
       "<Figure size 360x720 with 2 Axes>"
      ]
     },
     "metadata": {
      "needs_background": "light"
     },
     "output_type": "display_data"
    }
   ],
   "source": [
    "RE(bp.count([temperature], num=10, delay=2))"
   ]
  },
  {
   "cell_type": "markdown",
   "id": "linear-invitation",
   "metadata": {},
   "source": [
    "Let's reduce the update interval that EPICS uses, to the shortest interval EPICS provides, so our measurements do not take so long."
   ]
  },
  {
   "cell_type": "code",
   "execution_count": 11,
   "id": "regulated-practice",
   "metadata": {},
   "outputs": [
    {
     "name": "stdout",
     "output_type": "stream",
     "text": [
      "('Passive', 'Event', 'I/O Intr', '10 second', '5 second', '2 second', '1 second', '.5 second', '.2 second', '.1 second')\n"
     ]
    },
    {
     "data": {
      "text/plain": [
       "'2 second'"
      ]
     },
     "execution_count": 11,
     "metadata": {},
     "output_type": "execute_result"
    }
   ],
   "source": [
    "# print the list of possible values\n",
    "print(temperature.scanning_rate.enum_strs)\n",
    "\n",
    "# set the shortest interval, by name\n",
    "temperature.scanning_rate.put(\".1 second\")\n",
    "temperature.scanning_rate.get(as_string=True)"
   ]
  },
  {
   "cell_type": "markdown",
   "id": "executive-cooler",
   "metadata": {},
   "source": [
    "## Collect our measurements\n",
    "Repeat the measurement, this time with more observations.\n",
    "\n",
    "Also, we'll add a metadata key:value pair so that later we can find this data more easily in the database.  Most plans take a `md={}` kwarg where the value is a Python dictionary with the key:value pair(s) to add to the run's metadata."
   ]
  },
  {
   "cell_type": "code",
   "execution_count": 12,
   "id": "worse-wings",
   "metadata": {},
   "outputs": [
    {
     "name": "stdout",
     "output_type": "stream",
     "text": [
      "\n",
      "\n",
      "Transient Scan ID: 49     Time: 2021-04-13 11:38:17\n",
      "Persistent Unique Scan ID: '798369e3-0f42-4666-8823-2485e1407e65'\n",
      "New stream: 'baseline'\n",
      "New stream: 'primary'\n",
      "+-----------+------------+----------------------+-------------+\n",
      "|   seq_num |       time | temperature_setpoint | temperature |\n",
      "+-----------+------------+----------------------+-------------+\n",
      "|         1 | 11:38:17.9 |             35.00000 |    34.78574 |\n",
      "|         2 | 11:38:18.0 |             35.00000 |    34.86652 |\n",
      "|         3 | 11:38:18.1 |             35.00000 |    34.56160 |\n",
      "|         4 | 11:38:18.2 |             35.00000 |    35.23048 |\n",
      "|         5 | 11:38:18.3 |             35.00000 |    34.50099 |\n",
      "|         6 | 11:38:18.4 |             35.00000 |    35.21287 |\n",
      "|         7 | 11:38:18.5 |             35.00000 |    34.50694 |\n",
      "|         8 | 11:38:18.6 |             35.00000 |    35.33565 |\n",
      "|         9 | 11:38:18.7 |             35.00000 |    34.71675 |\n",
      "|        10 | 11:38:18.8 |             35.00000 |    34.97184 |\n",
      "|        11 | 11:38:18.9 |             35.00000 |    35.01128 |\n",
      "|        12 | 11:38:19.0 |             35.00000 |    35.47890 |\n",
      "|        13 | 11:38:19.1 |             35.00000 |    35.31827 |\n",
      "|        14 | 11:38:19.2 |             35.00000 |    34.70710 |\n",
      "|        15 | 11:38:19.3 |             35.00000 |    35.16488 |\n",
      "|        16 | 11:38:19.4 |             35.00000 |    34.93998 |\n",
      "|        17 | 11:38:19.5 |             35.00000 |    35.16937 |\n",
      "|        18 | 11:38:19.6 |             35.00000 |    34.81714 |\n",
      "|        19 | 11:38:19.7 |             35.00000 |    34.86599 |\n",
      "|        20 | 11:38:19.8 |             35.00000 |    34.74289 |\n",
      "|        21 | 11:38:19.9 |             35.00000 |    35.04186 |\n",
      "|        22 | 11:38:20.0 |             35.00000 |    35.35591 |\n",
      "|        23 | 11:38:20.1 |             35.00000 |    34.78096 |\n",
      "|        24 | 11:38:20.2 |             35.00000 |    34.62024 |\n",
      "|        25 | 11:38:20.3 |             35.00000 |    35.01919 |\n",
      "|        26 | 11:38:20.4 |             35.00000 |    34.59580 |\n",
      "|        27 | 11:38:20.5 |             35.00000 |    34.54564 |\n",
      "|        28 | 11:38:20.6 |             35.00000 |    34.65705 |\n",
      "|        29 | 11:38:20.7 |             35.00000 |    35.44003 |\n",
      "|        30 | 11:38:20.8 |             35.00000 |    34.73954 |\n",
      "|        31 | 11:38:20.9 |             35.00000 |    34.89568 |\n",
      "|        32 | 11:38:21.0 |             35.00000 |    35.26320 |\n",
      "|        33 | 11:38:21.1 |             35.00000 |    35.37366 |\n",
      "|        34 | 11:38:21.2 |             35.00000 |    34.98554 |\n",
      "|        35 | 11:38:21.3 |             35.00000 |    35.01705 |\n",
      "|        36 | 11:38:21.4 |             35.00000 |    35.32097 |\n",
      "|        37 | 11:38:21.5 |             35.00000 |    35.21392 |\n",
      "|        38 | 11:38:21.6 |             35.00000 |    35.12098 |\n",
      "|        39 | 11:38:21.7 |             35.00000 |    34.64199 |\n",
      "|        40 | 11:38:21.8 |             35.00000 |    35.35240 |\n",
      "|        41 | 11:38:21.9 |             35.00000 |    35.40088 |\n",
      "|        42 | 11:38:22.0 |             35.00000 |    34.71637 |\n",
      "|        43 | 11:38:22.1 |             35.00000 |    34.66887 |\n",
      "|        44 | 11:38:22.3 |             35.00000 |    34.56860 |\n",
      "|        45 | 11:38:22.4 |             35.00000 |    34.86159 |\n",
      "|        46 | 11:38:22.5 |             35.00000 |    35.00608 |\n",
      "|        47 | 11:38:22.6 |             35.00000 |    34.50230 |\n",
      "|        48 | 11:38:22.7 |             35.00000 |    35.22456 |\n",
      "|        49 | 11:38:22.8 |             35.00000 |    35.42502 |\n",
      "+-----------+------------+----------------------+-------------+\n",
      "|   seq_num |       time | temperature_setpoint | temperature |\n",
      "+-----------+------------+----------------------+-------------+\n",
      "|        50 | 11:38:22.9 |             35.00000 |    34.72208 |\n",
      "+-----------+------------+----------------------+-------------+\n",
      "generator count ['798369e3'] (scan num: 49)\n"
     ]
    },
    {
     "data": {
      "text/plain": [
       "('798369e3-0f42-4666-8823-2485e1407e65',)"
      ]
     },
     "execution_count": 12,
     "metadata": {},
     "output_type": "execute_result"
    },
    {
     "data": {
      "image/png": "[encoded data removed]",
      "text/plain": [
       "<Figure size 360x720 with 2 Axes>"
      ]
     },
     "metadata": {
      "needs_background": "light"
     },
     "output_type": "display_data"
    }
   ],
   "source": [
    "RE(bp.count([temperature], num=50, delay=0.1, md={\"motive\": \"tscan\"}))"
   ]
  },
  {
   "cell_type": "markdown",
   "id": "weighted-blink",
   "metadata": {},
   "source": [
    "## Get the data (from the database)\n",
    "Let's get the measured data from the database now.  It's the most recent bluesky run, so an index of `-1` will identify it."
   ]
  },
  {
   "cell_type": "code",
   "execution_count": 13,
   "id": "proprietary-center",
   "metadata": {},
   "outputs": [],
   "source": [
    "dataset = db.v2[-1].primary.read()"
   ]
  },
  {
   "cell_type": "markdown",
   "id": "remarkable-economics",
   "metadata": {},
   "source": [
    "Let's get the values as a 1-D numpy array."
   ]
  },
  {
   "cell_type": "code",
   "execution_count": 14,
   "id": "floral-suicide",
   "metadata": {},
   "outputs": [],
   "source": [
    "T = dataset[\"temperature\"].values"
   ]
  },
  {
   "cell_type": "markdown",
   "id": "vulnerable-response",
   "metadata": {},
   "source": [
    "## Compute the statistics\n",
    "Use the methods of numpy arrays to compute maximum, mean, standard deviation, and minimum.  Looks nicer in a table."
   ]
  },
  {
   "cell_type": "code",
   "execution_count": 15,
   "id": "brutal-andrew",
   "metadata": {},
   "outputs": [
    {
     "name": "stdout",
     "output_type": "stream",
     "text": [
      "======= ===================\n",
      "measure value              \n",
      "======= ===================\n",
      "max     35.478896772716865 \n",
      "mean    34.95966277561608  \n",
      "dev     0.29564720403532396\n",
      "min     34.50099183642328  \n",
      "#       50                 \n",
      "======= ===================\n",
      "\n"
     ]
    }
   ],
   "source": [
    "table = pyRestTable.Table()\n",
    "table.addLabel(\"measure\")\n",
    "table.addLabel(\"value\")\n",
    "table.addRow((\"max\", T.max()))\n",
    "table.addRow((\"mean\", T.mean()))\n",
    "table.addRow((\"dev\", T.std()))\n",
    "table.addRow((\"min\", T.min()))\n",
    "table.addRow((\"#\", len(T)))\n",
    "print(table)"
   ]
  },
  {
   "cell_type": "markdown",
   "id": "advised-southeast",
   "metadata": {},
   "source": [
    "Let's replot that data for comparison."
   ]
  },
  {
   "cell_type": "code",
   "execution_count": 16,
   "id": "ongoing-adult",
   "metadata": {},
   "outputs": [
    {
     "data": {
      "text/plain": [
       "[<matplotlib.lines.Line2D at 0x7f66b6087280>]"
      ]
     },
     "execution_count": 16,
     "metadata": {},
     "output_type": "execute_result"
    },
    {
     "data": {
      "image/png": "[encoded data removed]",
      "text/plain": [
       "<Figure size 432x288 with 1 Axes>"
      ]
     },
     "metadata": {
      "needs_background": "light"
     },
     "output_type": "display_data"
    }
   ],
   "source": [
    "dataset[\"temperature\"].plot(marker=\"o\", color=\"blue\")"
   ]
  },
  {
   "cell_type": "markdown",
   "id": "inappropriate-shelter",
   "metadata": {},
   "source": [
    "## Challenges\n",
    "\n",
    "Try these additional modifications or activities.\n",
    "\n",
    "1. Scan using the temperature as a positioner (`bp.scan()`)\n",
    "2. Record temperature values as an additional data stream during a scan."
   ]
  }
 ],
 "metadata": {
  "kernelspec": {
   "display_name": "Python 3",
   "language": "python",
   "name": "python3"
  },
  "language_info": {
   "codemirror_mode": {
    "name": "ipython",
    "version": 3
   },
   "file_extension": ".py",
   "mimetype": "text/x-python",
   "name": "python",
   "nbconvert_exporter": "python",
   "pygments_lexer": "ipython3",
   "version": "3.8.8"
  }
 },
 "nbformat": 4,
 "nbformat_minor": 5
}
