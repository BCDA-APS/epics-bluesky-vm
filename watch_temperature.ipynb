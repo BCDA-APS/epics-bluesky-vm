{
 "cells": [
  {
   "cell_type": "markdown",
   "id": "marine-walker",
   "metadata": {},
   "source": [
    "# Watch a temperature : scan temperature *v* time\n",
    "\n",
    "*APS Training for Bluesky Data Acquisition*.\n",
    "\n",
    "**Objective**\n",
    "\n",
    "Measure the temperature for a short period and compute basics measures of the collected readings.\n",
    "\n",
    "## Start the `instrument` package"
   ]
  },
  {
   "cell_type": "code",
   "execution_count": 1,
   "id": "strategic-stamp",
   "metadata": {},
   "outputs": [
    {
     "name": "stderr",
     "output_type": "stream",
     "text": [
      "I Sun-14:14:39 - ############################################################ startup\n",
      "I Sun-14:14:39 - logging started\n",
      "I Sun-14:14:39 - logging level = 10\n",
      "I Sun-14:14:39 - /home/apsu/bluesky/instrument/collection.py\n",
      "I Sun-14:14:39 - /home/apsu/bluesky/instrument/mpl/notebook.py\n"
     ]
    },
    {
     "name": "stdout",
     "output_type": "stream",
     "text": [
      "Activating auto-logging. Current session state plus future input saved.\n",
      "Filename       : /home/apsu/bluesky/.logs/ipython_console.log\n",
      "Mode           : rotate\n",
      "Output logging : True\n",
      "Raw input log  : False\n",
      "Timestamping   : True\n",
      "State          : active\n"
     ]
    },
    {
     "name": "stderr",
     "output_type": "stream",
     "text": [
      "I Sun-14:14:39 - /home/apsu/bluesky/instrument/iocs/check_iocs.py\n",
      "I Sun-14:14:39 - EPICS IOCs ready...\n"
     ]
    },
    {
     "name": "stdout",
     "output_type": "stream",
     "text": [
      "cannot connect to IOC:float1.NAME\n"
     ]
    },
    {
     "name": "stderr",
     "output_type": "stream",
     "text": [
      "I Sun-14:14:40 - EPICS registers IOC not running.  Starting now...\n",
      " 6238.IOC_registers (04/11/2021 02:14:40 PM) (Detached) 1 Socket in /run/screen/S-apsu.\n",
      "D Sun-14:14:40 - registers IOC started\n",
      "I Sun-14:14:40 - There is a screen on:\n",
      "\t6238.IOC_registers\t(04/11/2021 02:14:40 PM)\t(Detached)\n",
      "1 Socket in /run/screen/S-apsu.\n",
      "I Sun-14:14:40 - #### Bluesky Framework ####\n",
      "I Sun-14:14:41 - /home/apsu/bluesky/instrument/framework/check_python.py\n",
      "I Sun-14:14:41 - /home/apsu/bluesky/instrument/framework/check_bluesky.py\n",
      "I Sun-14:14:41 - /home/apsu/bluesky/instrument/framework/initialize.py\n",
      "I Sun-14:14:42 - using databroker catalog 'training'\n",
      "I Sun-14:14:42 - /home/apsu/bluesky/instrument/framework/metadata.py\n",
      "I Sun-14:14:42 - #### Devices ####\n",
      "I Sun-14:14:42 - /home/apsu/bluesky/instrument/devices/area_detector.py\n",
      "I Sun-14:14:42 - /home/apsu/bluesky/instrument/devices/calculation_records.py\n",
      "I Sun-14:14:46 - /home/apsu/bluesky/instrument/devices/ioc_stats.py\n",
      "I Sun-14:14:46 - /home/apsu/bluesky/instrument/devices/motors.py\n",
      "I Sun-14:14:46 - /home/apsu/bluesky/instrument/devices/noisy_detector.py\n",
      "I Sun-14:14:46 - /home/apsu/bluesky/instrument/devices/scaler.py\n",
      "I Sun-14:14:48 - /home/apsu/bluesky/instrument/devices/shutter_simulator.py\n",
      "I Sun-14:14:48 - /home/apsu/bluesky/instrument/devices/temperature_signal.py\n",
      "D Sun-14:14:48 - temperature reached: True\n",
      "I Sun-14:14:48 - #### Callbacks ####\n",
      "I Sun-14:14:48 - /home/apsu/bluesky/instrument/callbacks/spec_data_file_writer.py\n",
      "I Sun-14:14:48 - writing to SPEC file: /home/apsu/bluesky/20210411-141448.dat\n",
      "I Sun-14:14:48 -    >>>>   Using default SPEC file name   <<<<\n",
      "I Sun-14:14:48 -    file will be created when bluesky ends its next scan\n",
      "I Sun-14:14:48 -    to change SPEC file, use command:   newSpecFile('title')\n",
      "I Sun-14:14:48 - #### Plans ####\n",
      "I Sun-14:14:48 - /home/apsu/bluesky/instrument/plans/peak_finder_example.py\n",
      "I Sun-14:14:48 - #### Utilities ####\n",
      "I Sun-14:14:48 - /home/apsu/bluesky/instrument/utils/image_analysis.py\n",
      "I Sun-14:14:48 - #### Startup is complete. ####\n"
     ]
    }
   ],
   "source": [
    "from instrument.collection import *"
   ]
  },
  {
   "cell_type": "markdown",
   "id": "liquid-marina",
   "metadata": {},
   "source": [
    "Add the name of this notebook as metadata to every run.  This is done by adding to the RunEngine's metadata dictionary (`RE.md`), content that will be added to the *start* document of every run.  The metadata is useful documentation about a run and can be used for several purposes, such as to record a general condition (such as the name of this notebook) or to identify these runs from a database search."
   ]
  },
  {
   "cell_type": "code",
   "execution_count": 2,
   "id": "hindu-investor",
   "metadata": {},
   "outputs": [],
   "source": [
    "RE.md[\"notebook\"] = \"watch_temperature\""
   ]
  },
  {
   "cell_type": "markdown",
   "id": "induced-mauritius",
   "metadata": {},
   "source": [
    "## Describe\n",
    "\n",
    "Note the initial settings of the `temperature` (controller).  It's actually an EPICS *swait* record that simulates a temperature sensor and controller.  It has a setpoint, a readback, and a few other support attributes as shown.  A Random noise level is part of the simulation.  We'll compute that noise level from the standard deviation of the measurements."
   ]
  },
  {
   "cell_type": "code",
   "execution_count": 3,
   "id": "liked-situation",
   "metadata": {},
   "outputs": [
    {
     "name": "stdout",
     "output_type": "stream",
     "text": [
      "==================== ===== ==========================\n",
      "name                 value timestamp                 \n",
      "==================== ===== ==========================\n",
      "temperature_setpoint 25.0  2021-04-11 14:14:48.174188\n",
      "temperature          25.0  2021-04-11 14:14:48.174510\n",
      "==================== ===== ==========================\n",
      "\n"
     ]
    },
    {
     "data": {
      "text/plain": [
       "<pyRestTable.rest_table.Table at 0x7efe0797aee0>"
      ]
     },
     "execution_count": 3,
     "metadata": {},
     "output_type": "execute_result"
    }
   ],
   "source": [
    "listdevice(temperature)"
   ]
  },
  {
   "cell_type": "markdown",
   "id": "missing-redhead",
   "metadata": {},
   "source": [
    "## Read\n",
    "\n",
    "The `temperature` setpoint can be used just as if it was a motor (it is based on the [`ophyd.PVPositioner`](https://blueskyproject.io/ophyd/positioners.html?highlight=pvpositioner#pvpositioner).  The simulator includes both noise and a limited ramp rate.  A move of more than a couple degrees will take a measureable time, simulating a physical system.\n",
    "\n",
    "Get the current temperature."
   ]
  },
  {
   "cell_type": "code",
   "execution_count": 4,
   "id": "looking-scope",
   "metadata": {},
   "outputs": [
    {
     "name": "stdout",
     "output_type": "stream",
     "text": [
      "temperature.position = 25.0\n"
     ]
    }
   ],
   "source": [
    "print(f\"{temperature.position = }\")"
   ]
  },
  {
   "cell_type": "markdown",
   "id": "average-princess",
   "metadata": {},
   "source": [
    "Use the `.read()` method to get the data"
   ]
  },
  {
   "cell_type": "code",
   "execution_count": 5,
   "id": "electric-replica",
   "metadata": {},
   "outputs": [
    {
     "data": {
      "text/plain": [
       "OrderedDict([('temperature_setpoint',\n",
       "              {'value': 25.0, 'timestamp': 1618168488.174188}),\n",
       "             ('temperature', {'value': 25.0, 'timestamp': 1618168488.17451})])"
      ]
     },
     "execution_count": 5,
     "metadata": {},
     "output_type": "execute_result"
    }
   ],
   "source": [
    "temperature.read()"
   ]
  },
  {
   "cell_type": "markdown",
   "id": "critical-granny",
   "metadata": {},
   "source": [
    "## Move\n",
    "\n",
    "Change the temperature by 10 degrees (and measure how long this took).  Use the *relative* move magic command: `%movr`"
   ]
  },
  {
   "cell_type": "code",
   "execution_count": 6,
   "id": "historical-copper",
   "metadata": {},
   "outputs": [
    {
     "name": "stdout",
     "output_type": "stream",
     "text": [
      "\n",
      "temperature:  24%|██████                   | 2.439/10.0 [00:01<00:05,  1.32C/s]\n",
      "temperature:  47%|███████████▊             | 4.718/10.0 [00:03<00:04,  1.22C/s]\n",
      "temperature:  72%|█████████████████▉       | 7.173/10.0 [00:05<00:02,  1.22C/s]\n",
      "temperature:  92%|███████████████████████  | 9.218/10.0 [00:07<00:00,  1.17C/s]\n",
      "temperature [In progress. No progress bar available.]                          \n",
      "                                                                               \n",
      "time.time()-t0 = 7.863 s\n",
      "temperature.position = 34.217914091706724\n"
     ]
    }
   ],
   "source": [
    "import time\n",
    "t0 = time.time()\n",
    "%movr temperature 10\n",
    "print(f\"{time.time()-t0 = :.3f} s\")\n",
    "print(f\"{temperature.position = }\")"
   ]
  },
  {
   "cell_type": "markdown",
   "id": "stuffed-privilege",
   "metadata": {},
   "source": [
    "## Count\n",
    "Use the bluesky RunEngine, `RE`, and a standard plan, `bp.count()`, to count the temperature."
   ]
  },
  {
   "cell_type": "code",
   "execution_count": 7,
   "id": "noted-syndrome",
   "metadata": {},
   "outputs": [
    {
     "name": "stdout",
     "output_type": "stream",
     "text": [
      "\n",
      "\n",
      "Transient Scan ID: 28     Time: 2021-04-11 14:14:56\n",
      "Persistent Unique Scan ID: '06928566-0151-4f0e-9049-64a87429774d'\n",
      "New stream: 'baseline'\n",
      "New stream: 'primary'\n",
      "+-----------+------------+----------------------+-------------+\n",
      "|   seq_num |       time | temperature_setpoint | temperature |\n",
      "+-----------+------------+----------------------+-------------+\n",
      "|         1 | 14:14:56.7 |             35.00000 |    34.21791 |\n",
      "+-----------+------------+----------------------+-------------+\n",
      "generator count ['06928566'] (scan num: 28)\n"
     ]
    },
    {
     "data": {
      "text/plain": [
       "('06928566-0151-4f0e-9049-64a87429774d',)"
      ]
     },
     "execution_count": 7,
     "metadata": {},
     "output_type": "execute_result"
    }
   ],
   "source": [
    "RE(bp.count([temperature]))"
   ]
  },
  {
   "cell_type": "markdown",
   "id": "above-merchant",
   "metadata": {},
   "source": [
    "Take ten readings by adding the `num=10` keyword argument (a.k.a. *kwarg*)."
   ]
  },
  {
   "cell_type": "code",
   "execution_count": 8,
   "id": "latest-server",
   "metadata": {},
   "outputs": [
    {
     "name": "stdout",
     "output_type": "stream",
     "text": [
      "\n",
      "\n",
      "Transient Scan ID: 29     Time: 2021-04-11 14:14:56\n",
      "Persistent Unique Scan ID: '12641c82-b781-48fc-9045-303c6ba1f831'\n",
      "New stream: 'baseline'\n",
      "New stream: 'primary'\n",
      "+-----------+------------+----------------------+-------------+\n",
      "|   seq_num |       time | temperature_setpoint | temperature |\n",
      "+-----------+------------+----------------------+-------------+\n",
      "|         1 | 14:14:57.4 |             35.00000 |    34.21791 |\n",
      "|         2 | 14:14:57.5 |             35.00000 |    34.21791 |\n",
      "|         3 | 14:14:57.6 |             35.00000 |    34.21791 |\n",
      "|         4 | 14:14:57.7 |             35.00000 |    34.21791 |\n",
      "|         5 | 14:14:57.9 |             35.00000 |    34.21791 |\n",
      "|         6 | 14:14:58.0 |             35.00000 |    34.21791 |\n",
      "|         7 | 14:14:58.1 |             35.00000 |    34.21791 |\n",
      "|         8 | 14:14:58.2 |             35.00000 |    34.61569 |\n",
      "|         9 | 14:14:58.3 |             35.00000 |    34.61569 |\n",
      "|        10 | 14:14:58.4 |             35.00000 |    34.61569 |\n",
      "+-----------+------------+----------------------+-------------+\n",
      "generator count ['12641c82'] (scan num: 29)\n"
     ]
    },
    {
     "data": {
      "text/plain": [
       "('12641c82-b781-48fc-9045-303c6ba1f831',)"
      ]
     },
     "execution_count": 8,
     "metadata": {},
     "output_type": "execute_result"
    },
    {
     "data": {
      "image/png": "[encoded data removed]",
      "text/plain": [
       "<Figure size 360x720 with 2 Axes>"
      ]
     },
     "metadata": {
      "needs_background": "light"
     },
     "output_type": "display_data"
    }
   ],
   "source": [
    "RE(bp.count([temperature], num=10))"
   ]
  },
  {
   "cell_type": "markdown",
   "id": "essential-framework",
   "metadata": {},
   "source": [
    "Do all the readings look the same?  Perhaps there are only two different values (first one, then the other)?  That's because our measurements were only *reading* the temperature without waiting for it to update.  (If there are two different values, we caught the moment when EPICS updated the calculation.)  The table above showed `temperature_scanning_rate 5` which means EPICS is only updating every 2 seconds."
   ]
  },
  {
   "cell_type": "code",
   "execution_count": 9,
   "id": "prompt-tattoo",
   "metadata": {},
   "outputs": [
    {
     "data": {
      "text/plain": [
       "'2 second'"
      ]
     },
     "execution_count": 9,
     "metadata": {},
     "output_type": "execute_result"
    }
   ],
   "source": [
    "temperature.scanning_rate.get(as_string=True)"
   ]
  },
  {
   "cell_type": "markdown",
   "id": "eligible-argument",
   "metadata": {},
   "source": [
    "## Adjust the measurement interval\n",
    "We need to slow down the measurement to this interval by adding the `delay=2` kwarg, sampling every 2 seconds."
   ]
  },
  {
   "cell_type": "code",
   "execution_count": 10,
   "id": "appointed-aviation",
   "metadata": {},
   "outputs": [
    {
     "name": "stdout",
     "output_type": "stream",
     "text": [
      "\n",
      "\n",
      "Transient Scan ID: 30     Time: 2021-04-11 14:14:58\n",
      "Persistent Unique Scan ID: '7a182662-db79-466e-8858-d2bc7bd974b0'\n",
      "New stream: 'baseline'\n",
      "New stream: 'primary'\n",
      "+-----------+------------+----------------------+-------------+\n",
      "|   seq_num |       time | temperature_setpoint | temperature |\n",
      "+-----------+------------+----------------------+-------------+\n",
      "|         1 | 14:14:59.3 |             35.00000 |    34.61569 |\n",
      "|         2 | 14:15:01.2 |             35.00000 |    34.87310 |\n",
      "|         3 | 14:15:03.2 |             35.00000 |    35.03571 |\n",
      "|         4 | 14:15:05.2 |             35.00000 |    34.76296 |\n",
      "|         5 | 14:15:07.2 |             35.00000 |    35.18986 |\n",
      "|         6 | 14:15:09.2 |             35.00000 |    35.38403 |\n",
      "|         7 | 14:15:11.3 |             35.00000 |    35.28712 |\n",
      "|         8 | 14:15:13.3 |             35.00000 |    35.13824 |\n",
      "|         9 | 14:15:15.3 |             35.00000 |    34.64585 |\n",
      "|        10 | 14:15:17.3 |             35.00000 |    34.99879 |\n",
      "+-----------+------------+----------------------+-------------+\n",
      "generator count ['7a182662'] (scan num: 30)\n"
     ]
    },
    {
     "data": {
      "text/plain": [
       "('7a182662-db79-466e-8858-d2bc7bd974b0',)"
      ]
     },
     "execution_count": 10,
     "metadata": {},
     "output_type": "execute_result"
    },
    {
     "data": {
      "image/png": "[encoded data removed]",
      "text/plain": [
       "<Figure size 360x720 with 2 Axes>"
      ]
     },
     "metadata": {
      "needs_background": "light"
     },
     "output_type": "display_data"
    }
   ],
   "source": [
    "RE(bp.count([temperature], num=10, delay=2))"
   ]
  },
  {
   "cell_type": "markdown",
   "id": "atomic-temple",
   "metadata": {},
   "source": [
    "Let's reduce the update interval that EPICS uses, to the shortest interval EPICS provides, so our measurements do not take so long."
   ]
  },
  {
   "cell_type": "code",
   "execution_count": 11,
   "id": "voluntary-partner",
   "metadata": {},
   "outputs": [
    {
     "name": "stdout",
     "output_type": "stream",
     "text": [
      "('Passive', 'Event', 'I/O Intr', '10 second', '5 second', '2 second', '1 second', '.5 second', '.2 second', '.1 second')\n"
     ]
    },
    {
     "data": {
      "text/plain": [
       "'.1 second'"
      ]
     },
     "execution_count": 11,
     "metadata": {},
     "output_type": "execute_result"
    }
   ],
   "source": [
    "# print the list of possible values\n",
    "print(temperature.scanning_rate.enum_strs)\n",
    "\n",
    "# set the shortest interval, by name\n",
    "temperature.scanning_rate.put(\".1 second\")\n",
    "temperature.scanning_rate.get(as_string=True)"
   ]
  },
  {
   "cell_type": "markdown",
   "id": "executive-finder",
   "metadata": {},
   "source": [
    "## Collect our measurements\n",
    "Repeat the measurement, this time with more observations.\n",
    "\n",
    "Also, we'll add a metadata key:value pair so that later we can find this data more easily in the database.  Most plans take a `md={}` kwarg where the value is a Python dictionary with the key:value pair(s) to add to the run's metadata."
   ]
  },
  {
   "cell_type": "code",
   "execution_count": 12,
   "id": "continuing-apollo",
   "metadata": {},
   "outputs": [
    {
     "name": "stdout",
     "output_type": "stream",
     "text": [
      "\n",
      "\n",
      "Transient Scan ID: 31     Time: 2021-04-11 14:15:20\n",
      "Persistent Unique Scan ID: '56444883-9e9c-4d2c-87e4-bda6a2c7d021'\n",
      "New stream: 'baseline'\n",
      "New stream: 'primary'\n",
      "+-----------+------------+----------------------+-------------+\n",
      "|   seq_num |       time | temperature_setpoint | temperature |\n",
      "+-----------+------------+----------------------+-------------+\n",
      "|         1 | 14:15:20.9 |             35.00000 |    34.56983 |\n",
      "|         2 | 14:15:21.1 |             35.00000 |    34.50337 |\n",
      "|         3 | 14:15:21.2 |             35.00000 |    35.03457 |\n",
      "|         4 | 14:15:21.4 |             35.00000 |    35.17466 |\n",
      "|         5 | 14:15:21.5 |             35.00000 |    34.93407 |\n",
      "|         6 | 14:15:21.6 |             35.00000 |    35.18588 |\n",
      "|         7 | 14:15:21.7 |             35.00000 |    35.12699 |\n",
      "|         8 | 14:15:21.8 |             35.00000 |    34.85833 |\n",
      "|         9 | 14:15:21.9 |             35.00000 |    35.00025 |\n",
      "|        10 | 14:15:22.0 |             35.00000 |    34.56667 |\n",
      "|        11 | 14:15:22.1 |             35.00000 |    34.89084 |\n",
      "|        12 | 14:15:22.2 |             35.00000 |    34.53633 |\n",
      "|        13 | 14:15:22.3 |             35.00000 |    35.38811 |\n",
      "|        14 | 14:15:22.4 |             35.00000 |    35.13751 |\n",
      "|        15 | 14:15:22.6 |             35.00000 |    34.97523 |\n",
      "|        16 | 14:15:22.7 |             35.00000 |    35.20425 |\n",
      "|        17 | 14:15:22.8 |             35.00000 |    35.29063 |\n",
      "|        18 | 14:15:22.9 |             35.00000 |    34.71117 |\n",
      "|        19 | 14:15:23.0 |             35.00000 |    35.41048 |\n",
      "|        20 | 14:15:23.1 |             35.00000 |    35.42978 |\n",
      "|        21 | 14:15:23.2 |             35.00000 |    35.02030 |\n",
      "|        22 | 14:15:23.3 |             35.00000 |    34.82229 |\n",
      "|        23 | 14:15:23.4 |             35.00000 |    34.74900 |\n",
      "|        24 | 14:15:23.5 |             35.00000 |    35.39856 |\n",
      "|        25 | 14:15:23.6 |             35.00000 |    35.16084 |\n",
      "|        26 | 14:15:23.7 |             35.00000 |    34.74117 |\n",
      "|        27 | 14:15:23.8 |             35.00000 |    35.39860 |\n",
      "|        28 | 14:15:23.9 |             35.00000 |    35.23101 |\n",
      "|        29 | 14:15:24.0 |             35.00000 |    35.31971 |\n",
      "|        30 | 14:15:24.1 |             35.00000 |    35.29580 |\n",
      "|        31 | 14:15:24.2 |             35.00000 |    35.34555 |\n",
      "|        32 | 14:15:24.3 |             35.00000 |    34.89799 |\n",
      "|        33 | 14:15:24.4 |             35.00000 |    34.79534 |\n",
      "|        34 | 14:15:24.6 |             35.00000 |    35.43922 |\n",
      "|        35 | 14:15:24.7 |             35.00000 |    35.49979 |\n",
      "|        36 | 14:15:24.8 |             35.00000 |    35.34154 |\n",
      "|        37 | 14:15:24.9 |             35.00000 |    34.74596 |\n",
      "|        38 | 14:15:25.0 |             35.00000 |    34.74360 |\n",
      "|        39 | 14:15:25.1 |             35.00000 |    35.11788 |\n",
      "|        40 | 14:15:25.2 |             35.00000 |    34.89347 |\n",
      "|        41 | 14:15:25.3 |             35.00000 |    35.22569 |\n",
      "|        42 | 14:15:25.5 |             35.00000 |    35.15600 |\n",
      "|        43 | 14:15:25.6 |             35.00000 |    35.32600 |\n",
      "|        44 | 14:15:25.7 |             35.00000 |    34.93319 |\n",
      "|        45 | 14:15:25.8 |             35.00000 |    34.76004 |\n",
      "|        46 | 14:15:25.9 |             35.00000 |    35.33416 |\n",
      "|        47 | 14:15:26.0 |             35.00000 |    35.44777 |\n",
      "|        48 | 14:15:26.1 |             35.00000 |    34.59914 |\n",
      "|        49 | 14:15:26.2 |             35.00000 |    34.66646 |\n",
      "+-----------+------------+----------------------+-------------+\n",
      "|   seq_num |       time | temperature_setpoint | temperature |\n",
      "+-----------+------------+----------------------+-------------+\n",
      "|        50 | 14:15:26.3 |             35.00000 |    34.87272 |\n",
      "+-----------+------------+----------------------+-------------+\n",
      "generator count ['56444883'] (scan num: 31)\n"
     ]
    },
    {
     "data": {
      "text/plain": [
       "('56444883-9e9c-4d2c-87e4-bda6a2c7d021',)"
      ]
     },
     "execution_count": 12,
     "metadata": {},
     "output_type": "execute_result"
    },
    {
     "data": {
      "image/png": "[encoded data removed]",
      "text/plain": [
       "<Figure size 360x720 with 2 Axes>"
      ]
     },
     "metadata": {
      "needs_background": "light"
     },
     "output_type": "display_data"
    }
   ],
   "source": [
    "RE(bp.count([temperature], num=50, delay=0.1, md={\"motive\": \"tscan\"}))"
   ]
  },
  {
   "cell_type": "markdown",
   "id": "taken-runner",
   "metadata": {},
   "source": [
    "## Get the data (from the database)\n",
    "Let's get the measured data from the database now.  It's the most recent bluesky run, so an index of `-1` will identify it."
   ]
  },
  {
   "cell_type": "code",
   "execution_count": 13,
   "id": "miniature-longitude",
   "metadata": {},
   "outputs": [],
   "source": [
    "dataset = db.v2[-1].primary.read()"
   ]
  },
  {
   "cell_type": "markdown",
   "id": "political-lover",
   "metadata": {},
   "source": [
    "Let's get the values as a 1-D numpy array."
   ]
  },
  {
   "cell_type": "code",
   "execution_count": 14,
   "id": "reported-cornell",
   "metadata": {},
   "outputs": [],
   "source": [
    "T = dataset[\"temperature\"].values"
   ]
  },
  {
   "cell_type": "markdown",
   "id": "brown-fairy",
   "metadata": {},
   "source": [
    "## Compute the statistics\n",
    "Use the methods of numpy arrays to compute maximum, mean, standard deviation, and minimum.  Looks nicer in a table."
   ]
  },
  {
   "cell_type": "code",
   "execution_count": 15,
   "id": "floating-diana",
   "metadata": {},
   "outputs": [
    {
     "name": "stdout",
     "output_type": "stream",
     "text": [
      "======= ==================\n",
      "measure value             \n",
      "======= ==================\n",
      "max     35.499786373693446\n",
      "mean    35.0441544213016  \n",
      "dev     0.2852291758516404\n",
      "min     34.503372243839166\n",
      "#       50                \n",
      "======= ==================\n",
      "\n"
     ]
    }
   ],
   "source": [
    "table = pyRestTable.Table()\n",
    "table.addLabel(\"measure\")\n",
    "table.addLabel(\"value\")\n",
    "table.addRow((\"max\", T.max()))\n",
    "table.addRow((\"mean\", T.mean()))\n",
    "table.addRow((\"dev\", T.std()))\n",
    "table.addRow((\"min\", T.min()))\n",
    "table.addRow((\"#\", len(T)))\n",
    "print(table)"
   ]
  },
  {
   "cell_type": "markdown",
   "id": "approved-depth",
   "metadata": {},
   "source": [
    "Let's replot that data for comparison."
   ]
  },
  {
   "cell_type": "code",
   "execution_count": 16,
   "id": "noticed-understanding",
   "metadata": {},
   "outputs": [
    {
     "data": {
      "text/plain": [
       "[<matplotlib.lines.Line2D at 0x7efe06f54c10>]"
      ]
     },
     "execution_count": 16,
     "metadata": {},
     "output_type": "execute_result"
    },
    {
     "data": {
      "image/png": "[encoded data removed]",
      "text/plain": [
       "<Figure size 432x288 with 1 Axes>"
      ]
     },
     "metadata": {
      "needs_background": "light"
     },
     "output_type": "display_data"
    }
   ],
   "source": [
    "dataset[\"temperature\"].plot(marker=\"o\", color=\"blue\")"
   ]
  },
  {
   "cell_type": "markdown",
   "id": "expressed-checkout",
   "metadata": {},
   "source": [
    "## Challenges\n",
    "\n",
    "Try these additional modifications or activities.\n",
    "\n",
    "1. Scan using the temperature as a positioner (`bp.scan()`)\n",
    "2. Record temperature values as an additional data stream during a scan."
   ]
  }
 ],
 "metadata": {
  "kernelspec": {
   "display_name": "Python 3",
   "language": "python",
   "name": "python3"
  },
  "language_info": {
   "codemirror_mode": {
    "name": "ipython",
    "version": 3
   },
   "file_extension": ".py",
   "mimetype": "text/x-python",
   "name": "python",
   "nbconvert_exporter": "python",
   "pygments_lexer": "ipython3",
   "version": "3.8.8"
  }
 },
 "nbformat": 4,
 "nbformat_minor": 5
}
