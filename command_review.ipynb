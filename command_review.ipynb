{
 "cells": [
  {
   "cell_type": "markdown",
   "id": "induced-poland",
   "metadata": {},
   "source": [
    "# Review of commands\n",
    "\n",
    "*APS Training for Bluesky Data Acquisition*.\n",
    "\n",
    "**Objective**\n",
    "\n",
    "In this notebook, the commands described in [Guide: First Steps with Bluesky](https://github.com/BCDA-APS/use_bluesky/blob/main/first_steps_guide.md), are demonstrated using the `instrument` package.\n",
    "\n",
    "## Preparation\n",
    "\n",
    "Start the `instrument` package"
   ]
  },
  {
   "cell_type": "code",
   "execution_count": 1,
   "id": "missing-rhythm",
   "metadata": {},
   "outputs": [
    {
     "name": "stderr",
     "output_type": "stream",
     "text": [
      "I Tue-11:39:51 - /home/prjemian/Documents/projects/BCDA-APS/epics-bluesky-vm/instrument/iocs/check_iocs.py\n"
     ]
    },
    {
     "name": "stdout",
     "output_type": "stream",
     "text": [
      "Activating auto-logging. Current session state plus future input saved.\n",
      "Filename       : /home/prjemian/Documents/projects/BCDA-APS/epics-bluesky-vm/.logs/ipython_console.log\n",
      "Mode           : rotate\n",
      "Output logging : True\n",
      "Raw input log  : False\n",
      "Timestamping   : True\n",
      "State          : active\n"
     ]
    },
    {
     "name": "stderr",
     "output_type": "stream",
     "text": [
      "I Tue-11:39:51 - EPICS IOCs ready...\n",
      "I Tue-11:39:51 - #### Bluesky Framework ####\n",
      "I Tue-11:39:51 - /home/prjemian/Documents/projects/BCDA-APS/epics-bluesky-vm/instrument/framework/check_python.py\n",
      "I Tue-11:39:51 - /home/prjemian/Documents/projects/BCDA-APS/epics-bluesky-vm/instrument/framework/check_bluesky.py\n",
      "I Tue-11:39:52 - /home/prjemian/Documents/projects/BCDA-APS/epics-bluesky-vm/instrument/framework/initialize.py\n",
      "I Tue-11:39:53 - using databroker catalog 'training'\n",
      "I Tue-11:39:53 - /home/prjemian/Documents/projects/BCDA-APS/epics-bluesky-vm/instrument/framework/metadata.py\n",
      "I Tue-11:39:53 - #### Devices ####\n",
      "I Tue-11:39:53 - /home/prjemian/Documents/projects/BCDA-APS/epics-bluesky-vm/instrument/devices/area_detector.py\n",
      "I Tue-11:39:53 - /home/prjemian/Documents/projects/BCDA-APS/epics-bluesky-vm/instrument/devices/calculation_records.py\n",
      "I Tue-11:39:55 - /home/prjemian/Documents/projects/BCDA-APS/epics-bluesky-vm/instrument/devices/ioc_stats.py\n",
      "I Tue-11:39:55 - /home/prjemian/Documents/projects/BCDA-APS/epics-bluesky-vm/instrument/devices/motors.py\n",
      "I Tue-11:39:55 - /home/prjemian/Documents/projects/BCDA-APS/epics-bluesky-vm/instrument/devices/noisy_detector.py\n",
      "I Tue-11:39:55 - /home/prjemian/Documents/projects/BCDA-APS/epics-bluesky-vm/instrument/devices/scaler.py\n",
      "I Tue-11:39:57 - /home/prjemian/Documents/projects/BCDA-APS/epics-bluesky-vm/instrument/devices/shutter_simulator.py\n",
      "I Tue-11:39:57 - /home/prjemian/Documents/projects/BCDA-APS/epics-bluesky-vm/instrument/devices/temperature_signal.py\n",
      "I Tue-11:39:57 - #### Callbacks ####\n",
      "I Tue-11:39:57 - /home/prjemian/Documents/projects/BCDA-APS/epics-bluesky-vm/instrument/callbacks/spec_data_file_writer.py\n",
      "I Tue-11:39:57 - writing to SPEC file: /home/prjemian/Documents/projects/BCDA-APS/epics-bluesky-vm/20210413-113957.dat\n",
      "I Tue-11:39:57 -    >>>>   Using default SPEC file name   <<<<\n",
      "I Tue-11:39:57 -    file will be created when bluesky ends its next scan\n",
      "I Tue-11:39:57 -    to change SPEC file, use command:   newSpecFile('title')\n",
      "I Tue-11:39:57 - #### Plans ####\n",
      "I Tue-11:39:57 - /home/prjemian/Documents/projects/BCDA-APS/epics-bluesky-vm/instrument/plans/peak_finder_example.py\n",
      "I Tue-11:39:57 - #### Utilities ####\n",
      "I Tue-11:39:57 - /home/prjemian/Documents/projects/BCDA-APS/epics-bluesky-vm/instrument/utils/image_analysis.py\n",
      "I Tue-11:39:57 - #### Startup is complete. ####\n"
     ]
    }
   ],
   "source": [
    "from instrument.collection import *"
   ]
  },
  {
   "cell_type": "markdown",
   "id": "several-essay",
   "metadata": {},
   "source": [
    "## List, Describe, Summary\n",
    "\n",
    "On the command line, there is an [IPython magic](https://ipython.readthedocs.io/en/stable/interactive/magics.html#built-in-magic-commands) command from the [bluesky](https://blueskyproject.io/bluesky/) package to print the current value of [labeled](https://blueskyproject.io/bluesky/magics.html?highlight=label) items: [`%wa`]()"
   ]
  },
  {
   "cell_type": "code",
   "execution_count": 2,
   "id": "conscious-approval",
   "metadata": {},
   "outputs": [
    {
     "name": "stdout",
     "output_type": "stream",
     "text": [
      "area_detector\n",
      "  Local variable name                    Ophyd name (to be recorded as metadata)\n",
      "  adsimdet                               adsimdet                              \n",
      "\n",
      "motor\n",
      "  Positioner                     Value       Low Limit   High Limit  Offset     \n",
      "  m1                             0.0         -32000.0    32000.0     0.0        \n",
      "  m10                            0.0         -32000.0    32000.0     0.0        \n",
      "  m11                            0.0         -32000.0    32000.0     0.0        \n",
      "  m12                            0.0         -32000.0    32000.0     0.0        \n",
      "  m13                            0.0         -32000.0    32000.0     0.0        \n",
      "  m14                            0.0         -32000.0    32000.0     0.0        \n",
      "  m15                            0.0         -32000.0    32000.0     0.0        \n",
      "  m16                            0.0         -32000.0    32000.0     0.0        \n",
      "  m2                             0.0         -32000.0    32000.0     0.0        \n",
      "  m3                             0.0         -32000.0    32000.0     0.0        \n",
      "  m4                             0.0         -32000.0    32000.0     0.0        \n",
      "  m5                             0.0         -32000.0    32000.0     0.0        \n",
      "  m6                             0.0         -32000.0    32000.0     0.0        \n",
      "  m7                             0.0         -32000.0    32000.0     0.0        \n",
      "  m8                             0.0         -32000.0    32000.0     0.0        \n",
      "  m9                             0.0         -32000.0    32000.0     0.0        \n",
      "\n",
      "  Local variable name                    Ophyd name (to be recorded as metadata)\n",
      "  m1                                     m1                                    \n",
      "  m10                                    m10                                   \n",
      "  m11                                    m11                                   \n",
      "  m12                                    m12                                   \n",
      "  m13                                    m13                                   \n",
      "  m14                                    m14                                   \n",
      "  m15                                    m15                                   \n",
      "  m16                                    m16                                   \n",
      "  m2                                     m2                                    \n",
      "  m3                                     m3                                    \n",
      "  m4                                     m4                                    \n",
      "  m5                                     m5                                    \n",
      "  m6                                     m6                                    \n",
      "  m7                                     m7                                    \n",
      "  m8                                     m8                                    \n",
      "  m9                                     m9                                    \n",
      "\n",
      "detectors\n",
      "  Local variable name                    Ophyd name (to be recorded as metadata)\n",
      "  noisy                                  noisy                                 \n",
      "  scaler1                                scaler1                               \n",
      "\n",
      "scalers\n",
      "  Local variable name                    Ophyd name (to be recorded as metadata)\n",
      "  scaler1                                scaler1                               \n",
      "\n",
      "channel\n",
      "  Local variable name                    Ophyd name (to be recorded as metadata)\n",
      "  I0                                     I0                                    \n",
      "  diode                                  diode                                 \n",
      "  scaler1.channels.chan01.s              timebase                              \n",
      "  scaler1.channels.chan02.s              I0                                    \n",
      "  scaler1.channels.chan03.s              scint                                 \n",
      "  scaler1.channels.chan04.s              diode                                 \n",
      "  scaler1.channels.chan05.s              I00                                   \n",
      "  scaler1.channels.chan11.s              roi1                                  \n",
      "  scaler1.channels.chan12.s              roi2                                  \n",
      "  scint                                  scint                                 \n",
      "  timebase                               timebase                              \n",
      "\n",
      "counter\n",
      "  Local variable name                    Ophyd name (to be recorded as metadata)\n",
      "  I0                                     I0                                    \n",
      "  diode                                  diode                                 \n",
      "  scaler1.channels.chan01.s              timebase                              \n",
      "  scaler1.channels.chan02.s              I0                                    \n",
      "  scaler1.channels.chan03.s              scint                                 \n",
      "  scaler1.channels.chan04.s              diode                                 \n",
      "  scaler1.channels.chan05.s              I00                                   \n",
      "  scaler1.channels.chan11.s              roi1                                  \n",
      "  scaler1.channels.chan12.s              roi2                                  \n",
      "  scint                                  scint                                 \n",
      "  timebase                               timebase                              \n",
      "\n",
      "shutters\n",
      "  Local variable name                    Ophyd name (to be recorded as metadata)\n",
      "  shutter                                shutter                               \n",
      "\n"
     ]
    }
   ],
   "source": [
    "%wa"
   ]
  },
  {
   "cell_type": "markdown",
   "id": "departmental-rings",
   "metadata": {},
   "source": [
    "Might be a good idea to know now what ophyd symbols are available.  The [apstools](https://apstools.readthedocs.io/en/latest/) package provides a [`listobjects()`](https://apstools.readthedocs.io/en/latest/source/_utils.html?highlight=listobjects#apstools.utils.listobjects) command that prints a table of all the known objects (in the global namespace of the session).  The columns provide the ophyd name (the name you use to call this in Python), the name of the ophyd structure, the EPICS PV (if relevant), and any labels (as used in `%wa` above)."
   ]
  },
  {
   "cell_type": "code",
   "execution_count": 3,
   "id": "frank-toronto",
   "metadata": {},
   "outputs": [
    {
     "name": "stdout",
     "output_type": "stream",
     "text": [
      "=========== ================================ ============= =================\n",
      "name        ophyd structure                  EPICS PV      label(s)         \n",
      "=========== ================================ ============= =================\n",
      "I0          EpicsSignalRO                    gp:scaler1.S2 channel counter  \n",
      "adsimdet    MySimDetector                    ad:           area_detector    \n",
      "calcouts    UserCalcoutDevice                gp:                            \n",
      "calcs       UserCalcsDevice                  gp:                            \n",
      "diode       EpicsSignalRO                    gp:scaler1.S4 channel counter  \n",
      "gp_stats    IocInfoDevice                    gp:                            \n",
      "m1          MyEpicsMotor                     gp:m1         motor            \n",
      "m10         MyEpicsMotor                     gp:m10        motor            \n",
      "m11         MyEpicsMotor                     gp:m11        motor            \n",
      "m12         MyEpicsMotor                     gp:m12        motor            \n",
      "m13         MyEpicsMotor                     gp:m13        motor            \n",
      "m14         MyEpicsMotor                     gp:m14        motor            \n",
      "m15         MyEpicsMotor                     gp:m15        motor            \n",
      "m16         MyEpicsMotor                     gp:m16        motor            \n",
      "m2          MyEpicsMotor                     gp:m2         motor            \n",
      "m3          MyEpicsMotor                     gp:m3         motor            \n",
      "m4          MyEpicsMotor                     gp:m4         motor            \n",
      "m5          MyEpicsMotor                     gp:m5         motor            \n",
      "m6          MyEpicsMotor                     gp:m6         motor            \n",
      "m7          MyEpicsMotor                     gp:m7         motor            \n",
      "m8          MyEpicsMotor                     gp:m8         motor            \n",
      "m9          MyEpicsMotor                     gp:m9         motor            \n",
      "noisy       EpicsSignalRO                    gp:userCalc1  detectors        \n",
      "scaler1     ScalerCH                         gp:scaler1    detectors scalers\n",
      "scint       EpicsSignalRO                    gp:scaler1.S3 channel counter  \n",
      "shutter     SimulatedApsPssShutterWithStatus               shutters         \n",
      "temperature MyPvPositioner                   gp:userCalc8                   \n",
      "timebase    EpicsSignalRO                    gp:scaler1.S1 channel counter  \n",
      "=========== ================================ ============= =================\n",
      "\n"
     ]
    },
    {
     "data": {
      "text/plain": [
       "<pyRestTable.rest_table.Table at 0x7f3f69f14c40>"
      ]
     },
     "execution_count": 3,
     "metadata": {},
     "output_type": "execute_result"
    }
   ],
   "source": [
    "listobjects()"
   ]
  },
  {
   "cell_type": "markdown",
   "id": "spectacular-signature",
   "metadata": {},
   "source": [
    "## Read\n",
    "\n",
    "We'll use the `temperature` and `m1` objects to demonstrate the various commands described in the quick-reference [Guide: First Steps with Bluesky](https://github.com/BCDA-APS/use_bluesky/blob/main/first_steps_guide.md)\n",
    "\n",
    "command | description\n",
    "--- | ---\n",
    "`OBJECT.summary()` | more information about `OBJECT`\n",
    "`OBJECT.get()` | low-level command to show value of ophyd *Signal* named `OBJECT`\n",
    "`OBJECT.read()` | data acquisition command, includes timestamp\n",
    "`listdevice(OBJECT)` | table-version of `.read()`\n",
    "`MOTOR.position` | get readback, only for motor objects\n",
    "`MOTOR.user_readback.get()` | alternative to `MOTOR.position`"
   ]
  },
  {
   "cell_type": "markdown",
   "id": "greater-bracket",
   "metadata": {},
   "source": [
    "### temperature"
   ]
  },
  {
   "cell_type": "code",
   "execution_count": 4,
   "id": "remarkable-shannon",
   "metadata": {},
   "outputs": [
    {
     "name": "stdout",
     "output_type": "stream",
     "text": [
      "data keys (* hints)\n",
      "-------------------\n",
      "*temperature\n",
      "*temperature_setpoint\n",
      "\n",
      "read attrs\n",
      "----------\n",
      "setpoint             EpicsSignal         ('temperature_setpoint')\n",
      "readback             EpicsSignal         ('temperature')\n",
      "\n",
      "config keys\n",
      "-----------\n",
      "temperature_calculation\n",
      "temperature_description\n",
      "temperature_max_change\n",
      "temperature_noise\n",
      "temperature_previous_value_pv\n",
      "temperature_scanning_rate\n",
      "temperature_tolerance\n",
      "\n",
      "configuration attrs\n",
      "-------------------\n",
      "calculation          EpicsSignal         ('temperature_calculation')\n",
      "description          EpicsSignal         ('temperature_description')\n",
      "max_change           EpicsSignal         ('temperature_max_change')\n",
      "noise                EpicsSignal         ('temperature_noise')\n",
      "previous_value_pv    EpicsSignal         ('temperature_previous_value_pv')\n",
      "scanning_rate        EpicsSignal         ('temperature_scanning_rate')\n",
      "tolerance            EpicsSignal         ('temperature_tolerance')\n",
      "\n",
      "unused attrs\n",
      "------------\n",
      "done                 Signal              ('temperature_done')\n",
      "report_dmov_changes  Signal              ('temperature_report_dmov_changes')\n",
      "\n"
     ]
    }
   ],
   "source": [
    "temperature.summary()"
   ]
  },
  {
   "cell_type": "code",
   "execution_count": 5,
   "id": "finite-limitation",
   "metadata": {},
   "outputs": [
    {
     "data": {
      "text/plain": [
       "25.0"
      ]
     },
     "execution_count": 5,
     "metadata": {},
     "output_type": "execute_result"
    }
   ],
   "source": [
    "temperature.readback.get()"
   ]
  },
  {
   "cell_type": "code",
   "execution_count": 6,
   "id": "human-integral",
   "metadata": {},
   "outputs": [
    {
     "data": {
      "text/plain": [
       "OrderedDict([('temperature_setpoint',\n",
       "              {'value': 25.0, 'timestamp': 1618331997.593382}),\n",
       "             ('temperature', {'value': 25.0, 'timestamp': 1618331997.59422})])"
      ]
     },
     "execution_count": 6,
     "metadata": {},
     "output_type": "execute_result"
    }
   ],
   "source": [
    "temperature.read()"
   ]
  },
  {
   "cell_type": "code",
   "execution_count": 7,
   "id": "essential-subscription",
   "metadata": {},
   "outputs": [
    {
     "name": "stdout",
     "output_type": "stream",
     "text": [
      "==================== ===== ==========================\n",
      "name                 value timestamp                 \n",
      "==================== ===== ==========================\n",
      "temperature_setpoint 25.0  2021-04-13 11:39:57.593382\n",
      "temperature          25.0  2021-04-13 11:39:57.594220\n",
      "==================== ===== ==========================\n",
      "\n"
     ]
    },
    {
     "data": {
      "text/plain": [
       "<pyRestTable.rest_table.Table at 0x7f3f69f1ddc0>"
      ]
     },
     "execution_count": 7,
     "metadata": {},
     "output_type": "execute_result"
    }
   ],
   "source": [
    "listdevice(temperature)"
   ]
  },
  {
   "cell_type": "markdown",
   "id": "antique-letters",
   "metadata": {},
   "source": [
    "### motor"
   ]
  },
  {
   "cell_type": "code",
   "execution_count": 8,
   "id": "supposed-healthcare",
   "metadata": {},
   "outputs": [
    {
     "data": {
      "text/plain": [
       "0.0"
      ]
     },
     "execution_count": 8,
     "metadata": {},
     "output_type": "execute_result"
    }
   ],
   "source": [
    "m1.position"
   ]
  },
  {
   "cell_type": "code",
   "execution_count": 9,
   "id": "responsible-virginia",
   "metadata": {},
   "outputs": [
    {
     "data": {
      "text/plain": [
       "0.0"
      ]
     },
     "execution_count": 9,
     "metadata": {},
     "output_type": "execute_result"
    }
   ],
   "source": [
    "m1.user_readback.get()"
   ]
  },
  {
   "cell_type": "markdown",
   "id": "fixed-democrat",
   "metadata": {},
   "source": [
    "## Move\n",
    "command | mode | description\n",
    "--- | --- | ---\n",
    "`%mov MOTOR value` | command line | interactive command move MOTOR to value (command line only)\n",
    "`%movr MOTOR value` | command line | interactive command relative move (command line only)\n",
    "`MOTOR.move(value)` | ophyd command | `%mov`\n",
    "`MOTOR.user_setpoint.put(value)` | ophyd | set motor `.VAL` field but not wait\n",
    "`bps.mv(MOTOR, value)` | bluesky plan | move and wait for completion\n",
    "`bps.mv(MOTOR.user_setpoint, value)` | bluesky plan | same\n",
    "`bps.mvr(MOTOR, value)` | bluesky plan | relative move"
   ]
  },
  {
   "cell_type": "code",
   "execution_count": 10,
   "id": "tested-electron",
   "metadata": {},
   "outputs": [
    {
     "name": "stdout",
     "output_type": "stream",
     "text": [
      "m1:   6%|█▋                           | 0.09/1.55 [00:00<00:02,  1.56s/degrees]\n",
      "m1:  12%|███▍                        | 0.189/1.55 [00:00<00:01,  1.27s/degrees]\n",
      "m1:  19%|█████▍                       | 0.29/1.55 [00:00<00:01,  1.18s/degrees]\n",
      "m1:  25%|███████▎                     | 0.39/1.55 [00:00<00:01,  1.13s/degrees]\n",
      "m1:  32%|█████████▏                   | 0.49/1.55 [00:00<00:01,  1.10s/degrees]\n",
      "m1:  38%|███████████                  | 0.59/1.55 [00:00<00:01,  1.09s/degrees]\n",
      "m1:  45%|████████████▍               | 0.691/1.55 [00:00<00:00,  1.07s/degrees]\n",
      "m1:  51%|██████████████▎             | 0.791/1.55 [00:00<00:00,  1.06s/degrees]\n",
      "m1:  57%|████████████████            | 0.891/1.55 [00:00<00:00,  1.06s/degrees]\n",
      "m1:  64%|█████████████████▉          | 0.991/1.55 [00:01<00:00,  1.05s/degrees]\n",
      "m1:  70%|███████████████████▋        | 1.092/1.55 [00:01<00:00,  1.05s/degrees]\n",
      "m1:  77%|█████████████████████▌      | 1.192/1.55 [00:01<00:00,  1.04s/degrees]\n",
      "m1:  83%|███████████████████████▎    | 1.292/1.55 [00:01<00:00,  1.04s/degrees]\n",
      "m1:  90%|█████████████████████████▏  | 1.392/1.55 [00:01<00:00,  1.04s/degrees]\n",
      "m1:  96%|██████████████████████████▊ | 1.486/1.55 [00:01<00:00,  1.04s/degrees]\n",
      "m1:  99%|███████████████████████████▊| 1.539/1.55 [00:01<00:00,  1.07s/degrees]\n",
      "m1: 100%|█████████████████████████████| 1.55/1.55 [00:01<00:00,  1.13s/degrees]\n",
      "m1 [In progress. No progress bar available.]                                   \n",
      "                                                                               \n"
     ]
    },
    {
     "data": {
      "text/plain": [
       "1.55"
      ]
     },
     "execution_count": 10,
     "metadata": {},
     "output_type": "execute_result"
    }
   ],
   "source": [
    "%mov m1 1.55\n",
    "m1.position"
   ]
  },
  {
   "cell_type": "code",
   "execution_count": 11,
   "id": "prescribed-significance",
   "metadata": {},
   "outputs": [
    {
     "name": "stdout",
     "output_type": "stream",
     "text": [
      "m1:  79%|██████████████████████▉      | 0.079/0.1 [00:00<00:00,  2.08s/degrees]\n",
      "m1: 100%|███████████████████████████████| 0.1/0.1 [00:00<00:00,  2.66s/degrees]\n",
      "m1 [In progress. No progress bar available.]                                   \n",
      "                                                                               \n"
     ]
    },
    {
     "data": {
      "text/plain": [
       "1.45"
      ]
     },
     "execution_count": 11,
     "metadata": {},
     "output_type": "execute_result"
    }
   ],
   "source": [
    "%movr m1 -.1\n",
    "m1.position"
   ]
  },
  {
   "cell_type": "code",
   "execution_count": 12,
   "id": "fourth-reach",
   "metadata": {},
   "outputs": [
    {
     "data": {
      "text/plain": [
       "0.5"
      ]
     },
     "execution_count": 12,
     "metadata": {},
     "output_type": "execute_result"
    }
   ],
   "source": [
    "m1.move(.5)\n",
    "m1.position"
   ]
  },
  {
   "cell_type": "code",
   "execution_count": 13,
   "id": "productive-value",
   "metadata": {},
   "outputs": [
    {
     "data": {
      "text/plain": [
       "(0.5, 0.5)"
      ]
     },
     "execution_count": 13,
     "metadata": {},
     "output_type": "execute_result"
    }
   ],
   "source": [
    "m1.user_setpoint.put(0)\n",
    "m1.position, m1.user_setpoint.get()"
   ]
  },
  {
   "cell_type": "code",
   "execution_count": 14,
   "id": "involved-processor",
   "metadata": {},
   "outputs": [],
   "source": [
    "%mov temperature 26"
   ]
  },
  {
   "cell_type": "code",
   "execution_count": 15,
   "id": "successful-murray",
   "metadata": {},
   "outputs": [
    {
     "name": "stdout",
     "output_type": "stream",
     "text": [
      "\n",
      "m1:  68%|███████████████████▌         | 0.135/0.2 [00:00<00:00,  1.08degrees/s]\n",
      "\n",
      "m1:  79%|██████████████████████▉      | 0.158/0.2 [00:00<00:00,  1.43s/degrees]\n",
      "\n",
      "m1:  68%|███████████████████▌         | 0.135/0.2 [00:00<00:00,  2.41s/degrees]\n",
      "\n",
      "m1:  34%|█████████▋                   | 0.067/0.2 [00:00<00:00,  6.36s/degrees]\n",
      "\n",
      "m1:  16%|████▋                        | 0.032/0.2 [00:00<00:02, 16.43s/degrees]\n",
      "\n",
      "m1:  64%|██████████████████▌          | 0.128/0.2 [00:00<00:00,  4.90s/degrees]\n",
      "\n",
      "m1:  93%|██████████████████████████▉  | 0.186/0.2 [00:00<00:00,  3.92s/degrees]\n",
      "\n",
      "m1: 100%|███████████████████████████████| 0.2/0.2 [00:00<00:00,  4.14s/degrees]\n",
      "\n",
      "m1 [In progress. No progress bar available.]                                   \n",
      "temperature: 100%|████████████████████████████| 1.0/1.0 [00:01<00:00,  1.98s/C]\n",
      "m1 [In progress. No progress bar available.]                                   \n",
      "temperature [In progress. No progress bar available.]                          \n",
      "m1 [In progress. No progress bar available.]                                   \n",
      "                                                                               \n",
      "                                                                               \n"
     ]
    },
    {
     "data": {
      "text/plain": [
       "(24.5002212558175, 0.677)"
      ]
     },
     "execution_count": 15,
     "metadata": {},
     "output_type": "execute_result"
    }
   ],
   "source": [
    "%movr temperature -1  m1 .2\n",
    "temperature.position, m1.position"
   ]
  },
  {
   "cell_type": "markdown",
   "id": "funded-basement",
   "metadata": {},
   "source": [
    "### bluesky"
   ]
  },
  {
   "cell_type": "code",
   "execution_count": 16,
   "id": "saving-small",
   "metadata": {},
   "outputs": [
    {
     "data": {
      "text/plain": [
       "1.0"
      ]
     },
     "execution_count": 16,
     "metadata": {},
     "output_type": "execute_result"
    }
   ],
   "source": [
    "RE(bps.mv(m1, 1))\n",
    "m1.position"
   ]
  },
  {
   "cell_type": "code",
   "execution_count": 17,
   "id": "confidential-injury",
   "metadata": {},
   "outputs": [
    {
     "data": {
      "text/plain": [
       "1.1"
      ]
     },
     "execution_count": 17,
     "metadata": {},
     "output_type": "execute_result"
    }
   ],
   "source": [
    "RE(bps.mvr(m1, .1))\n",
    "m1.position"
   ]
  },
  {
   "cell_type": "code",
   "execution_count": 18,
   "id": "grand-receiver",
   "metadata": {},
   "outputs": [
    {
     "data": {
      "text/plain": [
       "(1.1, 24.5002212558175)"
      ]
     },
     "execution_count": 18,
     "metadata": {},
     "output_type": "execute_result"
    }
   ],
   "source": [
    "RE(bps.mv(m1.user_setpoint, 1, temperature.setpoint, 25))\n",
    "m1.position, temperature.position"
   ]
  },
  {
   "cell_type": "markdown",
   "id": "danish-check",
   "metadata": {},
   "source": [
    "## Count\n",
    "\n",
    "command | description\n",
    "--- | ---\n",
    "`%ct` | count _all_ objects with label `detectors` and format output (command line only)\n",
    "`SCALER.trigger().wait(); SCALER.read()` | ophyd command to count SCALER\n",
    "`bp.count([SCALER])` | bluesky plan to count\n",
    "\n",
    "Count time setting is different for various types of detectors:\n",
    "\n",
    "detector | set count time\n",
    "--- | ---\n",
    "scaler | `SCALER.preset_time.put(COUNT_TIME_S)`\n",
    "area detector | `AD.cam.acquire_time.put(COUNT_TIME_S)`"
   ]
  },
  {
   "cell_type": "code",
   "execution_count": 19,
   "id": "dietary-heating",
   "metadata": {},
   "outputs": [
    {
     "name": "stdout",
     "output_type": "stream",
     "text": [
      "[This data will not be saved. Use the RunEngine to collect data.]\n",
      "noisy                          35313.59202862202\n",
      "timebase                       11000000.0\n",
      "I0                             3.0\n",
      "scint                          4.0\n",
      "diode                          5.0\n",
      "I00                            5.0\n",
      "roi1                           0.0\n",
      "roi2                           0.0\n",
      "scaler1_time                   1.1\n"
     ]
    }
   ],
   "source": [
    "%ct"
   ]
  },
  {
   "cell_type": "code",
   "execution_count": 20,
   "id": "sunrise-heading",
   "metadata": {},
   "outputs": [
    {
     "name": "stdout",
     "output_type": "stream",
     "text": [
      "[This data will not be saved. Use the RunEngine to collect data.]\n",
      "timebase                       11000000.0\n",
      "I0                             6.0\n",
      "scint                          5.0\n",
      "diode                          5.0\n",
      "I00                            5.0\n",
      "roi1                           0.0\n",
      "roi2                           0.0\n",
      "scaler1_time                   1.1\n"
     ]
    }
   ],
   "source": [
    "%ct scalers"
   ]
  },
  {
   "cell_type": "code",
   "execution_count": 21,
   "id": "environmental-prior",
   "metadata": {},
   "outputs": [
    {
     "data": {
      "text/plain": [
       "OrderedDict([('timebase',\n",
       "              {'value': 11000000.0, 'timestamp': 1618332007.809732}),\n",
       "             ('I0', {'value': 4.0, 'timestamp': 1618332007.809732}),\n",
       "             ('scint', {'value': 7.0, 'timestamp': 1618332007.809732}),\n",
       "             ('diode', {'value': 6.0, 'timestamp': 1618332007.809732}),\n",
       "             ('I00', {'value': 5.0, 'timestamp': 1618332007.809732}),\n",
       "             ('roi1', {'value': 0.0, 'timestamp': 1618332007.809732}),\n",
       "             ('roi2', {'value': 0.0, 'timestamp': 1618332007.809732}),\n",
       "             ('scaler1_time', {'value': 1.1, 'timestamp': 1618332006.498741})])"
      ]
     },
     "execution_count": 21,
     "metadata": {},
     "output_type": "execute_result"
    }
   ],
   "source": [
    "scaler1.trigger().wait(); scaler1.read()"
   ]
  },
  {
   "cell_type": "code",
   "execution_count": 22,
   "id": "southeast-consolidation",
   "metadata": {},
   "outputs": [
    {
     "name": "stdout",
     "output_type": "stream",
     "text": [
      "\n",
      "\n",
      "Transient Scan ID: 50     Time: 2021-04-13 11:40:07\n",
      "Persistent Unique Scan ID: 'ae997aea-5a53-4d24-8fb6-eef03b3d9eca'\n",
      "New stream: 'baseline'\n",
      "New stream: 'primary'\n",
      "+-----------+------------+------------+------------+------------+------------+------------+------------+------------+\n",
      "|   seq_num |       time |   timebase |         I0 |      scint |      diode |        I00 |       roi1 |       roi2 |\n",
      "+-----------+------------+------------+------------+------------+------------+------------+------------+------------+\n",
      "|         1 | 11:40:09.3 |   11000000 |          4 |          4 |          4 |          5 |          0 |          0 |\n",
      "+-----------+------------+------------+------------+------------+------------+------------+------------+------------+\n",
      "generator count ['ae997aea'] (scan num: 50)\n"
     ]
    },
    {
     "data": {
      "text/plain": [
       "('ae997aea-5a53-4d24-8fb6-eef03b3d9eca',)"
      ]
     },
     "execution_count": 22,
     "metadata": {},
     "output_type": "execute_result"
    }
   ],
   "source": [
    "RE(bp.count([scaler1]))"
   ]
  },
  {
   "cell_type": "code",
   "execution_count": 23,
   "id": "focal-level",
   "metadata": {},
   "outputs": [
    {
     "name": "stdout",
     "output_type": "stream",
     "text": [
      "\n",
      "\n",
      "Transient Scan ID: 51     Time: 2021-04-13 11:40:09\n",
      "Persistent Unique Scan ID: '4148410b-8c56-46e7-bc0f-0681b3312f82'\n",
      "New stream: 'baseline'\n",
      "New stream: 'primary'\n",
      "+-----------+------------+------------+------------+------------+------------+------------+------------+------------+\n",
      "|   seq_num |       time |   timebase |         I0 |      scint |      diode |        I00 |       roi1 |       roi2 |\n",
      "+-----------+------------+------------+------------+------------+------------+------------+------------+------------+\n",
      "|         1 | 11:40:10.9 |   11000000 |          4 |          4 |          5 |          4 |          0 |          0 |\n",
      "+-----------+------------+------------+------------+------------+------------+------------+------------+------------+\n",
      "generator count ['4148410b'] (scan num: 51)\n"
     ]
    },
    {
     "data": {
      "text/plain": [
       "('4148410b-8c56-46e7-bc0f-0681b3312f82',)"
      ]
     },
     "execution_count": 23,
     "metadata": {},
     "output_type": "execute_result"
    }
   ],
   "source": [
    "def my_plan():\n",
    "    yield from bp.count([scaler1])\n",
    "\n",
    "RE(my_plan())"
   ]
  }
 ],
 "metadata": {
  "kernelspec": {
   "display_name": "bluesky_2021_1",
   "language": "python",
   "name": "bluesky_2021_1"
  },
  "language_info": {
   "codemirror_mode": {
    "name": "ipython",
    "version": 3
   },
   "file_extension": ".py",
   "mimetype": "text/x-python",
   "name": "python",
   "nbconvert_exporter": "python",
   "pygments_lexer": "ipython3",
   "version": "3.8.8"
  }
 },
 "nbformat": 4,
 "nbformat_minor": 5
}
