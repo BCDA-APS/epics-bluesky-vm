{
 "cells": [
  {
   "cell_type": "markdown",
   "id": "trained-marathon",
   "metadata": {},
   "source": [
    "# The `instrument` package for Bluesky Data Acquisition\n",
    "\n",
    "*APS Training for Bluesky Data Acquisition*.\n",
    "\n",
    "**Objective**\n",
    "\n",
    "In this notebook, we describe the `instrument` package for a simulated X-ray instrument at a user facility such as the Advanced Photon Source.  The goal is to use EPICS as much as possible to provide the control system features and to use Bluesky (providing the data acquisition framework) as a thin layer on top of EPICS.\n",
    "\n",
    "**Contents**\n",
    "\n",
    "* [Start the `instrument` package](#start-the-instrument-package)\n",
    "* [Description](#Description)\n",
    "  * [`adsimdet`](#adsimdet)\n",
    "  * [`scaler1`](#scaler1)\n",
    "  * [`temperature`](#temperature)\n",
    "  * [motors](#motors)\n",
    "  * [`noisy`](#noisy)\n",
    "  * [plans](#plans)\n",
    "* [Log files](#log-files)\n",
    "* [SPEC data files](#spec-data-files)\n",
    "* [User code file](#user-code-file)\n",
    "* [`databroker`](#databroker)\n",
    "\n",
    "**Overview**\n",
    "\n",
    "This simulated instrument is provided using [docker](https://www.docker.com/) images\n",
    "for [EPICS base](https://www.aps.anl.gov/epics), the [synApps](https://www.aps.anl.gov/BCDA/synApps) [xxx](https://github.com/epics-modules/xxx) module, and [EPICS area detector](https://areadetector.github.io/master/index.html) [ADSimDetector](https://areadetector.github.io/master/ADSimDetector/simDetector.html?highlight=adsimdetector).  The images are based on these software versions:\n",
    "\n",
    "* Ubuntu 20.04\n",
    "* EPICS base 7.0.3\n",
    "* synApps 6.1\n",
    "* area detector 3.7\n",
    "\n",
    "Two EPICS IOCs are provided:\n",
    "\n",
    "prefix | description | docker image | documentation\n",
    ":--- | :--- | :--- | :---\n",
    "`ad:` | area detector IOC | [`prjemian/synapps-6.1-ad-3.7`](https://hub.docker.com/r/prjemian/synapps-6.1-ad-3.7) | https://github.com/prjemian/epics-docker/tree/main/n4_areaDetector\n",
    "`gp:` | general purpose IOC | [`prjemian/synApps-6.1`](https://hub.docker.com/r/prjemian/synapps-6.1) | https://github.com/prjemian/epics-docker/tree/main/n3_synApps\n",
    "\n",
    "## Start the `instrument` package"
   ]
  },
  {
   "cell_type": "code",
   "execution_count": 1,
   "id": "valued-istanbul",
   "metadata": {},
   "outputs": [
    {
     "name": "stderr",
     "output_type": "stream",
     "text": [
      "I Tue-11:31:54 - ############################################################ startup\n",
      "I Tue-11:31:54 - logging started\n",
      "I Tue-11:31:54 - logging level = 10\n",
      "I Tue-11:31:54 - /home/prjemian/Documents/projects/BCDA-APS/epics-bluesky-vm/instrument/collection.py\n",
      "I Tue-11:31:54 - /home/prjemian/Documents/projects/BCDA-APS/epics-bluesky-vm/instrument/mpl/notebook.py\n"
     ]
    },
    {
     "name": "stdout",
     "output_type": "stream",
     "text": [
      "Activating auto-logging. Current session state plus future input saved.\n",
      "Filename       : /home/prjemian/Documents/projects/BCDA-APS/epics-bluesky-vm/.logs/ipython_console.log\n",
      "Mode           : rotate\n",
      "Output logging : True\n",
      "Raw input log  : False\n",
      "Timestamping   : True\n",
      "State          : active\n"
     ]
    },
    {
     "name": "stderr",
     "output_type": "stream",
     "text": [
      "I Tue-11:31:54 - /home/prjemian/Documents/projects/BCDA-APS/epics-bluesky-vm/instrument/iocs/check_iocs.py\n",
      "I Tue-11:31:54 - EPICS IOCs ready...\n",
      "I Tue-11:31:54 - #### Bluesky Framework ####\n",
      "I Tue-11:31:54 - /home/prjemian/Documents/projects/BCDA-APS/epics-bluesky-vm/instrument/framework/check_python.py\n",
      "I Tue-11:31:54 - /home/prjemian/Documents/projects/BCDA-APS/epics-bluesky-vm/instrument/framework/check_bluesky.py\n",
      "I Tue-11:31:55 - /home/prjemian/Documents/projects/BCDA-APS/epics-bluesky-vm/instrument/framework/initialize.py\n",
      "I Tue-11:31:55 - using databroker catalog 'training'\n",
      "I Tue-11:31:55 - /home/prjemian/Documents/projects/BCDA-APS/epics-bluesky-vm/instrument/framework/metadata.py\n",
      "I Tue-11:31:55 - #### Devices ####\n",
      "I Tue-11:31:55 - /home/prjemian/Documents/projects/BCDA-APS/epics-bluesky-vm/instrument/devices/area_detector.py\n",
      "I Tue-11:31:55 - /home/prjemian/Documents/projects/BCDA-APS/epics-bluesky-vm/instrument/devices/calculation_records.py\n",
      "I Tue-11:31:57 - /home/prjemian/Documents/projects/BCDA-APS/epics-bluesky-vm/instrument/devices/ioc_stats.py\n",
      "I Tue-11:31:57 - /home/prjemian/Documents/projects/BCDA-APS/epics-bluesky-vm/instrument/devices/motors.py\n",
      "I Tue-11:31:58 - /home/prjemian/Documents/projects/BCDA-APS/epics-bluesky-vm/instrument/devices/noisy_detector.py\n",
      "I Tue-11:31:58 - /home/prjemian/Documents/projects/BCDA-APS/epics-bluesky-vm/instrument/devices/scaler.py\n",
      "I Tue-11:32:00 - /home/prjemian/Documents/projects/BCDA-APS/epics-bluesky-vm/instrument/devices/shutter_simulator.py\n",
      "I Tue-11:32:00 - /home/prjemian/Documents/projects/BCDA-APS/epics-bluesky-vm/instrument/devices/temperature_signal.py\n",
      "I Tue-11:32:00 - #### Callbacks ####\n",
      "I Tue-11:32:00 - /home/prjemian/Documents/projects/BCDA-APS/epics-bluesky-vm/instrument/callbacks/spec_data_file_writer.py\n",
      "I Tue-11:32:00 - writing to SPEC file: /home/prjemian/Documents/projects/BCDA-APS/epics-bluesky-vm/20210413-113200.dat\n",
      "I Tue-11:32:00 -    >>>>   Using default SPEC file name   <<<<\n",
      "I Tue-11:32:00 -    file will be created when bluesky ends its next scan\n",
      "I Tue-11:32:00 -    to change SPEC file, use command:   newSpecFile('title')\n",
      "I Tue-11:32:00 - #### Plans ####\n",
      "I Tue-11:32:00 - /home/prjemian/Documents/projects/BCDA-APS/epics-bluesky-vm/instrument/plans/peak_finder_example.py\n",
      "I Tue-11:32:00 - #### Utilities ####\n",
      "I Tue-11:32:00 - /home/prjemian/Documents/projects/BCDA-APS/epics-bluesky-vm/instrument/utils/image_analysis.py\n",
      "I Tue-11:32:00 - #### Startup is complete. ####\n"
     ]
    }
   ],
   "source": [
    "from instrument.collection import *"
   ]
  },
  {
   "cell_type": "markdown",
   "id": "indirect-synthetic",
   "metadata": {},
   "source": [
    "## Description\n",
    "\n",
    "Might be a good idea to know now what this instrument package provides.  \n",
    "\n",
    "Notably, the table includes:\n",
    "\n",
    "ophyd name(s) | Description | label(s)\n",
    ":--- | :---| :---\n",
    "`adsimdet` | simulated EPICS area detector | `area_detector`\n",
    "`calcs` & `calcouts` | calculation support |\n",
    "`gp_stats` | details about the general purpose IOC |\n",
    "`I0`, `diode`, ... | named scaler channels | `counter`\n",
    "`m1` .. `m16` | 16 simulated EPICS motors | `motor`\n",
    "`noisy` | simulated diffraction peak |\n",
    "`scaler1` | simulated 16-channel EPICS scaler | `scalers`\n",
    "`shutter` | simulated shutter | \n",
    "`temperature` | simulated temperature controller |"
   ]
  },
  {
   "cell_type": "markdown",
   "id": "bacterial-doctrine",
   "metadata": {},
   "source": [
    "### `adsimdet`"
   ]
  },
  {
   "cell_type": "markdown",
   "id": "tough-designer",
   "metadata": {},
   "source": [
    "The EPICS Area Detector ADSimDetector is included with this instrument as `adsimdet`.  The detector is a monochrome 1k x 1k frame.  The image is written to an HDF5 file and made available to the [`databroker`](#databroker) via a shared volume from the docker container.  `adsimdet` can be used as a detector.\n",
    "\n",
    "The image is a simulated diffraction spot with center randomly-chosen between 100..900 on both axes.  The width is also random as is the peak intensity and noise level.  Furthermore, to simulate realistic conditions, the center position of both axes is adjusted by a few pixels using a pair of *swait* records (`gp:userCalc9` & `gp:userCalc10`) updating from random numbers."
   ]
  },
  {
   "cell_type": "code",
   "execution_count": 2,
   "id": "built-japanese",
   "metadata": {},
   "outputs": [
    {
     "name": "stdout",
     "output_type": "stream",
     "text": [
      "data keys (* hints)\n",
      "-------------------\n",
      "\n",
      "read attrs\n",
      "----------\n",
      "hdf1                 MyHDF5Plugin        ('adsimdet_hdf1')\n",
      "\n",
      "config keys\n",
      "-----------\n",
      "adsimdet_cam_acquire_period\n",
      "adsimdet_cam_acquire_time\n",
      "adsimdet_cam_image_mode\n",
      "adsimdet_cam_manufacturer\n",
      "adsimdet_cam_model\n",
      "adsimdet_cam_num_exposures\n",
      "adsimdet_cam_num_images\n",
      "adsimdet_cam_trigger_mode\n",
      "\n",
      "configuration attrs\n",
      "-------------------\n",
      "cam                  MyFixedCam          ('adsimdet_cam')\n",
      "cam.acquire_period   EpicsSignalWithRBV  ('adsimdet_cam_acquire_period')\n",
      "cam.acquire_time     EpicsSignalWithRBV  ('adsimdet_cam_acquire_time')\n",
      "cam.image_mode       EpicsSignalWithRBV  ('adsimdet_cam_image_mode')\n",
      "cam.manufacturer     EpicsSignalRO       ('adsimdet_cam_manufacturer')\n",
      "cam.model            EpicsSignalRO       ('adsimdet_cam_model')\n",
      "cam.num_exposures    EpicsSignalWithRBV  ('adsimdet_cam_num_exposures')\n",
      "cam.num_images       EpicsSignalWithRBV  ('adsimdet_cam_num_images')\n",
      "cam.trigger_mode     EpicsSignalWithRBV  ('adsimdet_cam_trigger_mode')\n",
      "hdf1                 MyHDF5Plugin        ('adsimdet_hdf1')\n",
      "\n",
      "unused attrs\n",
      "------------\n",
      "configuration_names  ArrayAttributeSignal('adsimdet_configuration_names')\n",
      "image                MyFixedImagePlugin  ('adsimdet_image')\n",
      "\n"
     ]
    }
   ],
   "source": [
    "adsimdet.summary()"
   ]
  },
  {
   "cell_type": "markdown",
   "id": "clear-tribute",
   "metadata": {},
   "source": [
    "### `scaler1`"
   ]
  },
  {
   "cell_type": "markdown",
   "id": "cultural-aruba",
   "metadata": {},
   "source": [
    "A simulated 16-channel scaler is configured with several channels of pulse counters, typical of a synchrotron beam line.  `scaler1` can be used as a detector."
   ]
  },
  {
   "cell_type": "code",
   "execution_count": 3,
   "id": "least-chapel",
   "metadata": {},
   "outputs": [
    {
     "name": "stdout",
     "output_type": "stream",
     "text": [
      "data keys (* hints)\n",
      "-------------------\n",
      "*I0\n",
      "*I00\n",
      "*diode\n",
      "*roi1\n",
      "*roi2\n",
      " scaler1_time\n",
      "*scint\n",
      "*timebase\n",
      "\n",
      "read attrs\n",
      "----------\n",
      "channels             Channels            ('scaler1_channels')\n",
      "channels.chan01      ScalerChannel       ('scaler1_channels_chan01')\n",
      "channels.chan01.s    EpicsSignalRO       ('timebase')\n",
      "channels.chan02      ScalerChannel       ('scaler1_channels_chan02')\n",
      "channels.chan02.s    EpicsSignalRO       ('I0')\n",
      "channels.chan03      ScalerChannel       ('scaler1_channels_chan03')\n",
      "channels.chan03.s    EpicsSignalRO       ('scint')\n",
      "channels.chan04      ScalerChannel       ('scaler1_channels_chan04')\n",
      "channels.chan04.s    EpicsSignalRO       ('diode')\n",
      "channels.chan05      ScalerChannel       ('scaler1_channels_chan05')\n",
      "channels.chan05.s    EpicsSignalRO       ('I00')\n",
      "channels.chan11      ScalerChannel       ('scaler1_channels_chan11')\n",
      "channels.chan11.s    EpicsSignalRO       ('roi1')\n",
      "channels.chan12      ScalerChannel       ('scaler1_channels_chan12')\n",
      "channels.chan12.s    EpicsSignalRO       ('roi2')\n",
      "time                 EpicsSignal         ('scaler1_time')\n",
      "\n",
      "config keys\n",
      "-----------\n",
      "scaler1_auto_count_delay\n",
      "scaler1_auto_count_time\n",
      "scaler1_channels_chan01_chname\n",
      "scaler1_channels_chan01_gate\n",
      "scaler1_channels_chan01_preset\n",
      "scaler1_channels_chan02_chname\n",
      "scaler1_channels_chan02_gate\n",
      "scaler1_channels_chan02_preset\n",
      "scaler1_channels_chan03_chname\n",
      "scaler1_channels_chan03_gate\n",
      "scaler1_channels_chan03_preset\n",
      "scaler1_channels_chan04_chname\n",
      "scaler1_channels_chan04_gate\n",
      "scaler1_channels_chan04_preset\n",
      "scaler1_channels_chan05_chname\n",
      "scaler1_channels_chan05_gate\n",
      "scaler1_channels_chan05_preset\n",
      "scaler1_channels_chan11_chname\n",
      "scaler1_channels_chan11_gate\n",
      "scaler1_channels_chan11_preset\n",
      "scaler1_channels_chan12_chname\n",
      "scaler1_channels_chan12_gate\n",
      "scaler1_channels_chan12_preset\n",
      "scaler1_count_mode\n",
      "scaler1_delay\n",
      "scaler1_egu\n",
      "scaler1_freq\n",
      "scaler1_preset_time\n",
      "\n",
      "configuration attrs\n",
      "-------------------\n",
      "channels             Channels            ('scaler1_channels')\n",
      "channels.chan01      ScalerChannel       ('scaler1_channels_chan01')\n",
      "channels.chan01.chname EpicsSignal         ('scaler1_channels_chan01_chname')\n",
      "channels.chan01.preset EpicsSignal         ('scaler1_channels_chan01_preset')\n",
      "channels.chan01.gate EpicsSignal         ('scaler1_channels_chan01_gate')\n",
      "channels.chan02      ScalerChannel       ('scaler1_channels_chan02')\n",
      "channels.chan02.chname EpicsSignal         ('scaler1_channels_chan02_chname')\n",
      "channels.chan02.preset EpicsSignal         ('scaler1_channels_chan02_preset')\n",
      "channels.chan02.gate EpicsSignal         ('scaler1_channels_chan02_gate')\n",
      "channels.chan03      ScalerChannel       ('scaler1_channels_chan03')\n",
      "channels.chan03.chname EpicsSignal         ('scaler1_channels_chan03_chname')\n",
      "channels.chan03.preset EpicsSignal         ('scaler1_channels_chan03_preset')\n",
      "channels.chan03.gate EpicsSignal         ('scaler1_channels_chan03_gate')\n",
      "channels.chan04      ScalerChannel       ('scaler1_channels_chan04')\n",
      "channels.chan04.chname EpicsSignal         ('scaler1_channels_chan04_chname')\n",
      "channels.chan04.preset EpicsSignal         ('scaler1_channels_chan04_preset')\n",
      "channels.chan04.gate EpicsSignal         ('scaler1_channels_chan04_gate')\n",
      "channels.chan05      ScalerChannel       ('scaler1_channels_chan05')\n",
      "channels.chan05.chname EpicsSignal         ('scaler1_channels_chan05_chname')\n",
      "channels.chan05.preset EpicsSignal         ('scaler1_channels_chan05_preset')\n",
      "channels.chan05.gate EpicsSignal         ('scaler1_channels_chan05_gate')\n",
      "channels.chan11      ScalerChannel       ('scaler1_channels_chan11')\n",
      "channels.chan11.chname EpicsSignal         ('scaler1_channels_chan11_chname')\n",
      "channels.chan11.preset EpicsSignal         ('scaler1_channels_chan11_preset')\n",
      "channels.chan11.gate EpicsSignal         ('scaler1_channels_chan11_gate')\n",
      "channels.chan12      ScalerChannel       ('scaler1_channels_chan12')\n",
      "channels.chan12.chname EpicsSignal         ('scaler1_channels_chan12_chname')\n",
      "channels.chan12.preset EpicsSignal         ('scaler1_channels_chan12_preset')\n",
      "channels.chan12.gate EpicsSignal         ('scaler1_channels_chan12_gate')\n",
      "count_mode           EpicsSignal         ('scaler1_count_mode')\n",
      "delay                EpicsSignal         ('scaler1_delay')\n",
      "auto_count_delay     EpicsSignal         ('scaler1_auto_count_delay')\n",
      "freq                 EpicsSignal         ('scaler1_freq')\n",
      "preset_time          EpicsSignal         ('scaler1_preset_time')\n",
      "auto_count_time      EpicsSignal         ('scaler1_auto_count_time')\n",
      "egu                  EpicsSignal         ('scaler1_egu')\n",
      "\n",
      "unused attrs\n",
      "------------\n",
      "count                EpicsSignal         ('scaler1_count')\n",
      "update_rate          EpicsSignal         ('scaler1_update_rate')\n",
      "auto_count_update_rate EpicsSignal         ('scaler1_auto_count_update_rate')\n",
      "\n"
     ]
    }
   ],
   "source": [
    "scaler1.summary()"
   ]
  },
  {
   "cell_type": "markdown",
   "id": "crazy-lancaster",
   "metadata": {},
   "source": [
    "The timebase is always shown.  The additional channels (using names from the scaler GUI screen) are shown output of `listdevice(scaler1)` below.\n",
    "\n",
    "Note that in the instrument package, the channel names were assigned on startup.  An operating beam line would not do define the names here but instead, let the instrument team name these channels in the GUI screen at the time the cables from the pulse detectors are connected physically to the scaler.\n",
    "\n",
    "Count the scaler from the command line:"
   ]
  },
  {
   "cell_type": "code",
   "execution_count": 4,
   "id": "interpreted-multimedia",
   "metadata": {},
   "outputs": [
    {
     "name": "stdout",
     "output_type": "stream",
     "text": [
      "[This data will not be saved. Use the RunEngine to collect data.]\n",
      "timebase                       11000000.0\n",
      "I0                             6.0\n",
      "scint                          4.0\n",
      "diode                          5.0\n",
      "I00                            5.0\n",
      "roi1                           0.0\n",
      "roi2                           0.0\n",
      "scaler1_time                   1.1\n"
     ]
    }
   ],
   "source": [
    "%ct scalers"
   ]
  },
  {
   "cell_type": "markdown",
   "id": "valid-morris",
   "metadata": {},
   "source": [
    "NOTE: the actual counts are random numbers.  Also, the EPICS soft scaler seems to add 0.1s to the counting time.  Might be a bug with the EPICS scaler code."
   ]
  },
  {
   "cell_type": "code",
   "execution_count": 5,
   "id": "earned-hayes",
   "metadata": {},
   "outputs": [
    {
     "name": "stdout",
     "output_type": "stream",
     "text": [
      "============ ========== ==========================\n",
      "name         value      timestamp                 \n",
      "============ ========== ==========================\n",
      "timebase     11000000.0 2021-04-13 11:32:02.253280\n",
      "I0           6.0        2021-04-13 11:32:02.253280\n",
      "scint        4.0        2021-04-13 11:32:02.253280\n",
      "diode        5.0        2021-04-13 11:32:02.253280\n",
      "I00          5.0        2021-04-13 11:32:02.253280\n",
      "roi1         0.0        2021-04-13 11:32:02.253280\n",
      "roi2         0.0        2021-04-13 11:32:02.253280\n",
      "scaler1_time 1.1        2021-04-13 11:13:19.111873\n",
      "============ ========== ==========================\n",
      "\n"
     ]
    },
    {
     "data": {
      "text/plain": [
       "<pyRestTable.rest_table.Table at 0x7f18cc8acfa0>"
      ]
     },
     "execution_count": 5,
     "metadata": {},
     "output_type": "execute_result"
    }
   ],
   "source": [
    "listdevice(scaler1)"
   ]
  },
  {
   "cell_type": "markdown",
   "id": "interesting-following",
   "metadata": {},
   "source": [
    "As an added convenience, shortcut names for these channels were also assigned to local Python symbols (since the object path to the channels is easy to forget) in `instrument/devices/scaler.py` with these lines:\n",
    "\n",
    "```python\n",
    "timebase = scaler1.channels.chan01.s\n",
    "I0 = scaler1.channels.chan02.s\n",
    "scint = scaler1.channels.chan03.s\n",
    "diode = scaler1.channels.chan04.s\n",
    "```"
   ]
  },
  {
   "cell_type": "markdown",
   "id": "sought-seventh",
   "metadata": {},
   "source": [
    "This command: `scaler1.select_channels()` configures `scaler` to use just the channels with non-empty names.  To limit data collection to a subset of these channels, name the channels in a list argument, such as: `scaler1.select_channels(['I0', 'diode'])`"
   ]
  },
  {
   "cell_type": "markdown",
   "id": "ultimate-melissa",
   "metadata": {},
   "source": [
    "### `temperature`"
   ]
  },
  {
   "cell_type": "markdown",
   "id": "raised-spine",
   "metadata": {},
   "source": [
    "The temperature simulator, implemented in `gp:userCalc8` works like a temperature controller, with setpoint and readback values.    `temperature` can be used as a detector **and** as a positioner (like a motor).\n",
    "\n",
    "Additional controls for noise, update interval, maximum change per update, in-position tolerance, and done are provided, either through EPICS or in Python.  Once a new setpoint is entered, the readback will progress towards it, limited by the max change and the update interval.  Once at the setpoint, noise continues to be added to the temperature to provide realism."
   ]
  },
  {
   "cell_type": "code",
   "execution_count": 6,
   "id": "ruled-monkey",
   "metadata": {},
   "outputs": [
    {
     "name": "stdout",
     "output_type": "stream",
     "text": [
      "data keys (* hints)\n",
      "-------------------\n",
      "*temperature\n",
      "*temperature_setpoint\n",
      "\n",
      "read attrs\n",
      "----------\n",
      "setpoint             EpicsSignal         ('temperature_setpoint')\n",
      "readback             EpicsSignal         ('temperature')\n",
      "\n",
      "config keys\n",
      "-----------\n",
      "temperature_calculation\n",
      "temperature_description\n",
      "temperature_max_change\n",
      "temperature_noise\n",
      "temperature_previous_value_pv\n",
      "temperature_scanning_rate\n",
      "temperature_tolerance\n",
      "\n",
      "configuration attrs\n",
      "-------------------\n",
      "calculation          EpicsSignal         ('temperature_calculation')\n",
      "description          EpicsSignal         ('temperature_description')\n",
      "max_change           EpicsSignal         ('temperature_max_change')\n",
      "noise                EpicsSignal         ('temperature_noise')\n",
      "previous_value_pv    EpicsSignal         ('temperature_previous_value_pv')\n",
      "scanning_rate        EpicsSignal         ('temperature_scanning_rate')\n",
      "tolerance            EpicsSignal         ('temperature_tolerance')\n",
      "\n",
      "unused attrs\n",
      "------------\n",
      "done                 Signal              ('temperature_done')\n",
      "report_dmov_changes  Signal              ('temperature_report_dmov_changes')\n",
      "\n",
      "==================== ================== ==========================\n",
      "name                 value              timestamp                 \n",
      "==================== ================== ==========================\n",
      "temperature_setpoint 25.0               2021-04-13 11:32:00.635706\n",
      "temperature          25.293850614175632 2021-04-13 11:32:01.138892\n",
      "==================== ================== ==========================\n",
      "\n"
     ]
    },
    {
     "data": {
      "text/plain": [
       "<pyRestTable.rest_table.Table at 0x7f18cd128eb0>"
      ]
     },
     "execution_count": 6,
     "metadata": {},
     "output_type": "execute_result"
    }
   ],
   "source": [
    "temperature.summary()\n",
    "listdevice(temperature)"
   ]
  },
  {
   "cell_type": "markdown",
   "id": "understood-vector",
   "metadata": {},
   "source": [
    "### motors"
   ]
  },
  {
   "cell_type": "markdown",
   "id": "thermal-newspaper",
   "metadata": {},
   "source": [
    "There are 16 soft motor channels: `gp:m1` .. `gp:m16`.  Any motor can be used as a detector **and** as a positioner.\n",
    "\n",
    "The first motor, `gp:m1`, is used to compute a simulated 1-D diffraction peak ([`noisy`](#noisy)) using `gp:userCalc1`.\n",
    "\n",
    "To make it easier to change the motor step size, a custom `MyEpicsMotor` class was made, subclassing from `ophyd.EpicsMotor` and adding a component to access the motor's `.SREV` (steps/revolution) field.  The default motor step size is 0.01 (with SREV=200).  For only `m1`, the step size has been changed to 0.001 by setting SREV=2000.\n",
    "\n",
    "NOTE: Changing SREV (in this simulator* seems to affect the soft motor's simulated hardware limit.  Be careful if you adjust SREV to higher numbers (smaller step sizes) that the expected range of motion remains sufficient for your measurements.  Again, another thing to change in the EPICS support."
   ]
  },
  {
   "cell_type": "code",
   "execution_count": 7,
   "id": "greater-violation",
   "metadata": {},
   "outputs": [
    {
     "name": "stdout",
     "output_type": "stream",
     "text": [
      "data keys (* hints)\n",
      "-------------------\n",
      "*m1\n",
      " m1_user_setpoint\n",
      "\n",
      "read attrs\n",
      "----------\n",
      "user_readback        EpicsSignalRO       ('m1')\n",
      "user_setpoint        EpicsSignal         ('m1_user_setpoint')\n",
      "\n",
      "config keys\n",
      "-----------\n",
      "m1_acceleration\n",
      "m1_motor_egu\n",
      "m1_user_offset\n",
      "m1_user_offset_dir\n",
      "m1_velocity\n",
      "\n",
      "configuration attrs\n",
      "-------------------\n",
      "user_offset          EpicsSignal         ('m1_user_offset')\n",
      "user_offset_dir      EpicsSignal         ('m1_user_offset_dir')\n",
      "velocity             EpicsSignal         ('m1_velocity')\n",
      "acceleration         EpicsSignal         ('m1_acceleration')\n",
      "motor_egu            EpicsSignal         ('m1_motor_egu')\n",
      "\n",
      "unused attrs\n",
      "------------\n",
      "offset_freeze_switch EpicsSignal         ('m1_offset_freeze_switch')\n",
      "set_use_switch       EpicsSignal         ('m1_set_use_switch')\n",
      "motor_is_moving      EpicsSignalRO       ('m1_motor_is_moving')\n",
      "motor_done_move      EpicsSignalRO       ('m1_motor_done_move')\n",
      "high_limit_switch    EpicsSignalRO       ('m1_high_limit_switch')\n",
      "low_limit_switch     EpicsSignalRO       ('m1_low_limit_switch')\n",
      "high_limit_travel    EpicsSignal         ('m1_high_limit_travel')\n",
      "low_limit_travel     EpicsSignal         ('m1_low_limit_travel')\n",
      "direction_of_travel  EpicsSignal         ('m1_direction_of_travel')\n",
      "motor_stop           EpicsSignal         ('m1_motor_stop')\n",
      "home_forward         EpicsSignal         ('m1_home_forward')\n",
      "home_reverse         EpicsSignal         ('m1_home_reverse')\n",
      "steps_per_revolution EpicsSignal         ('m1_steps_per_revolution')\n",
      "\n",
      "================ ===== ==========================\n",
      "name             value timestamp                 \n",
      "================ ===== ==========================\n",
      "m1               0.0   2021-04-13 11:13:15.381395\n",
      "m1_user_setpoint 0.0   2021-04-13 11:13:15.381395\n",
      "================ ===== ==========================\n",
      "\n"
     ]
    },
    {
     "data": {
      "text/plain": [
       "<pyRestTable.rest_table.Table at 0x7f19752cf9a0>"
      ]
     },
     "execution_count": 7,
     "metadata": {},
     "output_type": "execute_result"
    }
   ],
   "source": [
    "m1.summary()\n",
    "listdevice(m1)"
   ]
  },
  {
   "cell_type": "markdown",
   "id": "declared-protest",
   "metadata": {},
   "source": [
    "### `noisy`"
   ]
  },
  {
   "cell_type": "markdown",
   "id": "wireless-enough",
   "metadata": {},
   "source": [
    "A simulated diffraction peak is computed in 1-D using a Lorentzian function in EPICS PV `gp:userCalc1`.  The simulation uses the position of motor `gp:m1` and random choices for center, width, noise, and peak intensity (scale factor).  `noisy` can be used as a detector.\n",
    "\n",
    "NOTE: `noisy` is an `ophyd.EpicsSignal` (variant), thus it lacks the `.summary()` method that `ophyd.Device` objects have."
   ]
  },
  {
   "cell_type": "code",
   "execution_count": 8,
   "id": "behind-shield",
   "metadata": {},
   "outputs": [
    {
     "name": "stdout",
     "output_type": "stream",
     "text": [
      "===== ================ ==========================\n",
      "name  value            timestamp                 \n",
      "===== ================ ==========================\n",
      "noisy 38.1874849819879 2021-04-13 11:31:58.524389\n",
      "===== ================ ==========================\n",
      "\n"
     ]
    },
    {
     "data": {
      "text/plain": [
       "<pyRestTable.rest_table.Table at 0x7f18cc8c6670>"
      ]
     },
     "execution_count": 8,
     "metadata": {},
     "output_type": "execute_result"
    }
   ],
   "source": [
    "listdevice(noisy)"
   ]
  },
  {
   "cell_type": "markdown",
   "id": "loose-turtle",
   "metadata": {},
   "source": [
    "### plans\n",
    "\n",
    "Several examples of user plan are provided in file `instrument/plans/peak_finder_example.py`.  These plans are described and used in the notebook [Lineup a 1-D peak](https://nbviewer.jupyter.org/github/BCDA-APS/bluesky_instrument_training/blob/main/lineup_1d_peak.ipynb)."
   ]
  },
  {
   "cell_type": "markdown",
   "id": "corresponding-accident",
   "metadata": {},
   "source": [
    "## Log files\n",
    "\n",
    "For diagnostic and general support, log files are created to record activity.  In the working directory, the log files are written to a `./.logs` subdirectory.\n",
    "\n",
    "There are two kinds of file, one that records user commands and the python\n",
    "result, the other records items sent to the\n",
    "[customized](https://github.com/prjemian/stdlogpj#example-directing-logs-to-a-specific-directory)\n",
    "Python [logging](https://docs.python.org/3/library/logging.html) package.\n",
    "\n",
    "In the IPython session, use the `!` to run a linux command:"
   ]
  },
  {
   "cell_type": "code",
   "execution_count": 9,
   "id": "tutorial-viking",
   "metadata": {},
   "outputs": [
    {
     "name": "stdout",
     "output_type": "stream",
     "text": [
      "total 116K\n",
      "-rw-rw-r-- 1 prjemian  707 Apr 13 11:32 ipython_console.log\n",
      "-rw-rw-r-- 1 prjemian 1.5K Apr 13 11:19 ipython_console.log.001~\n",
      "-rw-rw-r-- 1 prjemian 2.0K Apr 13 11:12 ipython_console.log.002~\n",
      "-rw-rw-r-- 1 prjemian 4.2K Apr 13 11:08 ipython_console.log.003~\n",
      "-rw-rw-r-- 1 prjemian  953 Apr 13 10:58 ipython_console.log.004~\n",
      "-rw-rw-r-- 1 prjemian 1.7K Apr 13 10:54 ipython_console.log.005~\n",
      "-rw-rw-r-- 1 prjemian   20 Apr 13 10:53 ipython_console.log.006~\n",
      "-rw-rw-r-- 1 prjemian   20 Apr 13 10:52 ipython_console.log.007~\n",
      "-rw-rw-r-- 1 prjemian   20 Apr 13 10:50 ipython_console.log.008~\n",
      "-rw-rw-r-- 1 prjemian   20 Apr 13 10:49 ipython_console.log.009~\n",
      "-rw-rw-r-- 1 prjemian  976 Apr 13 10:28 ipython_console.log.010~\n",
      "-rw-rw-r-- 1 prjemian 2.1K Apr 12 17:40 ipython_console.log.011~\n",
      "-rw-rw-r-- 1 prjemian  60K Apr 13 11:32 ipython_logger.log\n"
     ]
    }
   ],
   "source": [
    "!ls -lAFgh .logs"
   ]
  },
  {
   "cell_type": "markdown",
   "id": "inclusive-dynamics",
   "metadata": {},
   "source": [
    "Let's take a look at a few lines of each type of file, to get a feel for the information logged.\n",
    "\n",
    "The `ipython_console.log` file is created for every session (every time IPython is started or every time the Jupyter kernel is started).  It records the commands that were entered and the output, if any, from each command.  It does not record anything that was sent to the console by `print()` statements.  The older log files are numbered, higher number is older (each new session shifts these numbers by 1)."
   ]
  },
  {
   "cell_type": "code",
   "execution_count": 10,
   "id": "honey-lodge",
   "metadata": {},
   "outputs": [
    {
     "name": "stdout",
     "output_type": "stream",
     "text": [
      "# IPython log file\n",
      "\n",
      "# Tue, 13 Apr 2021 11:32:00\n",
      "adsimdet.summary()\n",
      "# Tue, 13 Apr 2021 11:32:01\n",
      "scaler1.summary()\n",
      "# Tue, 13 Apr 2021 11:32:01\n",
      "get_ipython().run_line_magic('ct', 'scalers')\n",
      "# Tue, 13 Apr 2021 11:32:02\n",
      "listdevice(scaler1)\n"
     ]
    }
   ],
   "source": [
    "!head .logs/ipython_console.log"
   ]
  },
  {
   "cell_type": "markdown",
   "id": "motivated-power",
   "metadata": {},
   "source": [
    "The `ipython_logger.log` file(s) contain the output from calls to the `logger`.  The files are appended with new logger reports until the file reaches ca. 1 MB.  (Larger files are slow to append.)  Then the file is given a number and a new logger file is created.  Higher numbers are older.  At most, 9 numbered files are retained (to avoid filling disk storage with unnecessary diagnostics).\n",
    "\n",
    "A single *logger* file may contain reports from several sessions.  The third piece of information is the `pid` (process identifier) of the session.  The PID is assigned by the operating system when the session is started.\n",
    "\n",
    "The logger file contains a full report while the report's representation is more terse.  (Users do not always want the full details.  Just remember they are available in the logger file.)  Here's the last few logger lines as shown on the console:\n",
    "\n",
    "    I Wed-00:24:52 - /home/mintadmin/Documents/projects/BCDA-APS/bluesky_instrument_training/instrument/devices/temperature_signal.py\n",
    "    I Wed-00:24:52 - /home/mintadmin/Documents/projects/BCDA-APS/bluesky_instrument_training/instrument/plans/peak_finder_example.py\n",
    "    I Wed-00:24:52 - Startup is complete.\n",
    "\n",
    "Those same lines appear in the logger file as:\n",
    "\n",
    "    |2021-02-24 00:24:52.091|INFO|25986|bluesky-session|temperature_signal|11|MainThread| - /home/mintadmin/Documents/projects/BCDA-APS/bluesky_instrument_training/instrument/devices/temperature_signal.py\n",
    "    |2021-02-24 00:24:52.165|INFO|25986|bluesky-session|peak_finder_example|15|MainThread| - /home/mintadmin/Documents/projects/BCDA-APS/bluesky_instrument_training/instrument/plans/peak_finder_example.py\n",
    "    |2021-02-24 00:24:52.179|INFO|25986|bluesky-session|collection|23|MainThread| - Startup is complete.\n"
   ]
  },
  {
   "cell_type": "code",
   "execution_count": 11,
   "id": "martial-scanning",
   "metadata": {},
   "outputs": [
    {
     "name": "stdout",
     "output_type": "stream",
     "text": [
      "|2021-04-13 11:32:00.646|INFO|112203|bluesky-session|spec_data_file_writer|13|MainThread| - /home/prjemian/Documents/projects/BCDA-APS/epics-bluesky-vm/instrument/callbacks/spec_data_file_writer.py\n",
      "|2021-04-13 11:32:00.654|INFO|112203|bluesky-session|spec_data_file_writer|29|MainThread| - writing to SPEC file: /home/prjemian/Documents/projects/BCDA-APS/epics-bluesky-vm/20210413-113200.dat\n",
      "|2021-04-13 11:32:00.656|INFO|112203|bluesky-session|spec_data_file_writer|30|MainThread| -    >>>>   Using default SPEC file name   <<<<\n",
      "|2021-04-13 11:32:00.657|INFO|112203|bluesky-session|spec_data_file_writer|31|MainThread| -    file will be created when bluesky ends its next scan\n",
      "|2021-04-13 11:32:00.659|INFO|112203|bluesky-session|spec_data_file_writer|32|MainThread| -    to change SPEC file, use command:   newSpecFile('title')\n",
      "|2021-04-13 11:32:00.660|INFO|112203|bluesky-session|collection|21|MainThread| - #### Plans ####\n",
      "|2021-04-13 11:32:00.664|INFO|112203|bluesky-session|peak_finder_example|15|MainThread| - /home/prjemian/Documents/projects/BCDA-APS/epics-bluesky-vm/instrument/plans/peak_finder_example.py\n",
      "|2021-04-13 11:32:00.665|INFO|112203|bluesky-session|collection|24|MainThread| - #### Utilities ####\n",
      "|2021-04-13 11:32:00.668|INFO|112203|bluesky-session|image_analysis|11|MainThread| - /home/prjemian/Documents/projects/BCDA-APS/epics-bluesky-vm/instrument/utils/image_analysis.py\n",
      "|2021-04-13 11:32:00.708|INFO|112203|bluesky-session|collection|30|MainThread| - #### Startup is complete. ####\n"
     ]
    }
   ],
   "source": [
    "!tail .logs/ipython_logger.log"
   ]
  },
  {
   "cell_type": "markdown",
   "id": "interim-southwest",
   "metadata": {},
   "source": [
    "## SPEC data files\n",
    "\n",
    "A [SPEC](https://certif.com) data file records a copy of the scan data (area detector images are not stored in SPEC files).  By default, the file is created in the present working directory using a name constructed from the date and time with a `.dat` file extension.  Unlike SPEC, new data is written *at the end of a scan*.  It is also possible to use the [`SpecWriterCallback`](https://apstools.readthedocs.io/en/latest/source/_filewriters.html#apstools.filewriters.SpecWriterCallback) to write data extracted from the database after the experiment is done.\n",
    "\n",
    "<details>\n",
    "<summary>Example SPEC data file from a bluesky session:</summary>\n",
    "\n",
    "```\n",
    "#F /home/prjemian/Documents/projects/BCDA-APS/epics-bluesky-vm/20210412-173925.dat\n",
    "#E 1618267165\n",
    "#D Mon Apr 12 17:39:25 2021\n",
    "#C Bluesky  user = prjemian  host = zap\n",
    "#O0 \n",
    "#o0 \n",
    "\n",
    "#S 34  count(detectors=['temperature'], num=1)\n",
    "#D Mon Apr 12 17:39:34 2021\n",
    "#C Mon Apr 12 17:39:34 2021.  plan_type = generator\n",
    "#C Mon Apr 12 17:39:34 2021.  uid = d94d2126-fd52-461c-9284-23e5f34b326b\n",
    "#MD uid = d94d2126-fd52-461c-9284-23e5f34b326b\n",
    "#MD beamline_id = APS EPICS/Python/Bluesky training VM\n",
    "#MD detectors = ['temperature']\n",
    "#MD instrument_name = training\n",
    "#MD login_id = prjemian@zap\n",
    "#MD notebook = watch_temperature\n",
    "#MD num_intervals = 0\n",
    "#MD num_points = 1\n",
    "#MD pid = 59652\n",
    "#MD proposal_id = training-2021-04\n",
    "#MD versions = {'apstools': '1.4.1', 'bluesky': '1.6.7', 'databroker': '1.2.2', 'epics': '3.4.3', 'h5py': '3.2.1', 'intake': '0.6.2', 'matplotlib': '3.3.4', 'numpy': '1.20.1', 'ophyd': '1.6.1', 'pyRestTable': '2020.0.3', 'spec2nexus': '2021.1.8'}\n",
    "#P0 \n",
    "#N 4\n",
    "#L Epoch_float  Epoch  temperature_setpoint  temperature\n",
    "0.2451648712158203 0 35.0 34.51313801785306\n",
    "#C Mon Apr 12 17:39:34 2021.  num_events_baseline = 2\n",
    "#C Mon Apr 12 17:39:34 2021.  num_events_primary = 1\n",
    "#C Mon Apr 12 17:39:34 2021.  exit_status = success\n",
    "\n",
    "#S 35  count(detectors=['temperature'], num=10)\n",
    "#D Mon Apr 12 17:39:35 2021\n",
    "#C Mon Apr 12 17:39:35 2021.  plan_type = generator\n",
    "#C Mon Apr 12 17:39:35 2021.  uid = b6c9ebd4-f468-4ea2-9ca5-58c98dec0038\n",
    "#MD uid = b6c9ebd4-f468-4ea2-9ca5-58c98dec0038\n",
    "#MD beamline_id = APS EPICS/Python/Bluesky training VM\n",
    "#MD detectors = ['temperature']\n",
    "#MD instrument_name = training\n",
    "#MD login_id = prjemian@zap\n",
    "#MD notebook = watch_temperature\n",
    "#MD num_intervals = 9\n",
    "#MD num_points = 10\n",
    "#MD pid = 59652\n",
    "#MD proposal_id = training-2021-04\n",
    "#MD versions = {'apstools': '1.4.1', 'bluesky': '1.6.7', 'databroker': '1.2.2', 'epics': '3.4.3', 'h5py': '3.2.1', 'intake': '0.6.2', 'matplotlib': '3.3.4', 'numpy': '1.20.1', 'ophyd': '1.6.1', 'pyRestTable': '2020.0.3', 'spec2nexus': '2021.1.8'}\n",
    "#P0 \n",
    "#N 4\n",
    "#L Epoch_float  Epoch  temperature_setpoint  temperature\n",
    "0.3207590579986572 0 35.0 34.51313801785306\n",
    "0.4158611297607422 0 35.0 34.51313801785306\n",
    "0.4893224239349365 0 35.0 34.51313801785306\n",
    "0.5678913593292236 1 35.0 34.51313801785306\n",
    "0.6414732933044434 1 35.0 34.51313801785306\n",
    "0.715355634689331 1 35.0 34.51313801785306\n",
    "0.7859370708465576 1 35.0 34.51313801785306\n",
    "0.8607561588287354 1 35.0 34.51313801785306\n",
    "0.9332618713378906 1 35.0 34.51313801785306\n",
    "1.0043187141418457 1 35.0 34.51313801785306\n",
    "#C Mon Apr 12 17:39:36 2021.  num_events_baseline = 2\n",
    "#C Mon Apr 12 17:39:36 2021.  num_events_primary = 10\n",
    "#C Mon Apr 12 17:39:36 2021.  exit_status = success\n",
    "```\n",
    "\n",
    "</details>"
   ]
  },
  {
   "cell_type": "markdown",
   "id": "exact-lottery",
   "metadata": {},
   "source": [
    "## User Code File\n",
    "\n",
    "A common request from instruments is to allow the user to write some python code that can be loaded into the current session.  Since this codedevelopment of this *user code* is often iterative, it must be possible to reload the code without requiring the session to exit and restart.\n",
    "\n",
    "The local file [`pv_finder.py`](pv_finder.py) provides an example of such a user code file.  Load this file with the command:\n",
    "\n",
    "    %run -im pv_finder\n",
    "\n",
    "Note that since the `m` (as module) command option was added, it is not necessary to give the Python extension `.py`.\n",
    "\n",
    "This file loads the command `findpv(PVNAME)` which identifies the name of the ophyd object(s) using the PV name passed as an argument.  Take for example, we want to find PV `gp:userCalc8.CALC`:"
   ]
  },
  {
   "cell_type": "code",
   "execution_count": 12,
   "id": "parental-vision",
   "metadata": {},
   "outputs": [],
   "source": [
    "%run -im pv_finder"
   ]
  },
  {
   "cell_type": "code",
   "execution_count": 13,
   "id": "qualified-mustang",
   "metadata": {},
   "outputs": [
    {
     "name": "stderr",
     "output_type": "stream",
     "text": [
      "Subscription value callback exception (EpicsSignal(read_pv='ad:image1:ArrayData', name='adsimdet_image_array_data', parent='adsimdet_image', value=array([], dtype=uint8), timestamp=631152000.0, auto_monitor=True, string=False, write_pv='ad:image1:ArrayData', limits=False, put_complete=False))\n",
      "Traceback (most recent call last):\n",
      "  File \"/home/prjemian/.local/lib/python3.8/site-packages/ophyd/device.py\", line 223, in __get__\n",
      "    return instance._signals[self.attr]\n",
      "KeyError: 'shaped_image'\n",
      "\n",
      "During handling of the above exception, another exception occurred:\n",
      "\n",
      "Traceback (most recent call last):\n",
      "  File \"/home/prjemian/.local/lib/python3.8/site-packages/ophyd/ophydobj.py\", line 462, in inner\n",
      "    cb(*args, **kwargs)\n",
      "  File \"/home/prjemian/.local/lib/python3.8/site-packages/ophyd/signal.py\", line 608, in _derived_value_callback\n",
      "    value = self.inverse(value)\n",
      "  File \"/home/prjemian/.local/lib/python3.8/site-packages/ophyd/areadetector/base.py\", line 107, in inverse\n",
      "    raise RuntimeError(f\"Invalid array size {self.derived_shape}\")\n",
      "RuntimeError: Invalid array size (0, 0, 0)\n"
     ]
    },
    {
     "data": {
      "text/plain": [
       "{'read': ['calcs.calc8.calculation', 'temperature.calculation'],\n",
       " 'write': ['calcs.calc8.calculation', 'temperature.calculation']}"
      ]
     },
     "execution_count": 13,
     "metadata": {},
     "output_type": "execute_result"
    }
   ],
   "source": [
    "findpv(\"gp:userCalc8.CALC\")"
   ]
  },
  {
   "cell_type": "markdown",
   "id": "commercial-cancellation",
   "metadata": {},
   "source": [
    "Observe that the same `.calculation` is both readable and writable from two different ophyd objects: `calcs.calc8` and `temperature`.\n",
    "\n",
    "This command might generate a `KeyError` and/or a `RuntimeError` if the area detector has not passed an image array to the `Image1` plugin.  This error cannot be trapped as it occurs in the underlying subscription.  But, it may be sfaely ignored here."
   ]
  },
  {
   "cell_type": "markdown",
   "id": "crucial-talent",
   "metadata": {},
   "source": [
    "## databroker\n",
    "\n",
    "The [`databroker`](https://blueskyproject.io/databroker) package provides \n",
    "a Python interface to the database with the experiment data, including \n",
    "references to the large file content such as area detector images.  A \n",
    "[YAML](https://yaml.org) configuration file connects databroker with a \n",
    "specific repository in the MongoDB database server.  In the example here \n",
    "([`bluesky_class.yml`](./bluesky_class.yml)), the name of the *catalog* entry\n",
    "in this file is `class_2021_03`.  It makes two connections to a MongoDB server\n",
    "running on the same workstation `localhost`.  Both connections are to the \n",
    "same MongoDB collection: `class_2021_03-bluesky`.  The name of the file\n",
    "is not important as long as it is placed in a directory searched by \n",
    "`databroker.catalog`.\n",
    "\n",
    "**Example**\n",
    "\n",
    "```yml\n",
    "# file: bluesky_class.yml\n",
    "# purpose: Configuration file to connect Bluesky databroker with MongoDB\n",
    "# For 2021-03 Python Training at APS\n",
    "\n",
    "# Copy to: ~/.local/share/intake/bluesky_class.yml\n",
    "# Create subdirectories as needed\n",
    "\n",
    "sources:\n",
    "  class_2021_03:\n",
    "    args:\n",
    "      asset_registry_db: mongodb://localhost:27017/class_2021_03-bluesky\n",
    "      metadatastore_db: mongodb://localhost:27017/class_2021_03-bluesky\n",
    "    driver: bluesky-mongo-normalized-catalog\n",
    "```\n",
    "\n",
    "When the bluesky session starts, this `class_2021_03` catalog is referenced when\n",
    "creating the `db` object in the instrument package, in \n",
    "`instrument.framework.initialize.py` by these lines:\n",
    "\n",
    "```python\n",
    "catalog_name = \"class_2021_03\"\n",
    "db = databroker.catalog[catalog_name].v1\n",
    "logger.info(f\"using databroker catalog '{catalog_name}'\")\n",
    "```"
   ]
  }
 ],
 "metadata": {
  "kernelspec": {
   "display_name": "Python 3",
   "language": "python",
   "name": "python3"
  },
  "language_info": {
   "codemirror_mode": {
    "name": "ipython",
    "version": 3
   },
   "file_extension": ".py",
   "mimetype": "text/x-python",
   "name": "python",
   "nbconvert_exporter": "python",
   "pygments_lexer": "ipython3",
   "version": "3.8.8"
  }
 },
 "nbformat": 4,
 "nbformat_minor": 5
}
