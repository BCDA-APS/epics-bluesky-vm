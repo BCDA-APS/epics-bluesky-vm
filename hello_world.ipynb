{
 "cells": [
  {
   "cell_type": "markdown",
   "metadata": {},
   "source": [
    "# Bluesky *Hello, World!*\n",
    "\n",
    "**Objective**:\n",
    "A few lines of Python to test:\n",
    "\n",
    "* account is setup\n",
    "* basic import works\n",
    "* [`ophyd`](blueskyproject.io/ophyd) package is importable\n",
    "* [`PyEpics`](http://pyepics.github.io/pyepics/) connects with [EPICS](https://epics.anl.gov) [IOC](https://github.com/prjemian/epics-docker)\n",
    "* EPICS IOC is running\n",
    "\n",
    "Note: A *Hello, World!* program tests that the most basic infrastructure is working for users."
   ]
  },
  {
   "cell_type": "code",
   "execution_count": 1,
   "metadata": {},
   "outputs": [
    {
     "name": "stdout",
     "output_type": "stream",
     "text": [
      "ioc = 'gp:'\n"
     ]
    }
   ],
   "source": [
    "ioc = \"gp:\"\n",
    "print(f\"{ioc = }\")"
   ]
  },
  {
   "cell_type": "code",
   "execution_count": 2,
   "metadata": {},
   "outputs": [],
   "source": [
    "from ophyd import EpicsSignal"
   ]
  },
  {
   "cell_type": "code",
   "execution_count": 3,
   "metadata": {},
   "outputs": [
    {
     "name": "stdout",
     "output_type": "stream",
     "text": [
      "uptime.connected = False\n"
     ]
    }
   ],
   "source": [
    "uptime =  EpicsSignal(f\"{ioc}UPTIME\", name=\"uptime\")\n",
    "print(f\"{uptime.connected = }\")"
   ]
  },
  {
   "cell_type": "code",
   "execution_count": 4,
   "metadata": {},
   "outputs": [
    {
     "name": "stdout",
     "output_type": "stream",
     "text": [
      "uptime.connected = True\n"
     ]
    }
   ],
   "source": [
    "uptime.wait_for_connection()\n",
    "print(f\"{uptime.connected = }\")"
   ]
  },
  {
   "cell_type": "code",
   "execution_count": 5,
   "metadata": {},
   "outputs": [
    {
     "name": "stdout",
     "output_type": "stream",
     "text": [
      "uptime.get() = '02:20:41'\n"
     ]
    }
   ],
   "source": [
    "print(f\"{uptime.get() = }\")"
   ]
  },
  {
   "cell_type": "markdown",
   "metadata": {},
   "source": [
    "## Challenges\n",
    "\n",
    "Try these additional modifications or activities.\n",
    "\n",
    "1. Use `EpicsSignal` to connect with other EPICS PVs. (such as `ad:cam1:Acquire` or `gp:m2.RBV`)\n",
    "2. Connect with `gp:UPTIME.SCAN` and find the names of the different values.  (Use the `.enum_strs` property.)\n",
    "3. Get the PV's `.SCAN` field as an integer value. (use `.get(as_string=False)`)\n",
    "4. Get the PV's `.SCAN` field as a string value. (use `.get(as_string=True)`)\n",
    "5. Connect with `gp:UPTIME.SCAN` and return a string by default (use `EpicsSignal(... string=True)`)"
   ]
  }
 ],
 "metadata": {
  "kernelspec": {
   "display_name": "bluesky_2021_1",
   "language": "python",
   "name": "bluesky_2021_1"
  },
  "language_info": {
   "codemirror_mode": {
    "name": "ipython",
    "version": 3
   },
   "file_extension": ".py",
   "mimetype": "text/x-python",
   "name": "python",
   "nbconvert_exporter": "python",
   "pygments_lexer": "ipython3",
   "version": "3.8.8"
  }
 },
 "nbformat": 4,
 "nbformat_minor": 4
}
