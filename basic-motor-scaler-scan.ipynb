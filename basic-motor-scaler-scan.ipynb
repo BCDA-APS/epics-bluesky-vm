{
 "cells": [
  {
   "cell_type": "markdown",
   "id": "78790603",
   "metadata": {},
   "source": [
    "# Minimal:scan scaler *v* motor\n",
    "\n",
    "This example shows how to connect an EPICS motor PV, an EPICS scaler PV, and scan\n",
    "using the bluesky *RunEngine* with the *BestEffortCallback* to visualize the \n",
    "acquired data.\n",
    "\n",
    "EPICS PV | Python object name | description\n",
    ":--- | :--- | :---\n",
    "`gp:m1` | `xpos` | motor PV (simulates a stepper motor)\n",
    "`gp:scaler1` | `vsc16` | scaler PV (simulates a Joerger VSC16 scaler)\n",
    "\n",
    "## Connect the motor\n",
    "\n",
    "First, import the `ophyd.EpicsMotor` (class) definition."
   ]
  },
  {
   "cell_type": "code",
   "execution_count": 1,
   "id": "39a1a674",
   "metadata": {},
   "outputs": [],
   "source": [
    "from ophyd import EpicsMotor"
   ]
  },
  {
   "cell_type": "markdown",
   "id": "a0bbc7ef",
   "metadata": {},
   "source": [
    "Then, define the `xpos` object.  The EPICS PV is the first argument.  The `name=\"xpos\"` is\n",
    "required.  Make the value of this keyword argument match the name of the Python object being assigned.  The `labels=(\"motor\",)` keyword argument enables certain features for the user interface that will be described later."
   ]
  },
  {
   "cell_type": "code",
   "execution_count": 19,
   "id": "ecae251c",
   "metadata": {},
   "outputs": [],
   "source": [
    "xpos = EpicsMotor(\"gp:m1\", name=\"xpos\", labels=(\"motor\",))"
   ]
  },
  {
   "cell_type": "markdown",
   "id": "2a2f06b1",
   "metadata": {},
   "source": [
    "Show the position of the `xpos` motor now."
   ]
  },
  {
   "cell_type": "code",
   "execution_count": 3,
   "id": "3e731558",
   "metadata": {},
   "outputs": [
    {
     "data": {
      "text/plain": [
       "0.0"
      ]
     },
     "execution_count": 3,
     "metadata": {},
     "output_type": "execute_result"
    }
   ],
   "source": [
    "xpos.position"
   ]
  },
  {
   "cell_type": "markdown",
   "id": "6935dfef",
   "metadata": {},
   "source": [
    "Try to move `xpos` using the IPython magic command: `%mov`."
   ]
  },
  {
   "cell_type": "code",
   "execution_count": 4,
   "id": "f9a0551a",
   "metadata": {},
   "outputs": [
    {
     "name": "stderr",
     "output_type": "stream",
     "text": [
      "UsageError: Line magic function `%mov` not found.\n"
     ]
    }
   ],
   "source": [
    "%mov xpos 1"
   ]
  },
  {
   "cell_type": "markdown",
   "id": "96819e5f",
   "metadata": {},
   "source": [
    "Note this command fails since the IPython magic commands are not loaded automatically.  As an alternative, use the motor's `.move(SETPOINT)` method to move the motor to the new *SETPOINT* value.  Here, move `xpos` to `1`."
   ]
  },
  {
   "cell_type": "code",
   "execution_count": 5,
   "id": "0eebd9bb",
   "metadata": {},
   "outputs": [
    {
     "data": {
      "text/plain": [
       "MoveStatus(done=True, pos=xpos, elapsed=1.2, success=True, settle_time=0.0)"
      ]
     },
     "execution_count": 5,
     "metadata": {},
     "output_type": "execute_result"
    }
   ],
   "source": [
    "xpos.move(1)"
   ]
  },
  {
   "cell_type": "markdown",
   "id": "2051e489",
   "metadata": {},
   "source": [
    "The `.move()` method returns a status object.  The status object may be used to report about the move or to wait for the motor to complete its move.\n",
    "\n",
    "Next, load the IPython *Magic* commands provided by `bluesky`.  These are helpers to make the command line use easier.  Use them at your choice."
   ]
  },
  {
   "cell_type": "code",
   "execution_count": 6,
   "id": "d4016c7f",
   "metadata": {},
   "outputs": [],
   "source": [
    "from bluesky.magics import BlueskyMagics\n",
    "get_ipython().register_magics(BlueskyMagics)"
   ]
  },
  {
   "cell_type": "markdown",
   "id": "cde7da7a",
   "metadata": {},
   "source": [
    "Repeat the move of `xpos` by sending it to `0` using the magic command."
   ]
  },
  {
   "cell_type": "code",
   "execution_count": 7,
   "id": "66be9443",
   "metadata": {},
   "outputs": [
    {
     "name": "stdout",
     "output_type": "stream",
     "text": [
      "xpos:   9%|██▌                         | 0.09/1.0 [00:00<00:01,  2.06s/degrees]\n",
      "xpos:  19%|█████▎                      | 0.19/1.0 [00:00<00:01,  1.51s/degrees]\n",
      "xpos:  29%|████████                    | 0.29/1.0 [00:00<00:00,  1.34s/degrees]\n",
      "xpos:  39%|██████████▉                 | 0.39/1.0 [00:00<00:00,  1.25s/degrees]\n",
      "xpos:  50%|██████████████▌              | 0.5/1.0 [00:00<00:00,  1.18s/degrees]\n",
      "xpos:  60%|█████████████████▍           | 0.6/1.0 [00:00<00:00,  1.15s/degrees]\n",
      "xpos:  70%|████████████████████▎        | 0.7/1.0 [00:00<00:00,  1.13s/degrees]\n",
      "xpos:  80%|███████████████████████▏     | 0.8/1.0 [00:00<00:00,  1.11s/degrees]\n",
      "xpos:  90%|██████████████████████████   | 0.9/1.0 [00:00<00:00,  1.10s/degrees]\n",
      "xpos:  97%|███████████████████████████▏| 0.97/1.0 [00:01<00:00,  1.13s/degrees]\n",
      "xpos: 100%|█████████████████████████████| 1.0/1.0 [00:01<00:00,  1.19s/degrees]\n",
      "xpos [In progress. No progress bar available.]                                 \n",
      "                                                                               \n"
     ]
    }
   ],
   "source": [
    "%mov xpos 0"
   ]
  },
  {
   "cell_type": "markdown",
   "id": "3b51753c",
   "metadata": {},
   "source": [
    "## Connect the scaler\n",
    "As before, import the ophyd class:"
   ]
  },
  {
   "cell_type": "code",
   "execution_count": 8,
   "id": "fffb0630",
   "metadata": {},
   "outputs": [],
   "source": [
    "from ophyd.scaler import ScalerCH"
   ]
  },
  {
   "cell_type": "markdown",
   "id": "fa76fee8",
   "metadata": {},
   "source": [
    "Then, connect with the EPICS PV.  This is similar to how the motor was connected (above).  Make the `name=` keyword match with the Python object name being created.   The `labels=(\"scalers\", \"detectors\")` keyword argument enables certain features for the user interface that will be described later."
   ]
  },
  {
   "cell_type": "code",
   "execution_count": 20,
   "id": "74453123",
   "metadata": {},
   "outputs": [],
   "source": [
    "vsc16 = ScalerCH(\"gp:scaler1\", name=\"vsc16\", labels=[\"scalers\", \"detectors\"])"
   ]
  },
  {
   "cell_type": "markdown",
   "id": "92355801",
   "metadata": {},
   "source": [
    "Configure the Python object to ignore the channels with no name defined (in the `.NMnn` field of the scaler PV)."
   ]
  },
  {
   "cell_type": "code",
   "execution_count": 21,
   "id": "13487160",
   "metadata": {},
   "outputs": [],
   "source": [
    "vsc16.select_channels()"
   ]
  },
  {
   "cell_type": "markdown",
   "id": "022cb2ab",
   "metadata": {},
   "source": [
    "Show the value for each of the named scaler channels.  This will also include the most recent count time."
   ]
  },
  {
   "cell_type": "code",
   "execution_count": 22,
   "id": "0589def0",
   "metadata": {},
   "outputs": [
    {
     "data": {
      "text/plain": [
       "OrderedDict([('vsc16_time', {'value': 0.0, 'timestamp': 631152000.0})])"
      ]
     },
     "execution_count": 22,
     "metadata": {},
     "output_type": "execute_result"
    }
   ],
   "source": [
    "vsc16.read()"
   ]
  },
  {
   "cell_type": "markdown",
   "id": "51667fd3",
   "metadata": {},
   "source": [
    "If *no* channels are shown, such as:\n",
    "\n",
    "```python\n",
    "OrderedDict([('vsc16_time', {'value': 0.0, 'timestamp': 631152000.0})])\n",
    "```\n",
    "\n",
    "then we want to name some channels here for our simulator.  We can do this directly from Python (although you would not usually want to do this at a real, operating instrument, since the channels are named as a result of hardware connections with real detectors).  We'll take channels 11 & 12 and call them `roi1` & `roi2`, respectively."
   ]
  },
  {
   "cell_type": "code",
   "execution_count": 25,
   "id": "31adcc3f",
   "metadata": {},
   "outputs": [],
   "source": [
    "vsc16.channels.chan01.chname.put(\"timebase\")\n",
    "vsc16.channels.chan11.chname.put(\"roi1\")\n",
    "vsc16.channels.chan12.chname.put(\"roi2\")"
   ]
  },
  {
   "cell_type": "markdown",
   "id": "aa9bfe7d",
   "metadata": {},
   "source": [
    "Then select the named channels and read again:"
   ]
  },
  {
   "cell_type": "code",
   "execution_count": 26,
   "id": "daa7b8dd",
   "metadata": {},
   "outputs": [
    {
     "data": {
      "text/plain": [
       "OrderedDict([('timebase',\n",
       "              {'value': 6000000.0, 'timestamp': 1618071420.401383}),\n",
       "             ('roi1', {'value': 0.0, 'timestamp': 1618071420.401383}),\n",
       "             ('roi2', {'value': 0.0, 'timestamp': 1618071420.401383}),\n",
       "             ('vsc16_time', {'value': 0.6, 'timestamp': 1618071420.401383})])"
      ]
     },
     "execution_count": 26,
     "metadata": {},
     "output_type": "execute_result"
    }
   ],
   "source": [
    "vsc16.select_channels()\n",
    "vsc16.read()"
   ]
  },
  {
   "cell_type": "markdown",
   "id": "42a38b3b",
   "metadata": {},
   "source": [
    "### Set the scaler's counting time\n",
    "\n",
    "The `ScalerCH` class defines the count time as the `preset_time` attribute.  Show it's value:"
   ]
  },
  {
   "cell_type": "code",
   "execution_count": 27,
   "id": "daceabfe",
   "metadata": {},
   "outputs": [
    {
     "data": {
      "text/plain": [
       "0.5"
      ]
     },
     "execution_count": 27,
     "metadata": {},
     "output_type": "execute_result"
    }
   ],
   "source": [
    "vsc16.preset_time.get()"
   ]
  },
  {
   "cell_type": "markdown",
   "id": "b6adc16e",
   "metadata": {},
   "source": [
    "Set the counting time to 0.5 s using the `%mov` magic command (same command that moves a motor)."
   ]
  },
  {
   "cell_type": "code",
   "execution_count": 28,
   "id": "0ff01b30",
   "metadata": {},
   "outputs": [],
   "source": [
    "%mov vsc16.preset_time 0.5"
   ]
  },
  {
   "cell_type": "markdown",
   "id": "012173e5",
   "metadata": {},
   "source": [
    "Use the IPython `%ct` magic command to count each object with the `detectors` label keyword."
   ]
  },
  {
   "cell_type": "code",
   "execution_count": 24,
   "id": "df4d99b1",
   "metadata": {},
   "outputs": [
    {
     "name": "stdout",
     "output_type": "stream",
     "text": [
      "[This data will not be saved. Use the RunEngine to collect data.]\n",
      "vsc16_time                     0.6\n"
     ]
    }
   ],
   "source": [
    "%ct"
   ]
  },
  {
   "cell_type": "markdown",
   "id": "646f6075",
   "metadata": {},
   "source": [
    "### `labels` and the `%wa` magic command\n",
    "\n",
    "As noted above, the `labels=LIST` keyword argument used when the motor and scaler objects were create enable certain features.  For example, the `%ct` magic command will count all the `detectors`.\n",
    "\n",
    "Actually, `detectors` is the default argument for the `%ct` magic.  If an arument is supplied, it is the name of a label to be matched.  This is why the additional label of `scalers` was included.  Thus, we could count *only* `scalers` with the command `%ct scalers`.\n",
    "\n",
    "Use the `labels` keyword liberally to group similar objects.\n",
    "\n",
    "The `%wa` magic shows relevant information for all labeled objects (or, for the named label if supplied).  For example:"
   ]
  },
  {
   "cell_type": "code",
   "execution_count": 29,
   "id": "4fcd91aa",
   "metadata": {},
   "outputs": [
    {
     "name": "stdout",
     "output_type": "stream",
     "text": [
      "motor\n",
      "  Positioner                     Value       Low Limit   High Limit  Offset     \n",
      "  xpos                           0.0         -32000.0    32000.0     0.0        \n",
      "\n",
      "  Local variable name                    Ophyd name (to be recorded as metadata)\n",
      "  xpos                                   xpos                                  \n",
      "\n",
      "detectors\n",
      "  Local variable name                    Ophyd name (to be recorded as metadata)\n",
      "  vsc16                                  vsc16                                 \n",
      "\n",
      "scalers\n",
      "  Local variable name                    Ophyd name (to be recorded as metadata)\n",
      "  vsc16                                  vsc16                                 \n",
      "\n"
     ]
    }
   ],
   "source": [
    "%wa"
   ]
  },
  {
   "cell_type": "code",
   "execution_count": 30,
   "id": "d00812f0",
   "metadata": {},
   "outputs": [
    {
     "name": "stdout",
     "output_type": "stream",
     "text": [
      "motor\n",
      "  Positioner                     Value       Low Limit   High Limit  Offset     \n",
      "  xpos                           0.0         -32000.0    32000.0     0.0        \n",
      "\n",
      "  Local variable name                    Ophyd name (to be recorded as metadata)\n",
      "  xpos                                   xpos                                  \n",
      "\n"
     ]
    }
   ],
   "source": [
    "%wa motor"
   ]
  },
  {
   "cell_type": "markdown",
   "id": "d5eda49a",
   "metadata": {},
   "source": [
    "## Prepare to scan\n",
    "\n",
    "Before we can run our first bluesky scan, we have to import various software tools.\n",
    "\n",
    "First is the bluesky `RunEngine()`, which will manage the various activities for the scan (move motor, wait, trigger scaler, wait, collect channel data, publish to data subscribers, ...).\n",
    "\n",
    "Create a `RunEngine()` object.  The argument here is a dictionary (empty in this training session).  (For routine operations at an instrument, the dictionary is filled with information saved from the previous session.)"
   ]
  },
  {
   "cell_type": "code",
   "execution_count": 31,
   "id": "b4739b34",
   "metadata": {
    "tags": []
   },
   "outputs": [],
   "source": [
    "import bluesky\n",
    "RE = bluesky.RunEngine({})"
   ]
  },
  {
   "cell_type": "markdown",
   "id": "9d5f9054",
   "metadata": {},
   "source": [
    "To save the acquired data, we connect with a MongoDB database using a preconfigured datafile that describes our *training* catalog.  Using the IPython `!` technique to issue a Linux command from an IPython session, we `cat` (concatenate) the contents of that file to the output here:"
   ]
  },
  {
   "cell_type": "code",
   "execution_count": 32,
   "id": "22ec0794",
   "metadata": {},
   "outputs": [
    {
     "name": "stdout",
     "output_type": "stream",
     "text": [
      "# file: training.yml\n",
      "# purpose: Configuration file to connect Bluesky databroker with MongoDB\n",
      "# For Bluesky Python Training at APS\n",
      "\n",
      "# Copy to: ~/.local/share/intake/training.yml\n",
      "# Create subdirectories as needed\n",
      "\n",
      "sources:\n",
      "  training:\n",
      "    args:\n",
      "      asset_registry_db: mongodb://localhost:27017/training-bluesky\n",
      "      metadatastore_db: mongodb://localhost:27017/training-bluesky\n",
      "    driver: bluesky-mongo-normalized-catalog\n"
     ]
    }
   ],
   "source": [
    "!cat ~/.local/share/intake/training.yml"
   ]
  },
  {
   "cell_type": "markdown",
   "id": "eaa73d90",
   "metadata": {},
   "source": [
    "To connect, we need the *training* catalog.  This name is provided by the line indented after the `sources:` line in the above `.yml` file.  (The name of the `.yml` file does not matter.  The `databroker.catalog` software will look through all `.yml` files in this directory for the`training` configuration.)\n",
    "\n",
    "We'll use the reference to our databroker catalog frequently, so we give it a short name."
   ]
  },
  {
   "cell_type": "code",
   "execution_count": 33,
   "id": "5787fdf3",
   "metadata": {},
   "outputs": [],
   "source": [
    "import databroker\n",
    "db = databroker.catalog[\"training\"]"
   ]
  },
  {
   "cell_type": "markdown",
   "id": "dfdaff41",
   "metadata": {},
   "source": [
    "How many (bluesky data collection) *runs* are recorded in this catalog?  Get its *length*:"
   ]
  },
  {
   "cell_type": "code",
   "execution_count": 34,
   "id": "77116e88",
   "metadata": {},
   "outputs": [
    {
     "data": {
      "text/plain": [
       "7"
      ]
     },
     "execution_count": 34,
     "metadata": {},
     "output_type": "execute_result"
    }
   ],
   "source": [
    "len(db)"
   ]
  },
  {
   "cell_type": "markdown",
   "id": "9af35933",
   "metadata": {},
   "source": [
    "Configure `RE` to publish the run data to our `db` object.  We must use the `.v1` software interface for legacy reasons."
   ]
  },
  {
   "cell_type": "code",
   "execution_count": 35,
   "id": "96a6b219",
   "metadata": {},
   "outputs": [
    {
     "data": {
      "text/plain": [
       "0"
      ]
     },
     "execution_count": 35,
     "metadata": {},
     "output_type": "execute_result"
    }
   ],
   "source": [
    "RE.subscribe(db.v1.insert)"
   ]
  },
  {
   "cell_type": "markdown",
   "id": "259a7ce9",
   "metadata": {},
   "source": [
    "A progress bar can be helpful to show that long operations are actually progressing.  These steps load a progress bar and configure `RE`."
   ]
  },
  {
   "cell_type": "code",
   "execution_count": 36,
   "id": "4c6eed04",
   "metadata": {},
   "outputs": [],
   "source": [
    "from bluesky.utils import ProgressBarManager\n",
    "pbar_manager = ProgressBarManager()\n",
    "RE.waiting_hook = pbar_manager"
   ]
  },
  {
   "cell_type": "markdown",
   "id": "dbbe0723",
   "metadata": {},
   "source": [
    "The `BestEffortCallback` provides easy visualization of data (tables, plots, peaks statistics) as it is acquired by the `RE`.  Subscribe it to the `RE` so it receives data during a `RE()` run."
   ]
  },
  {
   "cell_type": "code",
   "execution_count": 37,
   "id": "3eed567a",
   "metadata": {},
   "outputs": [],
   "source": [
    "from bluesky.callbacks.best_effort import BestEffortCallback\n",
    "bec = BestEffortCallback()\n",
    "RE.subscribe(bec)\n",
    "peaks = bec.peaks"
   ]
  },
  {
   "cell_type": "markdown",
   "id": "eaf14b48",
   "metadata": {},
   "source": [
    "Supplemental *baseline* data is recorded before and after each run.  Additionally, EPICS Channel Access monitors can update PVs asynchronous to the primary data acquisition.  These *monitor*s can be saved as additional data streams in a run.  Prepare to use this feature."
   ]
  },
  {
   "cell_type": "code",
   "execution_count": 38,
   "id": "44825747",
   "metadata": {},
   "outputs": [],
   "source": [
    "from bluesky import SupplementalData\n",
    "sd = SupplementalData()\n",
    "RE.preprocessors.append(sd)"
   ]
  },
  {
   "cell_type": "markdown",
   "id": "451a6b74",
   "metadata": {},
   "source": [
    "## First scan\n",
    "\n",
    "The standard plans provided in `bluesky.plans` are sufficient for many needs, so import them and, in the same command, give the package a short name (`bp`) since it is used frequently."
   ]
  },
  {
   "cell_type": "code",
   "execution_count": 39,
   "id": "02f15a6e",
   "metadata": {},
   "outputs": [],
   "source": [
    "from bluesky import plans as bp"
   ]
  },
  {
   "cell_type": "markdown",
   "id": "bb9fb10d",
   "metadata": {},
   "source": [
    "The `scan()` plan is flexible and will be used here to scan scaler *vs.* motor.  The first argument is the *list* of detectors to be recorded.  Here, we give the scaler object `vsc16`.  The next argument is the positioner object, then start and end positions, finally, the number of points to be collected.\n",
    "\n",
    "Observe that we do not run the scan directly, but rather give the scan to the `RE()` object.  The `RE()` object will run the scan, performing each of the actions defined by the scan, but also handle the additional tasks of managing the data acquisition process, publishing data to all subscribers (here: databroker and BestEffortCallback) and checking for updates from EPICS and checking if the run must be interrupted either by user request or some other observation.  (We have not configured any of those other observations in this simple example.)"
   ]
  },
  {
   "cell_type": "code",
   "execution_count": 40,
   "id": "a878c76f",
   "metadata": {},
   "outputs": [
    {
     "name": "stdout",
     "output_type": "stream",
     "text": [
      "\n",
      "\n",
      "Transient Scan ID: 1     Time: 2021-04-10 11:48:30\n",
      "Persistent Unique Scan ID: '30ab2afe-eacb-481a-9b62-2ea83eaa8689'\n",
      "xpos:   9%|██▌                         | 0.09/1.0 [00:00<00:01,  1.86s/degrees]\n",
      "xpos:  19%|█████▎                      | 0.19/1.0 [00:00<00:01,  1.41s/degrees]\n",
      "xpos:  29%|████████                    | 0.29/1.0 [00:00<00:00,  1.27s/degrees]\n",
      "xpos:  39%|██████████▉                 | 0.39/1.0 [00:00<00:00,  1.21s/degrees]\n",
      "xpos:  49%|█████████████▋              | 0.49/1.0 [00:00<00:00,  1.16s/degrees]\n",
      "xpos:  60%|█████████████████▍           | 0.6/1.0 [00:00<00:00,  1.12s/degrees]\n",
      "xpos:  70%|████████████████████▎        | 0.7/1.0 [00:00<00:00,  1.10s/degrees]\n",
      "xpos:  80%|███████████████████████▏     | 0.8/1.0 [00:00<00:00,  1.09s/degrees]\n",
      "xpos:  90%|██████████████████████████   | 0.9/1.0 [00:00<00:00,  1.09s/degrees]\n",
      "xpos:  97%|███████████████████████████▏| 0.97/1.0 [00:01<00:00,  1.11s/degrees]\n",
      "xpos: 100%|█████████████████████████████| 1.0/1.0 [00:01<00:00,  1.19s/degrees]\n",
      "xpos [In progress. No progress bar available.]                                 \n",
      "                                                                               \n",
      "vsc16 [In progress. No progress bar available.]                                \n",
      "vsc16 [In progress. No progress bar available.]                                \n",
      "                                                                               \n",
      "New stream: 'primary'\n",
      "+-----------+------------+------------+------------+------------+------------+\n",
      "|   seq_num |       time |       xpos |   timebase |       roi1 |       roi2 |\n",
      "+-----------+------------+------------+------------+------------+------------+\n",
      "|         1 | 11:48:32.4 |   -1.00000 |    6000000 |          0 |          0 |\n",
      "xpos:  27%|██████▍                 | 0.09/0.33333 [00:00<00:00,  2.17s/degrees]\n",
      "xpos:  57%|█████████████▋          | 0.19/0.33333 [00:00<00:00,  1.56s/degrees]\n",
      "xpos:  84%|████████████████████▏   | 0.28/0.33333 [00:00<00:00,  1.42s/degrees]\n",
      "xpos:  99%|███████████████████████▊| 0.33/0.33333 [00:00<00:00,  1.51s/degrees]\n",
      "xpos [In progress. No progress bar available.]                                 \n",
      "                                                                               \n",
      "vsc16 [In progress. No progress bar available.]                                \n",
      "vsc16 [In progress. No progress bar available.]                                \n",
      "                                                                               \n",
      "|         2 | 11:48:34.0 |   -0.67000 |    6000000 |          0 |          0 |\n",
      "xpos:  30%|███████▍                 | 0.1/0.33667 [00:00<00:00,  1.85s/degrees]\n",
      "xpos:  56%|█████████████▌          | 0.19/0.33667 [00:00<00:00,  1.50s/degrees]\n",
      "xpos:  83%|███████████████████▉    | 0.28/0.33667 [00:00<00:00,  1.38s/degrees]\n",
      "xpos:  98%|███████████████████████▌| 0.33/0.33667 [00:00<00:00,  1.48s/degrees]\n",
      "xpos: 100%|█████████████████████| 0.33667/0.33667 [00:00<00:00,  1.75s/degrees]\n",
      "xpos [In progress. No progress bar available.]                                 \n",
      "                                                                               \n",
      "vsc16 [In progress. No progress bar available.]                                \n",
      "vsc16 [In progress. No progress bar available.]                                \n",
      "                                                                               \n",
      "|         3 | 11:48:35.6 |   -0.33000 |    6000000 |          0 |          0 |\n",
      "xpos:  27%|███████▎                   | 0.09/0.33 [00:00<00:00,  1.48s/degrees]\n",
      "xpos:  58%|███████████████▌           | 0.19/0.33 [00:00<00:00,  1.23s/degrees]\n",
      "xpos:  85%|██████████████████████▉    | 0.28/0.33 [00:00<00:00,  1.19s/degrees]\n",
      "xpos:  97%|██████████████████████████▏| 0.32/0.33 [00:00<00:00,  1.36s/degrees]\n",
      "xpos: 100%|███████████████████████████| 0.33/0.33 [00:00<00:00,  1.63s/degrees]\n",
      "xpos [In progress. No progress bar available.]                                 \n",
      "                                                                               \n",
      "vsc16 [In progress. No progress bar available.]                                \n",
      "vsc16 [In progress. No progress bar available.]                                \n",
      "                                                                               \n",
      "|         4 | 11:48:37.2 |    0.00000 |    6000000 |          0 |          0 |\n",
      "xpos:  27%|██████▍                 | 0.09/0.33333 [00:00<00:00,  2.08s/degrees]\n",
      "xpos:  57%|█████████████▋          | 0.19/0.33333 [00:00<00:00,  1.52s/degrees]\n",
      "xpos:  84%|████████████████████▏   | 0.28/0.33333 [00:00<00:00,  1.39s/degrees]\n",
      "xpos:  99%|███████████████████████▊| 0.33/0.33333 [00:00<00:00,  1.49s/degrees]\n",
      "xpos [In progress. No progress bar available.]                                 \n",
      "                                                                               \n",
      "vsc16 [In progress. No progress bar available.]                                \n",
      "vsc16 [In progress. No progress bar available.]                                \n",
      "                                                                               \n",
      "|         5 | 11:48:38.7 |    0.33000 |    6000000 |          0 |          0 |\n",
      "xpos:  27%|██████▍                 | 0.09/0.33667 [00:00<00:00,  1.34s/degrees]\n",
      "xpos:  56%|█████████████▌          | 0.19/0.33667 [00:00<00:00,  1.16s/degrees]\n",
      "xpos:  83%|███████████████████▉    | 0.28/0.33667 [00:00<00:00,  1.15s/degrees]\n",
      "xpos:  98%|███████████████████████▌| 0.33/0.33667 [00:00<00:00,  1.28s/degrees]\n",
      "xpos: 100%|█████████████████████| 0.33667/0.33667 [00:00<00:00,  1.55s/degrees]\n",
      "xpos [In progress. No progress bar available.]                                 \n",
      "                                                                               \n",
      "vsc16 [In progress. No progress bar available.]                                \n",
      "vsc16 [In progress. No progress bar available.]                                \n",
      "                                                                               \n",
      "|         6 | 11:48:40.1 |    0.67000 |    6000000 |          0 |          0 |\n",
      "xpos:  27%|███████▎                   | 0.09/0.33 [00:00<00:00,  1.93s/degrees]\n",
      "xpos:  58%|███████████████▌           | 0.19/0.33 [00:00<00:00,  1.45s/degrees]\n",
      "xpos:  85%|██████████████████████▉    | 0.28/0.33 [00:00<00:00,  1.34s/degrees]\n",
      "xpos:  97%|██████████████████████████▏| 0.32/0.33 [00:00<00:00,  1.49s/degrees]\n",
      "xpos: 100%|███████████████████████████| 0.33/0.33 [00:00<00:00,  1.75s/degrees]\n",
      "xpos [In progress. No progress bar available.]                                 \n",
      "                                                                               \n",
      "vsc16 [In progress. No progress bar available.]                                \n",
      "vsc16 [In progress. No progress bar available.]                                \n",
      "                                                                               \n",
      "|         7 | 11:48:41.6 |    1.00000 |    6000000 |          0 |          0 |\n",
      "+-----------+------------+------------+------------+------------+------------+\n",
      "generator scan ['30ab2afe'] (scan num: 1)\n"
     ]
    },
    {
     "name": "stderr",
     "output_type": "stream",
     "text": [
      "/home/apsu/Apps/miniconda3/envs/bluesky_2021_1/lib/python3.8/site-packages/bluesky/callbacks/fitting.py:165: RuntimeWarning: invalid value encountered in double_scalars\n",
      "  np.sum(input * grids[dir].astype(float), labels, index) / normalizer\n"
     ]
    },
    {
     "name": "stdout",
     "output_type": "stream",
     "text": [
      "\n",
      "\n",
      "\n"
     ]
    },
    {
     "data": {
      "text/plain": [
       "('30ab2afe-eacb-481a-9b62-2ea83eaa8689',)"
      ]
     },
     "execution_count": 40,
     "metadata": {},
     "output_type": "execute_result"
    },
    {
     "data": {
      "image/png": "[encoded data removed]",
      "text/plain": [
       "<Figure size 360x1080 with 3 Axes>"
      ]
     },
     "metadata": {
      "needs_background": "light"
     },
     "output_type": "display_data"
    }
   ],
   "source": [
    "RE(bp.scan([vsc16], xpos, -1, 1, 7))"
   ]
  },
  {
   "cell_type": "markdown",
   "id": "eb701a06",
   "metadata": {},
   "source": [
    "The scan ran, data was collected and printed at each step of the scan.  Finally, plots were made of the scaler channel *vs* motor position for each active channel.\n",
    "\n",
    "There were some problems.  First is that an error was reported after the scan (`... callbacks/fitting.py:165: RuntimeWarning: invalid value encountered in double_scalars `).  This error is because the scalers showed no peak during the scan.  The scaler is a simulator with no real data.  We'll ignore that error here.\n",
    "\n",
    "Another problem is that the scaler counts for 0.1s longer than we have configured.  This is a problem with the underlying EPICS support for a simulated (a.k.a. *soft channel*) scaler.  We'll ignore that error here.\n",
    "\n",
    "Next problem is that the progress bar is a nuisance in this notebook so we'll remove it."
   ]
  },
  {
   "cell_type": "code",
   "execution_count": 41,
   "id": "d814308d",
   "metadata": {},
   "outputs": [],
   "source": [
    "RE.waiting_hook = None"
   ]
  },
  {
   "cell_type": "markdown",
   "id": "29e37db4",
   "metadata": {},
   "source": [
    "Then, repeat the same scan."
   ]
  },
  {
   "cell_type": "code",
   "execution_count": 42,
   "id": "63306b6a",
   "metadata": {},
   "outputs": [
    {
     "name": "stdout",
     "output_type": "stream",
     "text": [
      "\n",
      "\n",
      "Transient Scan ID: 2     Time: 2021-04-10 11:53:49\n",
      "Persistent Unique Scan ID: 'a7de77f5-1a26-4717-80f9-92f774c17f8f'\n",
      "New stream: 'primary'\n",
      "+-----------+------------+------------+------------+------------+------------+\n",
      "|   seq_num |       time |       xpos |   timebase |       roi1 |       roi2 |\n",
      "+-----------+------------+------------+------------+------------+------------+\n",
      "|         1 | 11:53:52.5 |   -1.00000 |    6000000 |          0 |          0 |\n",
      "|         2 | 11:53:54.0 |   -0.67000 |    6000000 |          0 |          0 |\n",
      "|         3 | 11:53:55.5 |   -0.33000 |    6000000 |          0 |          0 |\n",
      "|         4 | 11:53:56.9 |    0.00000 |    6000000 |          0 |          0 |\n",
      "|         5 | 11:53:58.4 |    0.33000 |    6000000 |          0 |          0 |\n",
      "|         6 | 11:53:59.9 |    0.67000 |    6000000 |          0 |          0 |\n",
      "|         7 | 11:54:01.4 |    1.00000 |    5000000 |          0 |          0 |\n",
      "+-----------+------------+------------+------------+------------+------------+\n",
      "generator scan ['a7de77f5'] (scan num: 2)\n",
      "\n",
      "\n",
      "\n"
     ]
    },
    {
     "data": {
      "text/plain": [
       "('a7de77f5-1a26-4717-80f9-92f774c17f8f',)"
      ]
     },
     "execution_count": 42,
     "metadata": {},
     "output_type": "execute_result"
    },
    {
     "data": {
      "image/png": "[encoded data removed]",
      "text/plain": [
       "<Figure size 360x1080 with 3 Axes>"
      ]
     },
     "metadata": {
      "needs_background": "light"
     },
     "output_type": "display_data"
    }
   ],
   "source": [
    "RE(bp.scan([vsc16], xpos, -1, 1, 7))"
   ]
  },
  {
   "cell_type": "markdown",
   "id": "aac3c4ac",
   "metadata": {},
   "source": [
    "## Scan with a *different* counting time : staging\n",
    "\n",
    "Suppose that we wish to use a different counting time, we could change the `vsc16.preset_time` value before running the scan.  Another way is to use the `ophyd` concept of [*stage* & *unstage*](https://blueskyproject.io/ophyd/device-overview.html?highlight=staging#stage-and-unstage).  \n",
    "\n",
    "*Staging* is the action of preparing an ophyd device for operation, then resetting it afterwards to previous values.  For our scaler, we could *stage* a different counting time that would be used during the run, then removed after the run is complete.  `stage()` and `unstage()` are controlled by an OrderedDictionary where the keys are the attributes of the Python object and the values are used during the run.  The `RE()` takes care of calling `stage()` and `unstage()` during the scan.\n",
    "\n",
    "Here we show staging of a 2.0s `preset_time` for the run.  Also shown are the `preset_time` value before and after the run."
   ]
  },
  {
   "cell_type": "code",
   "execution_count": 44,
   "id": "0d966d6b",
   "metadata": {},
   "outputs": [
    {
     "name": "stdout",
     "output_type": "stream",
     "text": [
      "vsc16.preset_time.get() = 0.5\n"
     ]
    }
   ],
   "source": [
    "print(f\"{vsc16.preset_time.get() = }\")"
   ]
  },
  {
   "cell_type": "code",
   "execution_count": 45,
   "id": "c0aec115",
   "metadata": {},
   "outputs": [],
   "source": [
    "vsc16.stage_sigs[\"preset_time\"] = 2.0"
   ]
  },
  {
   "cell_type": "code",
   "execution_count": 46,
   "id": "126ca16c",
   "metadata": {},
   "outputs": [
    {
     "name": "stdout",
     "output_type": "stream",
     "text": [
      "\n",
      "\n",
      "Transient Scan ID: 3     Time: 2021-04-10 12:05:58\n",
      "Persistent Unique Scan ID: '559551ab-e2bd-44b5-aaaa-f9e563c605b1'\n",
      "New stream: 'primary'\n",
      "+-----------+------------+------------+------------+------------+------------+\n",
      "|   seq_num |       time |       xpos |   timebase |       roi1 |       roi2 |\n",
      "+-----------+------------+------------+------------+------------+------------+\n",
      "|         1 | 12:06:03.9 |   -1.00000 |   21000000 |          0 |          0 |\n",
      "|         2 | 12:06:06.8 |   -0.67000 |   20000000 |          0 |          0 |\n",
      "|         3 | 12:06:09.8 |   -0.33000 |   21000000 |          0 |          0 |\n",
      "|         4 | 12:06:12.8 |    0.00000 |   21000000 |          0 |          0 |\n",
      "|         5 | 12:06:15.7 |    0.33000 |   21000000 |          0 |          0 |\n",
      "|         6 | 12:06:18.5 |    0.67000 |   21000000 |          0 |          0 |\n",
      "|         7 | 12:06:21.9 |    1.00000 |   21000000 |          0 |          0 |\n",
      "+-----------+------------+------------+------------+------------+------------+\n",
      "generator scan ['559551ab'] (scan num: 3)\n",
      "\n",
      "\n",
      "\n"
     ]
    },
    {
     "data": {
      "text/plain": [
       "('559551ab-e2bd-44b5-aaaa-f9e563c605b1',)"
      ]
     },
     "execution_count": 46,
     "metadata": {},
     "output_type": "execute_result"
    },
    {
     "data": {
      "image/png": "[encoded data removed]",
      "text/plain": [
       "<Figure size 360x1080 with 3 Axes>"
      ]
     },
     "metadata": {
      "needs_background": "light"
     },
     "output_type": "display_data"
    }
   ],
   "source": [
    "RE(bp.scan([vsc16], xpos, -1, 1, 7))"
   ]
  },
  {
   "cell_type": "code",
   "execution_count": 47,
   "id": "8b682471",
   "metadata": {},
   "outputs": [
    {
     "name": "stdout",
     "output_type": "stream",
     "text": [
      "vsc16.preset_time.get() = 0.5\n"
     ]
    }
   ],
   "source": [
    "print(f\"{vsc16.preset_time.get() = }\")"
   ]
  },
  {
   "cell_type": "markdown",
   "id": "7f347b7f",
   "metadata": {},
   "source": [
    "## Custom plan with configurable count time\n",
    "\n",
    "It is common to want to set the count time at the time the scan is started.  For this feature, a custom scan plan is needed, where we will repeat the steps just shown.  This plan will use similar arguments as the `bp.scan()` used above, but add an optional keyword argument `ct` for the count time with a default of 1.0 second.  For housekeeping, we'll remove the staging configuration from the scaler after the scan.\n",
    "\n",
    "A bluesky *plan* is a Python generator.  The `bp.scan()` call is the part that makes this a generator, deferring execution of the actual scan until the `RE()` calls for it."
   ]
  },
  {
   "cell_type": "code",
   "execution_count": 48,
   "id": "24b7fb53",
   "metadata": {},
   "outputs": [],
   "source": [
    "def tscan(scaler, pos, pStart, pEnd, nPts, ct=1):\n",
    "    scaler.stage_sigs[\"preset_time\"] = ct\n",
    "    print(f\"{scaler.preset_time.get() = }\")\n",
    "\n",
    "    yield from bp.scan([scaler], pos, pStart, pEnd, nPts)\n",
    "\n",
    "    print(f\"{scaler.preset_time.get() = }\")\n",
    "    del scaler.stage_sigs[\"preset_time\"]"
   ]
  },
  {
   "cell_type": "markdown",
   "id": "d09342f1",
   "metadata": {},
   "source": [
    "Run the custom plan."
   ]
  },
  {
   "cell_type": "code",
   "execution_count": 52,
   "id": "7d4f55d1",
   "metadata": {},
   "outputs": [
    {
     "name": "stdout",
     "output_type": "stream",
     "text": [
      "scaler.preset_time.get() = 0.5\n",
      "\n",
      "\n",
      "Transient Scan ID: 7     Time: 2021-04-10 12:17:38\n",
      "Persistent Unique Scan ID: '6e86c9e6-9a40-4f63-bdaf-c4bbc013d675'\n",
      "New stream: 'primary'\n",
      "+-----------+------------+------------+------------+------------+------------+\n",
      "|   seq_num |       time |       xpos |   timebase |       roi1 |       roi2 |\n",
      "+-----------+------------+------------+------------+------------+------------+\n",
      "|         1 | 12:17:41.0 |   -1.00000 |    2000000 |          0 |          0 |\n",
      "|         2 | 12:17:42.0 |   -0.67000 |    1000000 |          0 |          0 |\n",
      "|         3 | 12:17:43.5 |   -0.33000 |    1000000 |          0 |          0 |\n",
      "|         4 | 12:17:44.9 |    0.00000 |    1000000 |          0 |          0 |\n",
      "|         5 | 12:17:45.9 |    0.33000 |    2000000 |          0 |          0 |\n",
      "|         6 | 12:17:46.8 |    0.67000 |    1000000 |          0 |          0 |\n",
      "|         7 | 12:17:47.7 |    1.00000 |    1000000 |          0 |          0 |\n",
      "+-----------+------------+------------+------------+------------+------------+\n",
      "generator scan ['6e86c9e6'] (scan num: 7)\n",
      "\n",
      "\n",
      "\n",
      "scaler.preset_time.get() = 0.5\n"
     ]
    },
    {
     "data": {
      "text/plain": [
       "('6e86c9e6-9a40-4f63-bdaf-c4bbc013d675',)"
      ]
     },
     "execution_count": 52,
     "metadata": {},
     "output_type": "execute_result"
    },
    {
     "data": {
      "image/png": "[encoded data removed]",
      "text/plain": [
       "<Figure size 360x1080 with 3 Axes>"
      ]
     },
     "metadata": {
      "needs_background": "light"
     },
     "output_type": "display_data"
    }
   ],
   "source": [
    "RE(tscan(vsc16, xpos, -1, 1, 7, 0.1))"
   ]
  }
 ],
 "metadata": {
  "kernelspec": {
   "display_name": "bluesky_2021_1",
   "language": "python",
   "name": "bluesky_2021_1"
  },
  "language_info": {
   "codemirror_mode": {
    "name": "ipython",
    "version": 3
   },
   "file_extension": ".py",
   "mimetype": "text/x-python",
   "name": "python",
   "nbconvert_exporter": "python",
   "pygments_lexer": "ipython3",
   "version": "3.8.8"
  }
 },
 "nbformat": 4,
 "nbformat_minor": 5
}
