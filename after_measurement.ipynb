{
 "cells": [
  {
   "cell_type": "markdown",
   "id": "b25b720d",
   "metadata": {},
   "source": [
    "# Accessing data later, after the measurement\n",
    "\n",
    "*APS Training for Bluesky Data Acquisition*.\n",
    "\n",
    "**Objective**\n",
    "\n",
    "Get the data from previous *run(s)* and work with it.\n",
    "\n",
    "## Skip the `instrument` package\n",
    "\n",
    "There is no need to import the instrument package since we won't measure anything in this notebook.\n",
    "\n",
    "## Access the database\n",
    "\n",
    "In the instrument package (in file `instrument/framework/initialize.py`), we connected databroker with the MongoDB server using the `training` *catalog*. Get that catalog now.  We'll need to import some tools first."
   ]
  },
  {
   "cell_type": "code",
   "execution_count": 1,
   "id": "695e72b3",
   "metadata": {},
   "outputs": [
    {
     "name": "stdout",
     "output_type": "stream",
     "text": [
      "catalog: training\n"
     ]
    },
    {
     "data": {
      "text/html": [
       "<div>\n",
       "<style scoped>\n",
       "    .dataframe tbody tr th:only-of-type {\n",
       "        vertical-align: middle;\n",
       "    }\n",
       "\n",
       "    .dataframe tbody tr th {\n",
       "        vertical-align: top;\n",
       "    }\n",
       "\n",
       "    .dataframe thead th {\n",
       "        text-align: right;\n",
       "    }\n",
       "</style>\n",
       "<table border=\"1\" class=\"dataframe\">\n",
       "  <thead>\n",
       "    <tr style=\"text-align: right;\">\n",
       "      <th></th>\n",
       "      <th>scan_id</th>\n",
       "      <th>time</th>\n",
       "      <th>plan_name</th>\n",
       "      <th>detectors</th>\n",
       "    </tr>\n",
       "  </thead>\n",
       "  <tbody>\n",
       "    <tr>\n",
       "      <th>0</th>\n",
       "      <td>25</td>\n",
       "      <td>2021-04-11 09:08:00</td>\n",
       "      <td>rel_scan</td>\n",
       "      <td>[noisy]</td>\n",
       "    </tr>\n",
       "    <tr>\n",
       "      <th>1</th>\n",
       "      <td>24</td>\n",
       "      <td>2021-04-11 09:07:53</td>\n",
       "      <td>rel_scan</td>\n",
       "      <td>[noisy]</td>\n",
       "    </tr>\n",
       "    <tr>\n",
       "      <th>2</th>\n",
       "      <td>23</td>\n",
       "      <td>2021-04-11 09:07:44</td>\n",
       "      <td>rel_scan</td>\n",
       "      <td>[noisy]</td>\n",
       "    </tr>\n",
       "    <tr>\n",
       "      <th>3</th>\n",
       "      <td>22</td>\n",
       "      <td>2021-04-11 09:07:26</td>\n",
       "      <td>rel_scan</td>\n",
       "      <td>[noisy]</td>\n",
       "    </tr>\n",
       "    <tr>\n",
       "      <th>4</th>\n",
       "      <td>21</td>\n",
       "      <td>2021-04-11 09:07:17</td>\n",
       "      <td>rel_scan</td>\n",
       "      <td>[noisy]</td>\n",
       "    </tr>\n",
       "    <tr>\n",
       "      <th>5</th>\n",
       "      <td>20</td>\n",
       "      <td>2021-04-11 09:07:02</td>\n",
       "      <td>rel_scan</td>\n",
       "      <td>[noisy]</td>\n",
       "    </tr>\n",
       "    <tr>\n",
       "      <th>6</th>\n",
       "      <td>19</td>\n",
       "      <td>2021-04-11 09:05:36</td>\n",
       "      <td>count</td>\n",
       "      <td>[adsimdet]</td>\n",
       "    </tr>\n",
       "    <tr>\n",
       "      <th>7</th>\n",
       "      <td>18</td>\n",
       "      <td>2021-04-11 09:04:37</td>\n",
       "      <td>count</td>\n",
       "      <td>[temperature]</td>\n",
       "    </tr>\n",
       "    <tr>\n",
       "      <th>8</th>\n",
       "      <td>17</td>\n",
       "      <td>2021-04-11 09:04:16</td>\n",
       "      <td>count</td>\n",
       "      <td>[temperature]</td>\n",
       "    </tr>\n",
       "    <tr>\n",
       "      <th>9</th>\n",
       "      <td>16</td>\n",
       "      <td>2021-04-11 09:04:15</td>\n",
       "      <td>count</td>\n",
       "      <td>[temperature]</td>\n",
       "    </tr>\n",
       "    <tr>\n",
       "      <th>10</th>\n",
       "      <td>15</td>\n",
       "      <td>2021-04-11 09:04:14</td>\n",
       "      <td>count</td>\n",
       "      <td>[temperature]</td>\n",
       "    </tr>\n",
       "    <tr>\n",
       "      <th>11</th>\n",
       "      <td>4</td>\n",
       "      <td>2021-04-11 08:56:33</td>\n",
       "      <td>scan</td>\n",
       "      <td>[vsc16]</td>\n",
       "    </tr>\n",
       "    <tr>\n",
       "      <th>12</th>\n",
       "      <td>3</td>\n",
       "      <td>2021-04-11 08:55:28</td>\n",
       "      <td>scan</td>\n",
       "      <td>[vsc16]</td>\n",
       "    </tr>\n",
       "    <tr>\n",
       "      <th>13</th>\n",
       "      <td>2</td>\n",
       "      <td>2021-04-11 08:52:07</td>\n",
       "      <td>scan</td>\n",
       "      <td>[vsc16]</td>\n",
       "    </tr>\n",
       "    <tr>\n",
       "      <th>14</th>\n",
       "      <td>1</td>\n",
       "      <td>2021-04-11 08:51:11</td>\n",
       "      <td>scan</td>\n",
       "      <td>[vsc16]</td>\n",
       "    </tr>\n",
       "    <tr>\n",
       "      <th>15</th>\n",
       "      <td>14</td>\n",
       "      <td>2021-04-10 21:37:49</td>\n",
       "      <td>rel_scan</td>\n",
       "      <td>[noisy]</td>\n",
       "    </tr>\n",
       "    <tr>\n",
       "      <th>16</th>\n",
       "      <td>13</td>\n",
       "      <td>2021-04-10 21:37:48</td>\n",
       "      <td>count</td>\n",
       "      <td>[adsimdet]</td>\n",
       "    </tr>\n",
       "    <tr>\n",
       "      <th>17</th>\n",
       "      <td>13</td>\n",
       "      <td>2021-04-10 21:37:34</td>\n",
       "      <td>rel_scan</td>\n",
       "      <td>[noisy]</td>\n",
       "    </tr>\n",
       "    <tr>\n",
       "      <th>18</th>\n",
       "      <td>12</td>\n",
       "      <td>2021-04-10 21:37:21</td>\n",
       "      <td>rel_scan</td>\n",
       "      <td>[noisy]</td>\n",
       "    </tr>\n",
       "    <tr>\n",
       "      <th>19</th>\n",
       "      <td>11</td>\n",
       "      <td>2021-04-10 21:37:03</td>\n",
       "      <td>rel_scan</td>\n",
       "      <td>[noisy]</td>\n",
       "    </tr>\n",
       "  </tbody>\n",
       "</table>\n",
       "</div>"
      ],
      "text/plain": [
       "    scan_id                 time plan_name      detectors\n",
       "0        25  2021-04-11 09:08:00  rel_scan        [noisy]\n",
       "1        24  2021-04-11 09:07:53  rel_scan        [noisy]\n",
       "2        23  2021-04-11 09:07:44  rel_scan        [noisy]\n",
       "3        22  2021-04-11 09:07:26  rel_scan        [noisy]\n",
       "4        21  2021-04-11 09:07:17  rel_scan        [noisy]\n",
       "5        20  2021-04-11 09:07:02  rel_scan        [noisy]\n",
       "6        19  2021-04-11 09:05:36     count     [adsimdet]\n",
       "7        18  2021-04-11 09:04:37     count  [temperature]\n",
       "8        17  2021-04-11 09:04:16     count  [temperature]\n",
       "9        16  2021-04-11 09:04:15     count  [temperature]\n",
       "10       15  2021-04-11 09:04:14     count  [temperature]\n",
       "11        4  2021-04-11 08:56:33      scan        [vsc16]\n",
       "12        3  2021-04-11 08:55:28      scan        [vsc16]\n",
       "13        2  2021-04-11 08:52:07      scan        [vsc16]\n",
       "14        1  2021-04-11 08:51:11      scan        [vsc16]\n",
       "15       14  2021-04-10 21:37:49  rel_scan        [noisy]\n",
       "16       13  2021-04-10 21:37:48     count     [adsimdet]\n",
       "17       13  2021-04-10 21:37:34  rel_scan        [noisy]\n",
       "18       12  2021-04-10 21:37:21  rel_scan        [noisy]\n",
       "19       11  2021-04-10 21:37:03  rel_scan        [noisy]"
      ]
     },
     "execution_count": 1,
     "metadata": {},
     "output_type": "execute_result"
    }
   ],
   "source": [
    "from apstools.utils import listruns, quantify_md_key_use\n",
    "import databroker\n",
    "from databroker.queries import TimeRange\n",
    "\n",
    "db = databroker.catalog[\"training\"]\n",
    "listruns()"
   ]
  },
  {
   "cell_type": "markdown",
   "id": "5bb51652",
   "metadata": {},
   "source": [
    "Our temperature count measurement is one of those listed, but which one?  Recall how we started our run: `RE(bp.count([temperature], num=50, delay=0.1, md={\"motive\": \"tscan\"}))`.  \n",
    "\n",
    "In case some other type of run is more recent, we'll search for the most recent run with this metadata.  First, find any recent (since Feb 2021) runs with this metadata.  We need to do this search with the `v2` version of databroker catalogs.  The result of the search is another catalog."
   ]
  },
  {
   "cell_type": "code",
   "execution_count": 2,
   "id": "53406452",
   "metadata": {},
   "outputs": [
    {
     "name": "stdout",
     "output_type": "stream",
     "text": [
      "Search for runs with motive='tscan' metadata found 2 run(s).\n"
     ]
    }
   ],
   "source": [
    "cat = db.v2.search(TimeRange(since=\"2021-02-02\")).search({\"motive\": \"tscan\"})\n",
    "print(f\"Search for runs with motive='tscan' metadata found {len(cat)} run(s).\")"
   ]
  },
  {
   "cell_type": "markdown",
   "id": "c9c5889e",
   "metadata": {},
   "source": [
    "Show the run's metadata."
   ]
  },
  {
   "cell_type": "code",
   "execution_count": 3,
   "id": "2f117924",
   "metadata": {},
   "outputs": [
    {
     "data": {
      "text/plain": [
       "{'start': Start({'beamline_id': 'APS EPICS/Python/Bluesky training VM',\n",
       " 'detectors': ['temperature'],\n",
       " 'hints': {'dimensions': [[['time'], 'primary']]},\n",
       " 'instrument_name': 'training',\n",
       " 'login_id': 'apsu@apsu-sim',\n",
       " 'motive': 'tscan',\n",
       " 'notebook': 'watch_temperature',\n",
       " 'num_intervals': 49,\n",
       " 'num_points': 50,\n",
       " 'pid': 7178,\n",
       " 'plan_args': {'detectors': [\"MyPvPositioner(prefix='gp:userCalc8', \"\n",
       "                             \"name='temperature', settle_time=0.0, \"\n",
       "                             \"timeout=None, read_attrs=['setpoint', \"\n",
       "                             \"'readback', 'done', 'calculation', \"\n",
       "                             \"'description', 'max_change', 'noise', \"\n",
       "                             \"'previous_value_pv', 'scanning_rate', \"\n",
       "                             \"'tolerance'], configuration_attrs=[], \"\n",
       "                             \"limits=(-20, 255), egu='C')\"],\n",
       "               'num': 50},\n",
       " 'plan_name': 'count',\n",
       " 'plan_type': 'generator',\n",
       " 'proposal_id': 'training-2021-04',\n",
       " 'scan_id': 18,\n",
       " 'time': 1618149877.5574362,\n",
       " 'uid': 'd0a7f241-0808-49fa-a63c-9607382abe39',\n",
       " 'versions': {'apstools': '1.5.0',\n",
       "              'bluesky': '1.6.7',\n",
       "              'databroker': '1.2.3',\n",
       "              'epics': '3.4.3',\n",
       "              'h5py': '2.10.0',\n",
       "              'intake': '0.6.2',\n",
       "              'matplotlib': '3.3.4',\n",
       "              'numpy': '1.19.2',\n",
       "              'ophyd': '1.6.1',\n",
       "              'pyRestTable': '2020.0.3',\n",
       "              'spec2nexus': '2021.1.8'}}),\n",
       " 'stop': Stop({'exit_status': 'success',\n",
       " 'num_events': {'baseline': 2, 'primary': 50},\n",
       " 'reason': '',\n",
       " 'run_start': 'd0a7f241-0808-49fa-a63c-9607382abe39',\n",
       " 'time': 1618149884.4304423,\n",
       " 'uid': '88a53897-d81f-449a-ab06-7a6a5502c9a2'}),\n",
       " 'catalog_dir': None}"
      ]
     },
     "execution_count": 3,
     "metadata": {},
     "output_type": "execute_result"
    }
   ],
   "source": [
    "if len(cat):\n",
    "    run = cat[-1]\n",
    "else:\n",
    "    raise KeyError(\"No runs found with `motive='tscan'`\")\n",
    "\n",
    "run.metadata"
   ]
  },
  {
   "cell_type": "markdown",
   "id": "bd3d642a",
   "metadata": {},
   "source": [
    "## Read the primary data stream of the run"
   ]
  },
  {
   "cell_type": "code",
   "execution_count": 4,
   "id": "09e4e1cc",
   "metadata": {},
   "outputs": [],
   "source": [
    "dataset = run.primary.read()"
   ]
  },
  {
   "cell_type": "markdown",
   "id": "e0266c15",
   "metadata": {},
   "source": [
    "Let's get the values as a 1-D numpy array."
   ]
  },
  {
   "cell_type": "code",
   "execution_count": 5,
   "id": "8ea96cb4",
   "metadata": {},
   "outputs": [],
   "source": [
    "T = dataset[\"temperature_readback\"].values"
   ]
  },
  {
   "cell_type": "markdown",
   "id": "880a86db",
   "metadata": {},
   "source": [
    "## Compute the statistics\n",
    "Use the methods of numpy arrays to compute maximum, mean, standard deviation, and minimum.  Looks nicer in a table."
   ]
  },
  {
   "cell_type": "code",
   "execution_count": 6,
   "id": "556785ad",
   "metadata": {},
   "outputs": [
    {
     "name": "stdout",
     "output_type": "stream",
     "text": [
      "======= ===================\n",
      "measure value              \n",
      "======= ===================\n",
      "max     25.475600823987183 \n",
      "mean    25.003119859616994 \n",
      "dev     0.27669084412281664\n",
      "min     24.563309681849393 \n",
      "#       50                 \n",
      "======= ===================\n",
      "\n"
     ]
    }
   ],
   "source": [
    "import pyRestTable\n",
    "\n",
    "table = pyRestTable.Table()\n",
    "table.addLabel(\"measure\")\n",
    "table.addLabel(\"value\")\n",
    "table.addRow((\"max\", T.max()))\n",
    "table.addRow((\"mean\", T.mean()))\n",
    "table.addRow((\"dev\", T.std()))\n",
    "table.addRow((\"min\", T.min()))\n",
    "table.addRow((\"#\", len(T)))\n",
    "print(table)"
   ]
  },
  {
   "cell_type": "markdown",
   "id": "c0ec8e0a",
   "metadata": {},
   "source": [
    "Let's replot that data for comparison."
   ]
  },
  {
   "cell_type": "code",
   "execution_count": 7,
   "id": "df17b429",
   "metadata": {},
   "outputs": [
    {
     "data": {
      "text/plain": [
       "[<matplotlib.lines.Line2D at 0x7f664e3e1640>]"
      ]
     },
     "execution_count": 7,
     "metadata": {},
     "output_type": "execute_result"
    },
    {
     "data": {
      "image/png": "[encoded data removed]",
      "text/plain": [
       "<Figure size 432x288 with 1 Axes>"
      ]
     },
     "metadata": {
      "needs_background": "light"
     },
     "output_type": "display_data"
    }
   ],
   "source": [
    "dataset[\"temperature_readback\"].plot(marker=\"o\", color=\"red\")"
   ]
  },
  {
   "source": [
    "## Challenges\n",
    "\n",
    "Make these modifications:\n",
    "\n",
    "1. Determine these statistics for `temperature` data in any stream in the databroker."
   ],
   "cell_type": "markdown",
   "metadata": {}
  }
 ],
 "metadata": {
  "kernelspec": {
   "display_name": "Python 3",
   "language": "python",
   "name": "python3"
  },
  "language_info": {
   "codemirror_mode": {
    "name": "ipython",
    "version": 3
   },
   "file_extension": ".py",
   "mimetype": "text/x-python",
   "name": "python",
   "nbconvert_exporter": "python",
   "pygments_lexer": "ipython3",
   "version": "3.8.8"
  }
 },
 "nbformat": 4,
 "nbformat_minor": 5
}