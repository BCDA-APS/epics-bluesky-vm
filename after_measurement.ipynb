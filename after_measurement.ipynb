{
 "cells": [
  {
   "cell_type": "markdown",
   "id": "minor-sunset",
   "metadata": {},
   "source": [
    "# Accessing data later, after the measurement\n",
    "\n",
    "*APS Training for Bluesky Data Acquisition*.\n",
    "\n",
    "**Objective**\n",
    "\n",
    "Get the data from previous *run(s)* and work with it.\n",
    "\n",
    "## Skip the `instrument` package\n",
    "\n",
    "There is no need to import the instrument package since we won't measure anything in this notebook.\n",
    "\n",
    "## Access the database\n",
    "\n",
    "In the instrument package (in file `instrument/framework/initialize.py`), we connected databroker with the MongoDB server using the `training` *catalog*. Get that catalog now.  We'll need to import some tools first."
   ]
  },
  {
   "cell_type": "code",
   "execution_count": 1,
   "id": "superb-filing",
   "metadata": {},
   "outputs": [
    {
     "name": "stdout",
     "output_type": "stream",
     "text": [
      "catalog: training\n"
     ]
    },
    {
     "data": {
      "text/html": [
       "<div>\n",
       "<style scoped>\n",
       "    .dataframe tbody tr th:only-of-type {\n",
       "        vertical-align: middle;\n",
       "    }\n",
       "\n",
       "    .dataframe tbody tr th {\n",
       "        vertical-align: top;\n",
       "    }\n",
       "\n",
       "    .dataframe thead th {\n",
       "        text-align: right;\n",
       "    }\n",
       "</style>\n",
       "<table border=\"1\" class=\"dataframe\">\n",
       "  <thead>\n",
       "    <tr style=\"text-align: right;\">\n",
       "      <th></th>\n",
       "      <th>scan_id</th>\n",
       "      <th>time</th>\n",
       "      <th>plan_name</th>\n",
       "      <th>detectors</th>\n",
       "    </tr>\n",
       "  </thead>\n",
       "  <tbody>\n",
       "    <tr>\n",
       "      <th>0</th>\n",
       "      <td>45</td>\n",
       "      <td>2021-04-13 11:36:00</td>\n",
       "      <td>scan</td>\n",
       "      <td>[scaler1, temperature]</td>\n",
       "    </tr>\n",
       "    <tr>\n",
       "      <th>1</th>\n",
       "      <td>44</td>\n",
       "      <td>2021-04-13 11:35:50</td>\n",
       "      <td>scan</td>\n",
       "      <td>[scaler1, temperature]</td>\n",
       "    </tr>\n",
       "    <tr>\n",
       "      <th>2</th>\n",
       "      <td>43</td>\n",
       "      <td>2021-04-13 11:35:40</td>\n",
       "      <td>scan</td>\n",
       "      <td>[scaler1, temperature]</td>\n",
       "    </tr>\n",
       "    <tr>\n",
       "      <th>3</th>\n",
       "      <td>42</td>\n",
       "      <td>2021-04-13 11:35:31</td>\n",
       "      <td>scan</td>\n",
       "      <td>[scaler1, temperature]</td>\n",
       "    </tr>\n",
       "    <tr>\n",
       "      <th>4</th>\n",
       "      <td>41</td>\n",
       "      <td>2021-04-13 10:54:44</td>\n",
       "      <td>scan</td>\n",
       "      <td>[scaler1, temperature]</td>\n",
       "    </tr>\n",
       "    <tr>\n",
       "      <th>5</th>\n",
       "      <td>40</td>\n",
       "      <td>2021-04-13 10:54:34</td>\n",
       "      <td>scan</td>\n",
       "      <td>[scaler1, temperature]</td>\n",
       "    </tr>\n",
       "    <tr>\n",
       "      <th>6</th>\n",
       "      <td>39</td>\n",
       "      <td>2021-04-13 10:54:24</td>\n",
       "      <td>scan</td>\n",
       "      <td>[scaler1, temperature]</td>\n",
       "    </tr>\n",
       "    <tr>\n",
       "      <th>7</th>\n",
       "      <td>38</td>\n",
       "      <td>2021-04-13 10:54:14</td>\n",
       "      <td>scan</td>\n",
       "      <td>[scaler1, temperature]</td>\n",
       "    </tr>\n",
       "    <tr>\n",
       "      <th>8</th>\n",
       "      <td>37</td>\n",
       "      <td>2021-04-12 17:39:57</td>\n",
       "      <td>count</td>\n",
       "      <td>[temperature]</td>\n",
       "    </tr>\n",
       "    <tr>\n",
       "      <th>9</th>\n",
       "      <td>36</td>\n",
       "      <td>2021-04-12 17:39:36</td>\n",
       "      <td>count</td>\n",
       "      <td>[temperature]</td>\n",
       "    </tr>\n",
       "    <tr>\n",
       "      <th>10</th>\n",
       "      <td>35</td>\n",
       "      <td>2021-04-12 17:39:35</td>\n",
       "      <td>count</td>\n",
       "      <td>[temperature]</td>\n",
       "    </tr>\n",
       "    <tr>\n",
       "      <th>11</th>\n",
       "      <td>34</td>\n",
       "      <td>2021-04-12 17:39:34</td>\n",
       "      <td>count</td>\n",
       "      <td>[temperature]</td>\n",
       "    </tr>\n",
       "    <tr>\n",
       "      <th>12</th>\n",
       "      <td>4</td>\n",
       "      <td>2021-04-12 13:03:29</td>\n",
       "      <td>scan</td>\n",
       "      <td>[vsc16]</td>\n",
       "    </tr>\n",
       "    <tr>\n",
       "      <th>13</th>\n",
       "      <td>3</td>\n",
       "      <td>2021-04-12 13:03:07</td>\n",
       "      <td>scan</td>\n",
       "      <td>[vsc16]</td>\n",
       "    </tr>\n",
       "    <tr>\n",
       "      <th>14</th>\n",
       "      <td>2</td>\n",
       "      <td>2021-04-12 13:02:54</td>\n",
       "      <td>scan</td>\n",
       "      <td>[vsc16]</td>\n",
       "    </tr>\n",
       "    <tr>\n",
       "      <th>15</th>\n",
       "      <td>1</td>\n",
       "      <td>2021-04-12 13:02:42</td>\n",
       "      <td>scan</td>\n",
       "      <td>[vsc16]</td>\n",
       "    </tr>\n",
       "  </tbody>\n",
       "</table>\n",
       "</div>"
      ],
      "text/plain": [
       "    scan_id                 time plan_name               detectors\n",
       "0        45  2021-04-13 11:36:00      scan  [scaler1, temperature]\n",
       "1        44  2021-04-13 11:35:50      scan  [scaler1, temperature]\n",
       "2        43  2021-04-13 11:35:40      scan  [scaler1, temperature]\n",
       "3        42  2021-04-13 11:35:31      scan  [scaler1, temperature]\n",
       "4        41  2021-04-13 10:54:44      scan  [scaler1, temperature]\n",
       "5        40  2021-04-13 10:54:34      scan  [scaler1, temperature]\n",
       "6        39  2021-04-13 10:54:24      scan  [scaler1, temperature]\n",
       "7        38  2021-04-13 10:54:14      scan  [scaler1, temperature]\n",
       "8        37  2021-04-12 17:39:57     count           [temperature]\n",
       "9        36  2021-04-12 17:39:36     count           [temperature]\n",
       "10       35  2021-04-12 17:39:35     count           [temperature]\n",
       "11       34  2021-04-12 17:39:34     count           [temperature]\n",
       "12        4  2021-04-12 13:03:29      scan                 [vsc16]\n",
       "13        3  2021-04-12 13:03:07      scan                 [vsc16]\n",
       "14        2  2021-04-12 13:02:54      scan                 [vsc16]\n",
       "15        1  2021-04-12 13:02:42      scan                 [vsc16]"
      ]
     },
     "execution_count": 1,
     "metadata": {},
     "output_type": "execute_result"
    }
   ],
   "source": [
    "from apstools.utils import listruns, quantify_md_key_use\n",
    "import databroker\n",
    "from databroker.queries import TimeRange\n",
    "\n",
    "db = databroker.catalog[\"training\"]\n",
    "listruns()"
   ]
  },
  {
   "cell_type": "markdown",
   "id": "exceptional-ratio",
   "metadata": {},
   "source": [
    "Our temperature count measurement is one of those listed, but which one?  Recall how we started our run: `RE(bp.count([temperature], num=50, delay=0.1, md={\"motive\": \"tscan\"}))`.  \n",
    "\n",
    "In case some other type of run is more recent, we'll search for the most recent run with this metadata.  First, find any recent (since Feb 2021) runs with this metadata.  We need to do this search with the `v2` version of databroker catalogs.  The result of the search is another catalog."
   ]
  },
  {
   "cell_type": "code",
   "execution_count": 2,
   "id": "charitable-rebound",
   "metadata": {},
   "outputs": [
    {
     "name": "stdout",
     "output_type": "stream",
     "text": [
      "Search for runs with motive='tscan' metadata found 1 run(s).\n"
     ]
    }
   ],
   "source": [
    "cat = db.v2.search(TimeRange(since=\"2021-02-02\")).search({\"motive\": \"tscan\"})\n",
    "print(f\"Search for runs with motive='tscan' metadata found {len(cat)} run(s).\")"
   ]
  },
  {
   "cell_type": "markdown",
   "id": "amateur-pressing",
   "metadata": {},
   "source": [
    "Show the run's metadata."
   ]
  },
  {
   "cell_type": "code",
   "execution_count": 3,
   "id": "applied-craft",
   "metadata": {},
   "outputs": [
    {
     "data": {
      "text/plain": [
       "{'start': Start({'beamline_id': 'APS EPICS/Python/Bluesky training VM',\n",
       " 'detectors': ['temperature'],\n",
       " 'hints': {'dimensions': [[['time'], 'primary']]},\n",
       " 'instrument_name': 'training',\n",
       " 'login_id': 'prjemian@zap',\n",
       " 'motive': 'tscan',\n",
       " 'notebook': 'watch_temperature',\n",
       " 'num_intervals': 49,\n",
       " 'num_points': 50,\n",
       " 'pid': 59652,\n",
       " 'plan_args': {'detectors': [\"MyPvPositioner(prefix='gp:userCalc8', \"\n",
       "                             \"name='temperature', settle_time=0.0, \"\n",
       "                             \"timeout=None, read_attrs=['setpoint', \"\n",
       "                             \"'readback'], configuration_attrs=['calculation', \"\n",
       "                             \"'description', 'max_change', 'noise', \"\n",
       "                             \"'previous_value_pv', 'scanning_rate', \"\n",
       "                             \"'tolerance'], limits=(-20, 255), egu='C')\"],\n",
       "               'num': 50},\n",
       " 'plan_name': 'count',\n",
       " 'plan_type': 'generator',\n",
       " 'proposal_id': 'training-2021-04',\n",
       " 'scan_id': 37,\n",
       " 'time': 1618267197.2374876,\n",
       " 'uid': '91d081b7-fec5-49b9-8567-12f747343bd9',\n",
       " 'versions': {'apstools': '1.4.1',\n",
       "              'bluesky': '1.6.7',\n",
       "              'databroker': '1.2.2',\n",
       "              'epics': '3.4.3',\n",
       "              'h5py': '3.2.1',\n",
       "              'intake': '0.6.2',\n",
       "              'matplotlib': '3.3.4',\n",
       "              'numpy': '1.20.1',\n",
       "              'ophyd': '1.6.1',\n",
       "              'pyRestTable': '2020.0.3',\n",
       "              'spec2nexus': '2021.1.8'}}),\n",
       " 'stop': Stop({'exit_status': 'success',\n",
       " 'num_events': {'baseline': 2, 'primary': 50},\n",
       " 'reason': '',\n",
       " 'run_start': '91d081b7-fec5-49b9-8567-12f747343bd9',\n",
       " 'time': 1618267202.6527116,\n",
       " 'uid': 'f4510901-070c-48d3-89dc-e56041b8f38d'}),\n",
       " 'catalog_dir': None}"
      ]
     },
     "execution_count": 3,
     "metadata": {},
     "output_type": "execute_result"
    }
   ],
   "source": [
    "if len(cat):\n",
    "    run = cat[-1]\n",
    "else:\n",
    "    raise KeyError(\"No runs found with `motive='tscan'`\")\n",
    "\n",
    "run.metadata"
   ]
  },
  {
   "cell_type": "markdown",
   "id": "measured-valuable",
   "metadata": {},
   "source": [
    "## Read the primary data stream of the run"
   ]
  },
  {
   "cell_type": "code",
   "execution_count": 4,
   "id": "protected-central",
   "metadata": {},
   "outputs": [],
   "source": [
    "dataset = run.primary.read()"
   ]
  },
  {
   "cell_type": "markdown",
   "id": "accompanied-directory",
   "metadata": {},
   "source": [
    "Let's get the values as a 1-D numpy array."
   ]
  },
  {
   "cell_type": "code",
   "execution_count": 5,
   "id": "local-aerospace",
   "metadata": {},
   "outputs": [],
   "source": [
    "T = dataset[\"temperature\"].values"
   ]
  },
  {
   "cell_type": "markdown",
   "id": "driven-boring",
   "metadata": {},
   "source": [
    "## Compute the statistics\n",
    "Use the methods of numpy arrays to compute maximum, mean, standard deviation, and minimum.  Looks nicer in a table."
   ]
  },
  {
   "cell_type": "code",
   "execution_count": 6,
   "id": "exposed-tennis",
   "metadata": {},
   "outputs": [
    {
     "name": "stdout",
     "output_type": "stream",
     "text": [
      "======= ==================\n",
      "measure value             \n",
      "======= ==================\n",
      "max     35.48713664454108 \n",
      "mean    34.954758525978484\n",
      "dev     0.27369378318362  \n",
      "min     34.50566109712368 \n",
      "#       50                \n",
      "======= ==================\n",
      "\n"
     ]
    }
   ],
   "source": [
    "import pyRestTable\n",
    "\n",
    "table = pyRestTable.Table()\n",
    "table.addLabel(\"measure\")\n",
    "table.addLabel(\"value\")\n",
    "table.addRow((\"max\", T.max()))\n",
    "table.addRow((\"mean\", T.mean()))\n",
    "table.addRow((\"dev\", T.std()))\n",
    "table.addRow((\"min\", T.min()))\n",
    "table.addRow((\"#\", len(T)))\n",
    "print(table)"
   ]
  },
  {
   "cell_type": "markdown",
   "id": "incredible-holocaust",
   "metadata": {},
   "source": [
    "Let's replot that data for comparison."
   ]
  },
  {
   "cell_type": "code",
   "execution_count": 7,
   "id": "focal-decrease",
   "metadata": {},
   "outputs": [
    {
     "data": {
      "text/plain": [
       "[<matplotlib.lines.Line2D at 0x7f129b90c400>]"
      ]
     },
     "execution_count": 7,
     "metadata": {},
     "output_type": "execute_result"
    },
    {
     "data": {
      "image/png": "[encoded data removed]",
      "text/plain": [
       "<Figure size 432x288 with 1 Axes>"
      ]
     },
     "metadata": {
      "needs_background": "light"
     },
     "output_type": "display_data"
    }
   ],
   "source": [
    "dataset[\"temperature\"].plot(marker=\"o\", color=\"red\")"
   ]
  },
  {
   "cell_type": "markdown",
   "id": "complete-civilization",
   "metadata": {},
   "source": [
    "## Challenges\n",
    "\n",
    "Make these modifications:\n",
    "\n",
    "1. Determine these statistics for `temperature` data in any stream in the databroker."
   ]
  }
 ],
 "metadata": {
  "kernelspec": {
   "display_name": "Python 3",
   "language": "python",
   "name": "python3"
  },
  "language_info": {
   "codemirror_mode": {
    "name": "ipython",
    "version": 3
   },
   "file_extension": ".py",
   "mimetype": "text/x-python",
   "name": "python",
   "nbconvert_exporter": "python",
   "pygments_lexer": "ipython3",
   "version": "3.8.8"
  }
 },
 "nbformat": 4,
 "nbformat_minor": 5
}
