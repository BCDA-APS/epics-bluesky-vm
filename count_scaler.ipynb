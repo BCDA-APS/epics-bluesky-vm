{
 "cells": [
  {
   "cell_type": "markdown",
   "id": "chinese-nylon",
   "metadata": {},
   "source": [
    "# Count the scaler\n",
    "\n",
    "*APS Training for Bluesky Data Acquisition*.\n",
    "\n",
    "**Objective**\n",
    "\n",
    "In this notebook, we show how to count the scaler:\n",
    "\n",
    "* on the command line\n",
    "* using ophyd\n",
    "* using the bluesky RunEngine\n",
    "\n",
    "We also show how to:\n",
    "\n",
    "* set the counting time\n",
    "* choose certain channels for data acquisition\n",
    "\n",
    "## Preparation\n",
    "\n",
    "Start the `instrument` package."
   ]
  },
  {
   "cell_type": "code",
   "execution_count": 1,
   "id": "lucky-singing",
   "metadata": {},
   "outputs": [
    {
     "name": "stderr",
     "output_type": "stream",
     "text": [
      "I Sun-10:35:41 - ############################################################ startup\n",
      "I Sun-10:35:41 - logging started\n",
      "I Sun-10:35:41 - logging level = 10\n",
      "I Sun-10:35:41 - /home/apsu/bluesky/instrument/collection.py\n",
      "I Sun-10:35:41 - /home/apsu/bluesky/instrument/mpl/notebook.py\n"
     ]
    },
    {
     "name": "stdout",
     "output_type": "stream",
     "text": [
      "Activating auto-logging. Current session state plus future input saved.\n",
      "Filename       : /home/apsu/bluesky/.logs/ipython_console.log\n",
      "Mode           : rotate\n",
      "Output logging : True\n",
      "Raw input log  : False\n",
      "Timestamping   : True\n",
      "State          : active\n"
     ]
    },
    {
     "name": "stderr",
     "output_type": "stream",
     "text": [
      "I Sun-10:35:41 - /home/apsu/bluesky/instrument/iocs/check_iocs.py\n",
      "I Sun-10:35:41 - EPICS IOCs ready...\n",
      "I Sun-10:35:41 - EPICS registers IOC ready...\n",
      "I Sun-10:35:41 - #### Bluesky Framework ####\n",
      "I Sun-10:35:41 - /home/apsu/bluesky/instrument/framework/check_python.py\n",
      "I Sun-10:35:41 - /home/apsu/bluesky/instrument/framework/check_bluesky.py\n",
      "I Sun-10:35:42 - /home/apsu/bluesky/instrument/framework/initialize.py\n",
      "I Sun-10:35:43 - using databroker catalog 'training'\n",
      "I Sun-10:35:43 - /home/apsu/bluesky/instrument/framework/metadata.py\n",
      "I Sun-10:35:43 - #### Devices ####\n",
      "I Sun-10:35:43 - /home/apsu/bluesky/instrument/devices/area_detector.py\n",
      "I Sun-10:35:43 - /home/apsu/bluesky/instrument/devices/calculation_records.py\n",
      "I Sun-10:35:50 - /home/apsu/bluesky/instrument/devices/ioc_stats.py\n",
      "I Sun-10:35:50 - /home/apsu/bluesky/instrument/devices/motors.py\n",
      "I Sun-10:35:50 - /home/apsu/bluesky/instrument/devices/noisy_detector.py\n",
      "I Sun-10:35:50 - /home/apsu/bluesky/instrument/devices/scaler.py\n",
      "I Sun-10:35:54 - /home/apsu/bluesky/instrument/devices/shutter_simulator.py\n",
      "I Sun-10:35:54 - /home/apsu/bluesky/instrument/devices/temperature_signal.py\n",
      "I Sun-10:35:54 - #### Callbacks ####\n",
      "I Sun-10:35:54 - /home/apsu/bluesky/instrument/callbacks/spec_data_file_writer.py\n",
      "I Sun-10:35:54 - writing to SPEC file: /home/apsu/bluesky/20210411-103554.dat\n",
      "I Sun-10:35:54 -    >>>>   Using default SPEC file name   <<<<\n",
      "I Sun-10:35:54 -    file will be created when bluesky ends its next scan\n",
      "I Sun-10:35:54 -    to change SPEC file, use command:   newSpecFile('title')\n",
      "I Sun-10:35:54 - #### Plans ####\n",
      "I Sun-10:35:54 - /home/apsu/bluesky/instrument/plans/peak_finder_example.py\n",
      "I Sun-10:35:54 - #### Utilities ####\n",
      "I Sun-10:35:54 - /home/apsu/bluesky/instrument/utils/image_analysis.py\n",
      "I Sun-10:35:54 - #### Startup is complete. ####\n"
     ]
    }
   ],
   "source": [
    "from instrument.collection import *"
   ]
  },
  {
   "cell_type": "markdown",
   "id": "martial-north",
   "metadata": {},
   "source": [
    "# A closer look at the EPICS scaler\n",
    "\n",
    "A scaler is a device that counts digital pulses from a pulse detector such\n",
    "as a scintillation counter or from photodiodes or ionization chamber with\n",
    "pulse chain electronics.  Scalers have\n",
    "many channels, some of which might have no associated detector.  Our scaler\n",
    "(`scaler1`) is a simulated device that records a random number of pulses in \n",
    "each channel.  We are only interested in the channels that have names provided\n",
    "by users in the GUI screens.  In this control screen for our scaler, only a few of the\n",
    "channels are named:\n",
    "\n",
    "![`scaler` GUI](resources/scaler.png \"`scaler1` GUI\")"
   ]
  },
  {
   "cell_type": "markdown",
   "id": "certified-blind",
   "metadata": {},
   "source": [
    "Let's configure `scaler1` to report only the `diode` and `I0` channels (plus the count time channel which will *always* be included).  Keep in mind that the argument to this function is a Python list, so the channel names must be enclosed with `[]`.  The function does not return a result.  If something *is* printed, there is an error to be fixed."
   ]
  },
  {
   "cell_type": "code",
   "execution_count": 2,
   "id": "swedish-robertson",
   "metadata": {},
   "outputs": [],
   "source": [
    "scaler1.select_channels([\"diode\", \"I0\"])"
   ]
  },
  {
   "cell_type": "markdown",
   "id": "organized-death",
   "metadata": {},
   "source": [
    "The _easiest_ way to count the `scaler` object is to use the [`%ct`](https://blueskyproject.io/bluesky/magics.html?highlight=label#taking-a-reading-using-ct-post-v1-3-0) bluesky magic command, which counts all objects with the `detectors` label.\n",
    "\n",
    "Note that the various magic commands are only available from the command line, not for use in a bluesky plan function."
   ]
  },
  {
   "cell_type": "code",
   "execution_count": 3,
   "id": "identical-valuation",
   "metadata": {},
   "outputs": [
    {
     "name": "stdout",
     "output_type": "stream",
     "text": [
      "[This data will not be saved. Use the RunEngine to collect data.]\n",
      "noisy                          23772.419936435854\n",
      "I0                             2.0\n",
      "diode                          2.0\n",
      "scaler1_time                   0.6\n"
     ]
    }
   ],
   "source": [
    "%ct"
   ]
  },
  {
   "cell_type": "markdown",
   "id": "alternative-salem",
   "metadata": {},
   "source": [
    "Compare with the reading when _all_ channels are selected.\n",
    "\n",
    "NOTE:  To report _all_ named channels, call `.select_channels()` with empty parentheses."
   ]
  },
  {
   "cell_type": "code",
   "execution_count": 4,
   "id": "decimal-contemporary",
   "metadata": {},
   "outputs": [
    {
     "name": "stdout",
     "output_type": "stream",
     "text": [
      "[This data will not be saved. Use the RunEngine to collect data.]\n",
      "noisy                          23772.419936435854\n",
      "timebase                       6000000.0\n",
      "I0                             2.0\n",
      "scint                          3.0\n",
      "diode                          1.0\n",
      "roi1                           0.0\n",
      "roi2                           0.0\n",
      "scaler1_time                   0.6\n"
     ]
    }
   ],
   "source": [
    "scaler1.select_channels()\n",
    "%ct"
   ]
  },
  {
   "cell_type": "markdown",
   "id": "accepted-attribute",
   "metadata": {},
   "source": [
    "Now, select just the two channels again before continuing:"
   ]
  },
  {
   "cell_type": "code",
   "execution_count": 5,
   "id": "artistic-triangle",
   "metadata": {},
   "outputs": [],
   "source": [
    "scaler1.select_channels([\"diode\", \"I0\"])"
   ]
  },
  {
   "cell_type": "markdown",
   "id": "narrow-separation",
   "metadata": {},
   "source": [
    "As noted before, the `%ct` command is only available from the command shell.\n",
    "\n",
    "### use ophyd to count the scaler\n",
    "\n",
    "We should learn how to use the underlying Python code to do the same steps.\n",
    "\n",
    "The first step is to use pure ophyd methods to count and report, then use a bluesky plan to do the same thing.  The ophyd methods are `trigger`, `wait`, and `read`.  The `trigger` and `wait` methods can be chained together:"
   ]
  },
  {
   "cell_type": "code",
   "execution_count": 6,
   "id": "controversial-hybrid",
   "metadata": {},
   "outputs": [],
   "source": [
    "scaler1.trigger().wait()"
   ]
  },
  {
   "cell_type": "markdown",
   "id": "killing-bumper",
   "metadata": {},
   "source": [
    "Technically, we should `stage` and `unstage` the object.  **We'll use staging to control the count time of the scaler.**\n",
    "\n",
    "The ophyd [`.stage()` method](https://nsls-ii.github.io/ophyd/generated/ophyd.device.BlueskyInterface.stage.html?highlight=stage#ophyd.device.BlueskyInterface.stage) prepares the object for its `.trigger()` method, while the `.unstage()` method returns the object's settings to the previous state before the `.stage()` method was called."
   ]
  },
  {
   "cell_type": "code",
   "execution_count": 7,
   "id": "separated-gathering",
   "metadata": {},
   "outputs": [
    {
     "data": {
      "text/plain": [
       "[Channels(prefix='gp:scaler1', name='scaler1_channels', parent='scaler1', read_attrs=['chan02', 'chan02.s', 'chan04', 'chan04.s'], configuration_attrs=['chan02', 'chan02.chname', 'chan02.preset', 'chan02.gate', 'chan04', 'chan04.chname', 'chan04.preset', 'chan04.gate']),\n",
       " ScalerCH(prefix='gp:scaler1', name='scaler1', read_attrs=['channels', 'channels.chan02', 'channels.chan02.s', 'channels.chan04', 'channels.chan04.s', 'time'], configuration_attrs=['channels', 'channels.chan02', 'channels.chan02.chname', 'channels.chan02.preset', 'channels.chan02.gate', 'channels.chan04', 'channels.chan04.chname', 'channels.chan04.preset', 'channels.chan04.gate', 'count_mode', 'delay', 'auto_count_delay', 'freq', 'preset_time', 'auto_count_time', 'egu'])]"
      ]
     },
     "execution_count": 7,
     "metadata": {},
     "output_type": "execute_result"
    }
   ],
   "source": [
    "scaler1.stage()\n",
    "scaler1.trigger().wait()\n",
    "scaler1.unstage()"
   ]
  },
  {
   "cell_type": "markdown",
   "id": "second-overall",
   "metadata": {},
   "source": [
    "Let's find out what happens when `scaler1` is staged.  That's controlled by the contents of a Python dictionary `.stage_sigs`:"
   ]
  },
  {
   "cell_type": "code",
   "execution_count": 8,
   "id": "comfortable-export",
   "metadata": {},
   "outputs": [
    {
     "data": {
      "text/plain": [
       "OrderedDict()"
      ]
     },
     "execution_count": 8,
     "metadata": {},
     "output_type": "execute_result"
    }
   ],
   "source": [
    "scaler1.stage_sigs"
   ]
  },
  {
   "cell_type": "markdown",
   "id": "exact-particle",
   "metadata": {},
   "source": [
    "It's empty, so nothing has been preconfigured for us.  Let's make sure that we get to pick the *counting time* (the time to accumulate pulses in the various channels), say 2.0 seconds, when we count here."
   ]
  },
  {
   "cell_type": "code",
   "execution_count": 9,
   "id": "israeli-outreach",
   "metadata": {},
   "outputs": [
    {
     "data": {
      "text/plain": [
       "OrderedDict([('preset_time', 2)])"
      ]
     },
     "execution_count": 9,
     "metadata": {},
     "output_type": "execute_result"
    }
   ],
   "source": [
    "scaler1.stage_sigs[\"preset_time\"] = 2\n",
    "scaler1.stage_sigs"
   ]
  },
  {
   "cell_type": "markdown",
   "id": "metallic-costa",
   "metadata": {},
   "source": [
    "Show the counting time *before* we count, then `stage`, `trigger`, `wait`, `read`, `unstage`, then finally show the counting time  *after* we count:"
   ]
  },
  {
   "cell_type": "code",
   "execution_count": 10,
   "id": "martial-volume",
   "metadata": {},
   "outputs": [
    {
     "name": "stdout",
     "output_type": "stream",
     "text": [
      "Scaler configured to count for 0.5s\n",
      "OrderedDict([('I0', {'value': 11.0, 'timestamp': 1618155360.367395}), ('diode', {'value': 11.0, 'timestamp': 1618155360.367395}), ('scaler1_time', {'value': 2.1, 'timestamp': 1618155357.998224})])\n",
      "Scaler configured to count for 0.5s\n"
     ]
    }
   ],
   "source": [
    "print(f\"Scaler configured to count for {scaler1.preset_time.get()}s\")\n",
    "scaler1.stage()\n",
    "scaler1.trigger().wait()\n",
    "print(scaler1.read())\n",
    "scaler1.unstage()\n",
    "print(f\"Scaler configured to count for {scaler1.preset_time.get()}s\")"
   ]
  },
  {
   "cell_type": "markdown",
   "id": "missing-mortality",
   "metadata": {},
   "source": [
    "The report from `.read()` includes both values and timestamps (in seconds since the Python [time](https://docs.python.org/3/library/time.html) epoch, UTC).  The structure is a Python dictionary.  This is the low-level method used to collect readings from any ophyd device.  We had to `print()` this since the return result from a command within a sequence is not returned at the end of the sequence, just the return result of the *final* command in the sequence.\n",
    "\n",
    "See that the scaler counted for 2.1 seconds (a small bug in the scaler simulator it seems, always adds .1 to the count time!).  But before staging, the scaler was configured for 1.0 seconds, and after unstaging, the scaler returned to that value.\n",
    "\n",
    "**That's how to control the counting time *for a scaler*.**  (Area detectors use different terms.  More on that later.)"
   ]
  },
  {
   "cell_type": "markdown",
   "id": "agricultural-earth",
   "metadata": {},
   "source": [
    "<details>\n",
    "    <summary>about <tt>scaler1_time</tt></summary>\n",
    "\n",
    "     Of note is the key `scaler1_time` which is the name of the ophyd symbol `scaler1.time` as returned by `scaler1.time.name`:\n",
    "\n",
    "        In [21]: scaler1.time.name\n",
    "        Out [21]: 'scaler1_time'\n",
    "\n",
    "</details>"
   ]
  },
  {
   "cell_type": "markdown",
   "id": "lasting-clearance",
   "metadata": {},
   "source": [
    "### use bluesky (the package) to count the scaler\n",
    "\n",
    "Now, use the bluesky [RunEngine](https://blueskyproject.io/bluesky/generated/bluesky.run_engine.RunEngine.html?highlight=runengine#bluesky.run_engine.RunEngine) (`RE`) to count `scaler1`.  We'll use the bluesky plan ([`bp`](https://blueskyproject.io/bluesky/plans.html?highlight=count#pre-assembled-plans)) called [`count()`](https://blueskyproject.io/bluesky/generated/bluesky.plans.count.html#bluesky.plans.count).  To be consistent with the result returned from `%ct`, we'll include the `noisy` detector."
   ]
  },
  {
   "cell_type": "code",
   "execution_count": 11,
   "id": "latin-least",
   "metadata": {},
   "outputs": [
    {
     "name": "stdout",
     "output_type": "stream",
     "text": [
      "\n",
      "\n",
      "Transient Scan ID: 28     Time: 2021-04-11 10:36:00\n",
      "Persistent Unique Scan ID: '5bd940da-7ca1-40b3-9a11-7b48607c9807'\n",
      "New stream: 'baseline'\n",
      "New stream: 'primary'\n",
      "+-----------+------------+------------+------------+------------+\n",
      "|   seq_num |       time |      noisy |         I0 |      diode |\n",
      "+-----------+------------+------------+------------+------------+\n",
      "|         1 | 10:36:02.9 | 23772.41994 |          7 |         11 |\n",
      "+-----------+------------+------------+------------+------------+\n",
      "generator count ['5bd940da'] (scan num: 28)\n"
     ]
    },
    {
     "data": {
      "text/plain": [
       "('5bd940da-7ca1-40b3-9a11-7b48607c9807',)"
      ]
     },
     "execution_count": 11,
     "metadata": {},
     "output_type": "execute_result"
    }
   ],
   "source": [
    "RE(bp.count([scaler1,noisy]))"
   ]
  },
  {
   "cell_type": "markdown",
   "id": "chronic-threat",
   "metadata": {},
   "source": [
    "There are many ways to view data from bluesky runs.  The most recent run can be picked from the database using the Python reference for *the last item in the list*: `[-1]`.  We need the `v2` version of the database to access the `.primary` data stream.\n",
    "\n",
    "We'll pick one simple to view the run data, as an [xarray](http://xarray.pydata.org/) table since it is easy to display such structured content in a Jupyter notebook.  (We could just as easily have displayed the data as a [dask](https://dask.org/) table by replacing `.read()` with `.to_dask()`.)"
   ]
  },
  {
   "cell_type": "code",
   "execution_count": 12,
   "id": "banner-hearing",
   "metadata": {},
   "outputs": [
    {
     "data": {
      "text/html": [
       "<div><svg style=\"position: absolute; width: 0; height: 0; overflow: hidden\">\n",
       "<defs>\n",
       "<symbol id=\"icon-database\" viewBox=\"0 0 32 32\">\n",
       "<path d=\"M16 0c-8.837 0-16 2.239-16 5v4c0 2.761 7.163 5 16 5s16-2.239 16-5v-4c0-2.761-7.163-5-16-5z\"></path>\n",
       "<path d=\"M16 17c-8.837 0-16-2.239-16-5v6c0 2.761 7.163 5 16 5s16-2.239 16-5v-6c0 2.761-7.163 5-16 5z\"></path>\n",
       "<path d=\"M16 26c-8.837 0-16-2.239-16-5v6c0 2.761 7.163 5 16 5s16-2.239 16-5v-6c0 2.761-7.163 5-16 5z\"></path>\n",
       "</symbol>\n",
       "<symbol id=\"icon-file-text2\" viewBox=\"0 0 32 32\">\n",
       "<path d=\"M28.681 7.159c-0.694-0.947-1.662-2.053-2.724-3.116s-2.169-2.030-3.116-2.724c-1.612-1.182-2.393-1.319-2.841-1.319h-15.5c-1.378 0-2.5 1.121-2.5 2.5v27c0 1.378 1.122 2.5 2.5 2.5h23c1.378 0 2.5-1.122 2.5-2.5v-19.5c0-0.448-0.137-1.23-1.319-2.841zM24.543 5.457c0.959 0.959 1.712 1.825 2.268 2.543h-4.811v-4.811c0.718 0.556 1.584 1.309 2.543 2.268zM28 29.5c0 0.271-0.229 0.5-0.5 0.5h-23c-0.271 0-0.5-0.229-0.5-0.5v-27c0-0.271 0.229-0.5 0.5-0.5 0 0 15.499-0 15.5 0v7c0 0.552 0.448 1 1 1h7v19.5z\"></path>\n",
       "<path d=\"M23 26h-14c-0.552 0-1-0.448-1-1s0.448-1 1-1h14c0.552 0 1 0.448 1 1s-0.448 1-1 1z\"></path>\n",
       "<path d=\"M23 22h-14c-0.552 0-1-0.448-1-1s0.448-1 1-1h14c0.552 0 1 0.448 1 1s-0.448 1-1 1z\"></path>\n",
       "<path d=\"M23 18h-14c-0.552 0-1-0.448-1-1s0.448-1 1-1h14c0.552 0 1 0.448 1 1s-0.448 1-1 1z\"></path>\n",
       "</symbol>\n",
       "</defs>\n",
       "</svg>\n",
       "<style>/* CSS stylesheet for displaying xarray objects in jupyterlab.\n",
       " *\n",
       " */\n",
       "\n",
       ":root {\n",
       "  --xr-font-color0: var(--jp-content-font-color0, rgba(0, 0, 0, 1));\n",
       "  --xr-font-color2: var(--jp-content-font-color2, rgba(0, 0, 0, 0.54));\n",
       "  --xr-font-color3: var(--jp-content-font-color3, rgba(0, 0, 0, 0.38));\n",
       "  --xr-border-color: var(--jp-border-color2, #e0e0e0);\n",
       "  --xr-disabled-color: var(--jp-layout-color3, #bdbdbd);\n",
       "  --xr-background-color: var(--jp-layout-color0, white);\n",
       "  --xr-background-color-row-even: var(--jp-layout-color1, white);\n",
       "  --xr-background-color-row-odd: var(--jp-layout-color2, #eeeeee);\n",
       "}\n",
       "\n",
       "html[theme=dark],\n",
       "body.vscode-dark {\n",
       "  --xr-font-color0: rgba(255, 255, 255, 1);\n",
       "  --xr-font-color2: rgba(255, 255, 255, 0.54);\n",
       "  --xr-font-color3: rgba(255, 255, 255, 0.38);\n",
       "  --xr-border-color: #1F1F1F;\n",
       "  --xr-disabled-color: #515151;\n",
       "  --xr-background-color: #111111;\n",
       "  --xr-background-color-row-even: #111111;\n",
       "  --xr-background-color-row-odd: #313131;\n",
       "}\n",
       "\n",
       ".xr-wrap {\n",
       "  display: block;\n",
       "  min-width: 300px;\n",
       "  max-width: 700px;\n",
       "}\n",
       "\n",
       ".xr-text-repr-fallback {\n",
       "  /* fallback to plain text repr when CSS is not injected (untrusted notebook) */\n",
       "  display: none;\n",
       "}\n",
       "\n",
       ".xr-header {\n",
       "  padding-top: 6px;\n",
       "  padding-bottom: 6px;\n",
       "  margin-bottom: 4px;\n",
       "  border-bottom: solid 1px var(--xr-border-color);\n",
       "}\n",
       "\n",
       ".xr-header > div,\n",
       ".xr-header > ul {\n",
       "  display: inline;\n",
       "  margin-top: 0;\n",
       "  margin-bottom: 0;\n",
       "}\n",
       "\n",
       ".xr-obj-type,\n",
       ".xr-array-name {\n",
       "  margin-left: 2px;\n",
       "  margin-right: 10px;\n",
       "}\n",
       "\n",
       ".xr-obj-type {\n",
       "  color: var(--xr-font-color2);\n",
       "}\n",
       "\n",
       ".xr-sections {\n",
       "  padding-left: 0 !important;\n",
       "  display: grid;\n",
       "  grid-template-columns: 150px auto auto 1fr 20px 20px;\n",
       "}\n",
       "\n",
       ".xr-section-item {\n",
       "  display: contents;\n",
       "}\n",
       "\n",
       ".xr-section-item input {\n",
       "  display: none;\n",
       "}\n",
       "\n",
       ".xr-section-item input + label {\n",
       "  color: var(--xr-disabled-color);\n",
       "}\n",
       "\n",
       ".xr-section-item input:enabled + label {\n",
       "  cursor: pointer;\n",
       "  color: var(--xr-font-color2);\n",
       "}\n",
       "\n",
       ".xr-section-item input:enabled + label:hover {\n",
       "  color: var(--xr-font-color0);\n",
       "}\n",
       "\n",
       ".xr-section-summary {\n",
       "  grid-column: 1;\n",
       "  color: var(--xr-font-color2);\n",
       "  font-weight: 500;\n",
       "}\n",
       "\n",
       ".xr-section-summary > span {\n",
       "  display: inline-block;\n",
       "  padding-left: 0.5em;\n",
       "}\n",
       "\n",
       ".xr-section-summary-in:disabled + label {\n",
       "  color: var(--xr-font-color2);\n",
       "}\n",
       "\n",
       ".xr-section-summary-in + label:before {\n",
       "  display: inline-block;\n",
       "  content: '►';\n",
       "  font-size: 11px;\n",
       "  width: 15px;\n",
       "  text-align: center;\n",
       "}\n",
       "\n",
       ".xr-section-summary-in:disabled + label:before {\n",
       "  color: var(--xr-disabled-color);\n",
       "}\n",
       "\n",
       ".xr-section-summary-in:checked + label:before {\n",
       "  content: '▼';\n",
       "}\n",
       "\n",
       ".xr-section-summary-in:checked + label > span {\n",
       "  display: none;\n",
       "}\n",
       "\n",
       ".xr-section-summary,\n",
       ".xr-section-inline-details {\n",
       "  padding-top: 4px;\n",
       "  padding-bottom: 4px;\n",
       "}\n",
       "\n",
       ".xr-section-inline-details {\n",
       "  grid-column: 2 / -1;\n",
       "}\n",
       "\n",
       ".xr-section-details {\n",
       "  display: none;\n",
       "  grid-column: 1 / -1;\n",
       "  margin-bottom: 5px;\n",
       "}\n",
       "\n",
       ".xr-section-summary-in:checked ~ .xr-section-details {\n",
       "  display: contents;\n",
       "}\n",
       "\n",
       ".xr-array-wrap {\n",
       "  grid-column: 1 / -1;\n",
       "  display: grid;\n",
       "  grid-template-columns: 20px auto;\n",
       "}\n",
       "\n",
       ".xr-array-wrap > label {\n",
       "  grid-column: 1;\n",
       "  vertical-align: top;\n",
       "}\n",
       "\n",
       ".xr-preview {\n",
       "  color: var(--xr-font-color3);\n",
       "}\n",
       "\n",
       ".xr-array-preview,\n",
       ".xr-array-data {\n",
       "  padding: 0 5px !important;\n",
       "  grid-column: 2;\n",
       "}\n",
       "\n",
       ".xr-array-data,\n",
       ".xr-array-in:checked ~ .xr-array-preview {\n",
       "  display: none;\n",
       "}\n",
       "\n",
       ".xr-array-in:checked ~ .xr-array-data,\n",
       ".xr-array-preview {\n",
       "  display: inline-block;\n",
       "}\n",
       "\n",
       ".xr-dim-list {\n",
       "  display: inline-block !important;\n",
       "  list-style: none;\n",
       "  padding: 0 !important;\n",
       "  margin: 0;\n",
       "}\n",
       "\n",
       ".xr-dim-list li {\n",
       "  display: inline-block;\n",
       "  padding: 0;\n",
       "  margin: 0;\n",
       "}\n",
       "\n",
       ".xr-dim-list:before {\n",
       "  content: '(';\n",
       "}\n",
       "\n",
       ".xr-dim-list:after {\n",
       "  content: ')';\n",
       "}\n",
       "\n",
       ".xr-dim-list li:not(:last-child):after {\n",
       "  content: ',';\n",
       "  padding-right: 5px;\n",
       "}\n",
       "\n",
       ".xr-has-index {\n",
       "  font-weight: bold;\n",
       "}\n",
       "\n",
       ".xr-var-list,\n",
       ".xr-var-item {\n",
       "  display: contents;\n",
       "}\n",
       "\n",
       ".xr-var-item > div,\n",
       ".xr-var-item label,\n",
       ".xr-var-item > .xr-var-name span {\n",
       "  background-color: var(--xr-background-color-row-even);\n",
       "  margin-bottom: 0;\n",
       "}\n",
       "\n",
       ".xr-var-item > .xr-var-name:hover span {\n",
       "  padding-right: 5px;\n",
       "}\n",
       "\n",
       ".xr-var-list > li:nth-child(odd) > div,\n",
       ".xr-var-list > li:nth-child(odd) > label,\n",
       ".xr-var-list > li:nth-child(odd) > .xr-var-name span {\n",
       "  background-color: var(--xr-background-color-row-odd);\n",
       "}\n",
       "\n",
       ".xr-var-name {\n",
       "  grid-column: 1;\n",
       "}\n",
       "\n",
       ".xr-var-dims {\n",
       "  grid-column: 2;\n",
       "}\n",
       "\n",
       ".xr-var-dtype {\n",
       "  grid-column: 3;\n",
       "  text-align: right;\n",
       "  color: var(--xr-font-color2);\n",
       "}\n",
       "\n",
       ".xr-var-preview {\n",
       "  grid-column: 4;\n",
       "}\n",
       "\n",
       ".xr-var-name,\n",
       ".xr-var-dims,\n",
       ".xr-var-dtype,\n",
       ".xr-preview,\n",
       ".xr-attrs dt {\n",
       "  white-space: nowrap;\n",
       "  overflow: hidden;\n",
       "  text-overflow: ellipsis;\n",
       "  padding-right: 10px;\n",
       "}\n",
       "\n",
       ".xr-var-name:hover,\n",
       ".xr-var-dims:hover,\n",
       ".xr-var-dtype:hover,\n",
       ".xr-attrs dt:hover {\n",
       "  overflow: visible;\n",
       "  width: auto;\n",
       "  z-index: 1;\n",
       "}\n",
       "\n",
       ".xr-var-attrs,\n",
       ".xr-var-data {\n",
       "  display: none;\n",
       "  background-color: var(--xr-background-color) !important;\n",
       "  padding-bottom: 5px !important;\n",
       "}\n",
       "\n",
       ".xr-var-attrs-in:checked ~ .xr-var-attrs,\n",
       ".xr-var-data-in:checked ~ .xr-var-data {\n",
       "  display: block;\n",
       "}\n",
       "\n",
       ".xr-var-data > table {\n",
       "  float: right;\n",
       "}\n",
       "\n",
       ".xr-var-name span,\n",
       ".xr-var-data,\n",
       ".xr-attrs {\n",
       "  padding-left: 25px !important;\n",
       "}\n",
       "\n",
       ".xr-attrs,\n",
       ".xr-var-attrs,\n",
       ".xr-var-data {\n",
       "  grid-column: 1 / -1;\n",
       "}\n",
       "\n",
       "dl.xr-attrs {\n",
       "  padding: 0;\n",
       "  margin: 0;\n",
       "  display: grid;\n",
       "  grid-template-columns: 125px auto;\n",
       "}\n",
       "\n",
       ".xr-attrs dt,\n",
       ".xr-attrs dd {\n",
       "  padding: 0;\n",
       "  margin: 0;\n",
       "  float: left;\n",
       "  padding-right: 10px;\n",
       "  width: auto;\n",
       "}\n",
       "\n",
       ".xr-attrs dt {\n",
       "  font-weight: normal;\n",
       "  grid-column: 1;\n",
       "}\n",
       "\n",
       ".xr-attrs dt:hover span {\n",
       "  display: inline-block;\n",
       "  background: var(--xr-background-color);\n",
       "  padding-right: 10px;\n",
       "}\n",
       "\n",
       ".xr-attrs dd {\n",
       "  grid-column: 2;\n",
       "  white-space: pre-wrap;\n",
       "  word-break: break-all;\n",
       "}\n",
       "\n",
       ".xr-icon-database,\n",
       ".xr-icon-file-text2 {\n",
       "  display: inline-block;\n",
       "  vertical-align: middle;\n",
       "  width: 1em;\n",
       "  height: 1.5em !important;\n",
       "  stroke-width: 0;\n",
       "  stroke: currentColor;\n",
       "  fill: currentColor;\n",
       "}\n",
       "</style><pre class='xr-text-repr-fallback'>&lt;xarray.Dataset&gt;\n",
       "Dimensions:       (time: 1)\n",
       "Coordinates:\n",
       "  * time          (time) float64 1.618e+09\n",
       "Data variables:\n",
       "    noisy         (time) float64 2.377e+04\n",
       "    I0            (time) float64 7.0\n",
       "    diode         (time) float64 11.0\n",
       "    scaler1_time  (time) float64 2.0</pre><div class='xr-wrap' hidden><div class='xr-header'><div class='xr-obj-type'>xarray.Dataset</div></div><ul class='xr-sections'><li class='xr-section-item'><input id='section-b3b8928d-4b09-4b94-90c0-747a807844ee' class='xr-section-summary-in' type='checkbox' disabled ><label for='section-b3b8928d-4b09-4b94-90c0-747a807844ee' class='xr-section-summary'  title='Expand/collapse section'>Dimensions:</label><div class='xr-section-inline-details'><ul class='xr-dim-list'><li><span class='xr-has-index'>time</span>: 1</li></ul></div><div class='xr-section-details'></div></li><li class='xr-section-item'><input id='section-9eaaac56-1ceb-4136-aedb-94a5e2b048f8' class='xr-section-summary-in' type='checkbox'  checked><label for='section-9eaaac56-1ceb-4136-aedb-94a5e2b048f8' class='xr-section-summary' >Coordinates: <span>(1)</span></label><div class='xr-section-inline-details'></div><div class='xr-section-details'><ul class='xr-var-list'><li class='xr-var-item'><div class='xr-var-name'><span class='xr-has-index'>time</span></div><div class='xr-var-dims'>(time)</div><div class='xr-var-dtype'>float64</div><div class='xr-var-preview xr-preview'>1.618e+09</div><input id='attrs-d84a53ba-a27f-401d-bb1f-67a9de8d77a6' class='xr-var-attrs-in' type='checkbox' disabled><label for='attrs-d84a53ba-a27f-401d-bb1f-67a9de8d77a6' title='Show/Hide attributes'><svg class='icon xr-icon-file-text2'><use xlink:href='#icon-file-text2'></use></svg></label><input id='data-d2034a53-1fe1-46a8-84c9-612ad3a66bfe' class='xr-var-data-in' type='checkbox'><label for='data-d2034a53-1fe1-46a8-84c9-612ad3a66bfe' title='Show/Hide data repr'><svg class='icon xr-icon-database'><use xlink:href='#icon-database'></use></svg></label><div class='xr-var-attrs'><dl class='xr-attrs'></dl></div><div class='xr-var-data'><pre>array([1.618155e+09])</pre></div></li></ul></div></li><li class='xr-section-item'><input id='section-9eecde44-caff-4815-bee9-addbcb575fb5' class='xr-section-summary-in' type='checkbox'  checked><label for='section-9eecde44-caff-4815-bee9-addbcb575fb5' class='xr-section-summary' >Data variables: <span>(4)</span></label><div class='xr-section-inline-details'></div><div class='xr-section-details'><ul class='xr-var-list'><li class='xr-var-item'><div class='xr-var-name'><span>noisy</span></div><div class='xr-var-dims'>(time)</div><div class='xr-var-dtype'>float64</div><div class='xr-var-preview xr-preview'>2.377e+04</div><input id='attrs-47259427-c7ad-453d-9165-daca4de39368' class='xr-var-attrs-in' type='checkbox' ><label for='attrs-47259427-c7ad-453d-9165-daca4de39368' title='Show/Hide attributes'><svg class='icon xr-icon-file-text2'><use xlink:href='#icon-file-text2'></use></svg></label><input id='data-ebeee212-4775-46b9-b752-8a9644b940fd' class='xr-var-data-in' type='checkbox'><label for='data-ebeee212-4775-46b9-b752-8a9644b940fd' title='Show/Hide data repr'><svg class='icon xr-icon-database'><use xlink:href='#icon-database'></use></svg></label><div class='xr-var-attrs'><dl class='xr-attrs'><dt><span>object :</span></dt><dd>noisy</dd></dl></div><div class='xr-var-data'><pre>array([23772.41993644])</pre></div></li><li class='xr-var-item'><div class='xr-var-name'><span>I0</span></div><div class='xr-var-dims'>(time)</div><div class='xr-var-dtype'>float64</div><div class='xr-var-preview xr-preview'>7.0</div><input id='attrs-61921390-8420-4972-978a-38828f5fa299' class='xr-var-attrs-in' type='checkbox' ><label for='attrs-61921390-8420-4972-978a-38828f5fa299' title='Show/Hide attributes'><svg class='icon xr-icon-file-text2'><use xlink:href='#icon-file-text2'></use></svg></label><input id='data-ef5a6cbf-ceb3-416b-a7ac-19ae18e04041' class='xr-var-data-in' type='checkbox'><label for='data-ef5a6cbf-ceb3-416b-a7ac-19ae18e04041' title='Show/Hide data repr'><svg class='icon xr-icon-database'><use xlink:href='#icon-database'></use></svg></label><div class='xr-var-attrs'><dl class='xr-attrs'><dt><span>object :</span></dt><dd>scaler1</dd></dl></div><div class='xr-var-data'><pre>array([7.])</pre></div></li><li class='xr-var-item'><div class='xr-var-name'><span>diode</span></div><div class='xr-var-dims'>(time)</div><div class='xr-var-dtype'>float64</div><div class='xr-var-preview xr-preview'>11.0</div><input id='attrs-fa52c33b-6e75-496e-a666-fd9fe8af499a' class='xr-var-attrs-in' type='checkbox' ><label for='attrs-fa52c33b-6e75-496e-a666-fd9fe8af499a' title='Show/Hide attributes'><svg class='icon xr-icon-file-text2'><use xlink:href='#icon-file-text2'></use></svg></label><input id='data-18aea2a0-5339-46e1-897a-ccf07f208096' class='xr-var-data-in' type='checkbox'><label for='data-18aea2a0-5339-46e1-897a-ccf07f208096' title='Show/Hide data repr'><svg class='icon xr-icon-database'><use xlink:href='#icon-database'></use></svg></label><div class='xr-var-attrs'><dl class='xr-attrs'><dt><span>object :</span></dt><dd>scaler1</dd></dl></div><div class='xr-var-data'><pre>array([11.])</pre></div></li><li class='xr-var-item'><div class='xr-var-name'><span>scaler1_time</span></div><div class='xr-var-dims'>(time)</div><div class='xr-var-dtype'>float64</div><div class='xr-var-preview xr-preview'>2.0</div><input id='attrs-582d5dcb-9bb8-4f52-a8ea-682b804515ad' class='xr-var-attrs-in' type='checkbox' ><label for='attrs-582d5dcb-9bb8-4f52-a8ea-682b804515ad' title='Show/Hide attributes'><svg class='icon xr-icon-file-text2'><use xlink:href='#icon-file-text2'></use></svg></label><input id='data-c27736fd-2fea-4b0c-85fc-f0dadff1100b' class='xr-var-data-in' type='checkbox'><label for='data-c27736fd-2fea-4b0c-85fc-f0dadff1100b' title='Show/Hide data repr'><svg class='icon xr-icon-database'><use xlink:href='#icon-database'></use></svg></label><div class='xr-var-attrs'><dl class='xr-attrs'><dt><span>object :</span></dt><dd>scaler1</dd></dl></div><div class='xr-var-data'><pre>array([2.])</pre></div></li></ul></div></li><li class='xr-section-item'><input id='section-8a19c052-f0db-4e07-a41c-ed034a200841' class='xr-section-summary-in' type='checkbox' disabled ><label for='section-8a19c052-f0db-4e07-a41c-ed034a200841' class='xr-section-summary'  title='Expand/collapse section'>Attributes: <span>(0)</span></label><div class='xr-section-inline-details'></div><div class='xr-section-details'><dl class='xr-attrs'></dl></div></li></ul></div></div>"
      ],
      "text/plain": [
       "<xarray.Dataset>\n",
       "Dimensions:       (time: 1)\n",
       "Coordinates:\n",
       "  * time          (time) float64 1.618e+09\n",
       "Data variables:\n",
       "    noisy         (time) float64 2.377e+04\n",
       "    I0            (time) float64 7.0\n",
       "    diode         (time) float64 11.0\n",
       "    scaler1_time  (time) float64 2.0"
      ]
     },
     "execution_count": 12,
     "metadata": {},
     "output_type": "execute_result"
    }
   ],
   "source": [
    "db.v2[-1].primary.read()"
   ]
  },
  {
   "cell_type": "markdown",
   "id": "organizational-illustration",
   "metadata": {},
   "source": [
    "As a last action in this section, use the [`listruns()`](https://apstools.readthedocs.io/en/latest/source/_utils.html?highlight=listobjects#apstools.utils.listruns) command from *apstools* to show the (default: 20) most recent runs in the database.  The table shows a short version of the run's unique identifier (`short_uid`), and other more obvious columns of information, truncated to avoid lengthy output.  The name of the [databroker *catalog*](https://blueskyproject.io/databroker/index.html) (`class_2021_03`) is shown before the table."
   ]
  },
  {
   "cell_type": "code",
   "execution_count": 13,
   "id": "great-ghana",
   "metadata": {},
   "outputs": [
    {
     "name": "stdout",
     "output_type": "stream",
     "text": [
      "catalog: training\n"
     ]
    },
    {
     "data": {
      "text/html": [
       "<div>\n",
       "<style scoped>\n",
       "    .dataframe tbody tr th:only-of-type {\n",
       "        vertical-align: middle;\n",
       "    }\n",
       "\n",
       "    .dataframe tbody tr th {\n",
       "        vertical-align: top;\n",
       "    }\n",
       "\n",
       "    .dataframe thead th {\n",
       "        text-align: right;\n",
       "    }\n",
       "</style>\n",
       "<table border=\"1\" class=\"dataframe\">\n",
       "  <thead>\n",
       "    <tr style=\"text-align: right;\">\n",
       "      <th></th>\n",
       "      <th>scan_id</th>\n",
       "      <th>time</th>\n",
       "      <th>plan_name</th>\n",
       "      <th>detectors</th>\n",
       "    </tr>\n",
       "  </thead>\n",
       "  <tbody>\n",
       "    <tr>\n",
       "      <th>0</th>\n",
       "      <td>28</td>\n",
       "      <td>2021-04-11 10:36:00</td>\n",
       "      <td>count</td>\n",
       "      <td>[scaler1, noisy]</td>\n",
       "    </tr>\n",
       "    <tr>\n",
       "      <th>1</th>\n",
       "      <td>27</td>\n",
       "      <td>2021-04-11 10:26:28</td>\n",
       "      <td>count</td>\n",
       "      <td>[temperature]</td>\n",
       "    </tr>\n",
       "    <tr>\n",
       "      <th>2</th>\n",
       "      <td>26</td>\n",
       "      <td>2021-04-11 10:26:07</td>\n",
       "      <td>count</td>\n",
       "      <td>[temperature]</td>\n",
       "    </tr>\n",
       "    <tr>\n",
       "      <th>3</th>\n",
       "      <td>20</td>\n",
       "      <td>2021-04-11 09:58:18</td>\n",
       "      <td>count</td>\n",
       "      <td>[scaler1]</td>\n",
       "    </tr>\n",
       "    <tr>\n",
       "      <th>4</th>\n",
       "      <td>19</td>\n",
       "      <td>2021-04-11 09:58:17</td>\n",
       "      <td>count</td>\n",
       "      <td>[scaler1]</td>\n",
       "    </tr>\n",
       "    <tr>\n",
       "      <th>5</th>\n",
       "      <td>25</td>\n",
       "      <td>2021-04-11 09:08:00</td>\n",
       "      <td>rel_scan</td>\n",
       "      <td>[noisy]</td>\n",
       "    </tr>\n",
       "    <tr>\n",
       "      <th>6</th>\n",
       "      <td>24</td>\n",
       "      <td>2021-04-11 09:07:53</td>\n",
       "      <td>rel_scan</td>\n",
       "      <td>[noisy]</td>\n",
       "    </tr>\n",
       "    <tr>\n",
       "      <th>7</th>\n",
       "      <td>23</td>\n",
       "      <td>2021-04-11 09:07:44</td>\n",
       "      <td>rel_scan</td>\n",
       "      <td>[noisy]</td>\n",
       "    </tr>\n",
       "    <tr>\n",
       "      <th>8</th>\n",
       "      <td>22</td>\n",
       "      <td>2021-04-11 09:07:26</td>\n",
       "      <td>rel_scan</td>\n",
       "      <td>[noisy]</td>\n",
       "    </tr>\n",
       "    <tr>\n",
       "      <th>9</th>\n",
       "      <td>21</td>\n",
       "      <td>2021-04-11 09:07:17</td>\n",
       "      <td>rel_scan</td>\n",
       "      <td>[noisy]</td>\n",
       "    </tr>\n",
       "    <tr>\n",
       "      <th>10</th>\n",
       "      <td>20</td>\n",
       "      <td>2021-04-11 09:07:02</td>\n",
       "      <td>rel_scan</td>\n",
       "      <td>[noisy]</td>\n",
       "    </tr>\n",
       "    <tr>\n",
       "      <th>11</th>\n",
       "      <td>19</td>\n",
       "      <td>2021-04-11 09:05:36</td>\n",
       "      <td>count</td>\n",
       "      <td>[adsimdet]</td>\n",
       "    </tr>\n",
       "    <tr>\n",
       "      <th>12</th>\n",
       "      <td>18</td>\n",
       "      <td>2021-04-11 09:04:37</td>\n",
       "      <td>count</td>\n",
       "      <td>[temperature]</td>\n",
       "    </tr>\n",
       "    <tr>\n",
       "      <th>13</th>\n",
       "      <td>17</td>\n",
       "      <td>2021-04-11 09:04:16</td>\n",
       "      <td>count</td>\n",
       "      <td>[temperature]</td>\n",
       "    </tr>\n",
       "    <tr>\n",
       "      <th>14</th>\n",
       "      <td>16</td>\n",
       "      <td>2021-04-11 09:04:15</td>\n",
       "      <td>count</td>\n",
       "      <td>[temperature]</td>\n",
       "    </tr>\n",
       "    <tr>\n",
       "      <th>15</th>\n",
       "      <td>15</td>\n",
       "      <td>2021-04-11 09:04:14</td>\n",
       "      <td>count</td>\n",
       "      <td>[temperature]</td>\n",
       "    </tr>\n",
       "    <tr>\n",
       "      <th>16</th>\n",
       "      <td>4</td>\n",
       "      <td>2021-04-11 08:56:33</td>\n",
       "      <td>scan</td>\n",
       "      <td>[vsc16]</td>\n",
       "    </tr>\n",
       "    <tr>\n",
       "      <th>17</th>\n",
       "      <td>3</td>\n",
       "      <td>2021-04-11 08:55:28</td>\n",
       "      <td>scan</td>\n",
       "      <td>[vsc16]</td>\n",
       "    </tr>\n",
       "    <tr>\n",
       "      <th>18</th>\n",
       "      <td>2</td>\n",
       "      <td>2021-04-11 08:52:07</td>\n",
       "      <td>scan</td>\n",
       "      <td>[vsc16]</td>\n",
       "    </tr>\n",
       "    <tr>\n",
       "      <th>19</th>\n",
       "      <td>1</td>\n",
       "      <td>2021-04-11 08:51:11</td>\n",
       "      <td>scan</td>\n",
       "      <td>[vsc16]</td>\n",
       "    </tr>\n",
       "  </tbody>\n",
       "</table>\n",
       "</div>"
      ],
      "text/plain": [
       "    scan_id                 time plan_name         detectors\n",
       "0        28  2021-04-11 10:36:00     count  [scaler1, noisy]\n",
       "1        27  2021-04-11 10:26:28     count     [temperature]\n",
       "2        26  2021-04-11 10:26:07     count     [temperature]\n",
       "3        20  2021-04-11 09:58:18     count         [scaler1]\n",
       "4        19  2021-04-11 09:58:17     count         [scaler1]\n",
       "5        25  2021-04-11 09:08:00  rel_scan           [noisy]\n",
       "6        24  2021-04-11 09:07:53  rel_scan           [noisy]\n",
       "7        23  2021-04-11 09:07:44  rel_scan           [noisy]\n",
       "8        22  2021-04-11 09:07:26  rel_scan           [noisy]\n",
       "9        21  2021-04-11 09:07:17  rel_scan           [noisy]\n",
       "10       20  2021-04-11 09:07:02  rel_scan           [noisy]\n",
       "11       19  2021-04-11 09:05:36     count        [adsimdet]\n",
       "12       18  2021-04-11 09:04:37     count     [temperature]\n",
       "13       17  2021-04-11 09:04:16     count     [temperature]\n",
       "14       16  2021-04-11 09:04:15     count     [temperature]\n",
       "15       15  2021-04-11 09:04:14     count     [temperature]\n",
       "16        4  2021-04-11 08:56:33      scan           [vsc16]\n",
       "17        3  2021-04-11 08:55:28      scan           [vsc16]\n",
       "18        2  2021-04-11 08:52:07      scan           [vsc16]\n",
       "19        1  2021-04-11 08:51:11      scan           [vsc16]"
      ]
     },
     "execution_count": 13,
     "metadata": {},
     "output_type": "execute_result"
    }
   ],
   "source": [
    "listruns()"
   ]
  },
  {
   "cell_type": "markdown",
   "id": "accompanied-bridal",
   "metadata": {},
   "source": [
    "## Challenges\n",
    "\n",
    "Try these additional modifications or activities.\n",
    "\n",
    "1. Write a custom `count()` plan that accepts a counting time (seconds) argument.\n",
    "2. Continue, making that counting argument optional with a default (such as 1 s)."
   ]
  }
 ],
 "metadata": {
  "kernelspec": {
   "display_name": "bluesky_2021_1",
   "language": "python",
   "name": "bluesky_2021_1"
  },
  "language_info": {
   "codemirror_mode": {
    "name": "ipython",
    "version": 3
   },
   "file_extension": ".py",
   "mimetype": "text/x-python",
   "name": "python",
   "nbconvert_exporter": "python",
   "pygments_lexer": "ipython3",
   "version": "3.8.8"
  }
 },
 "nbformat": 4,
 "nbformat_minor": 5
}
